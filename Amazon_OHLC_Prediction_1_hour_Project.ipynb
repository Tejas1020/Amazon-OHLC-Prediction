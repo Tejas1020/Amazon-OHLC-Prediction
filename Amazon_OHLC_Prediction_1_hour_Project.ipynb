{
  "nbformat": 4,
  "nbformat_minor": 0,
  "metadata": {
    "colab": {
      "provenance": []
    },
    "kernelspec": {
      "name": "python3",
      "display_name": "Python 3"
    },
    "language_info": {
      "name": "python"
    },
    "accelerator": "GPU",
    "gpuClass": "standard"
  },
  "cells": [
    {
      "cell_type": "code",
      "execution_count": null,
      "metadata": {
        "colab": {
          "base_uri": "https://localhost:8080/"
        },
        "id": "mgf7Xy7k6Hx0",
        "outputId": "a81366a7-eae6-4bbe-d403-4193e648342f"
      },
      "outputs": [
        {
          "output_type": "stream",
          "name": "stdout",
          "text": [
            "2.12.0\n",
            "GPU available (YESSSS!!!!!)\n"
          ]
        }
      ],
      "source": [
        "# Importing the Basic Libraries \n",
        "import matplotlib.pyplot as plt\n",
        "import numpy as np\n",
        "import pandas as pd\n",
        "import seaborn as sns \n",
        "import plotly.express as px\n",
        "import sklearn\n",
        "import tensorflow as tf\n",
        "print(tf.__version__)\n",
        "%matplotlib inline\n",
        "plt.style.use('default')\n",
        "\n",
        "# Check for GPU availability\n",
        "print(\"GPU\", \"available (YESSSS!!!!!)\" if tf.config.list_physical_devices(\"GPU\") else \"not available :(\")"
      ]
    },
    {
      "cell_type": "markdown",
      "source": [
        "* Here we will be using the Yahoo Finance Package `Yfinance` to get the latest Market Data\n",
        "* We will be using the `1 hr Interval `"
      ],
      "metadata": {
        "id": "MxglPsJU6TWM"
      }
    },
    {
      "cell_type": "code",
      "source": [
        "pip install yfinance"
      ],
      "metadata": {
        "id": "4UIQFTz_E-ob",
        "colab": {
          "base_uri": "https://localhost:8080/"
        },
        "outputId": "6f889e17-1cfc-4d0c-ad38-8e587b94bf11"
      },
      "execution_count": null,
      "outputs": [
        {
          "output_type": "stream",
          "name": "stdout",
          "text": [
            "Looking in indexes: https://pypi.org/simple, https://us-python.pkg.dev/colab-wheels/public/simple/\n",
            "Requirement already satisfied: yfinance in /usr/local/lib/python3.9/dist-packages (0.2.14)\n",
            "Requirement already satisfied: frozendict>=2.3.4 in /usr/local/lib/python3.9/dist-packages (from yfinance) (2.3.6)\n",
            "Requirement already satisfied: multitasking>=0.0.7 in /usr/local/lib/python3.9/dist-packages (from yfinance) (0.0.11)\n",
            "Requirement already satisfied: numpy>=1.16.5 in /usr/local/lib/python3.9/dist-packages (from yfinance) (1.22.4)\n",
            "Requirement already satisfied: pandas>=1.3.0 in /usr/local/lib/python3.9/dist-packages (from yfinance) (1.4.4)\n",
            "Requirement already satisfied: lxml>=4.9.1 in /usr/local/lib/python3.9/dist-packages (from yfinance) (4.9.2)\n",
            "Requirement already satisfied: appdirs>=1.4.4 in /usr/local/lib/python3.9/dist-packages (from yfinance) (1.4.4)\n",
            "Requirement already satisfied: html5lib>=1.1 in /usr/local/lib/python3.9/dist-packages (from yfinance) (1.1)\n",
            "Requirement already satisfied: cryptography>=3.3.2 in /usr/local/lib/python3.9/dist-packages (from yfinance) (40.0.1)\n",
            "Requirement already satisfied: requests>=2.26 in /usr/local/lib/python3.9/dist-packages (from yfinance) (2.27.1)\n",
            "Requirement already satisfied: pytz>=2022.5 in /usr/local/lib/python3.9/dist-packages (from yfinance) (2022.7.1)\n",
            "Requirement already satisfied: beautifulsoup4>=4.11.1 in /usr/local/lib/python3.9/dist-packages (from yfinance) (4.11.2)\n",
            "Requirement already satisfied: soupsieve>1.2 in /usr/local/lib/python3.9/dist-packages (from beautifulsoup4>=4.11.1->yfinance) (2.4)\n",
            "Requirement already satisfied: cffi>=1.12 in /usr/local/lib/python3.9/dist-packages (from cryptography>=3.3.2->yfinance) (1.15.1)\n",
            "Requirement already satisfied: six>=1.9 in /usr/local/lib/python3.9/dist-packages (from html5lib>=1.1->yfinance) (1.16.0)\n",
            "Requirement already satisfied: webencodings in /usr/local/lib/python3.9/dist-packages (from html5lib>=1.1->yfinance) (0.5.1)\n",
            "Requirement already satisfied: python-dateutil>=2.8.1 in /usr/local/lib/python3.9/dist-packages (from pandas>=1.3.0->yfinance) (2.8.2)\n",
            "Requirement already satisfied: certifi>=2017.4.17 in /usr/local/lib/python3.9/dist-packages (from requests>=2.26->yfinance) (2022.12.7)\n",
            "Requirement already satisfied: urllib3<1.27,>=1.21.1 in /usr/local/lib/python3.9/dist-packages (from requests>=2.26->yfinance) (1.26.15)\n",
            "Requirement already satisfied: idna<4,>=2.5 in /usr/local/lib/python3.9/dist-packages (from requests>=2.26->yfinance) (3.4)\n",
            "Requirement already satisfied: charset-normalizer~=2.0.0 in /usr/local/lib/python3.9/dist-packages (from requests>=2.26->yfinance) (2.0.12)\n",
            "Requirement already satisfied: pycparser in /usr/local/lib/python3.9/dist-packages (from cffi>=1.12->cryptography>=3.3.2->yfinance) (2.21)\n"
          ]
        }
      ]
    },
    {
      "cell_type": "code",
      "source": [
        "# Importing Data \n",
        "import datetime \n",
        "import yfinance as yf \n",
        "data = yf.download('AMZN' , period = '23mo' , interval = '1h')\n",
        "data"
      ],
      "metadata": {
        "id": "nUADVNw2F8tV",
        "colab": {
          "base_uri": "https://localhost:8080/",
          "height": 473
        },
        "outputId": "7588ad2b-b54c-40d4-b971-50971d8f1b5e"
      },
      "execution_count": null,
      "outputs": [
        {
          "output_type": "stream",
          "name": "stdout",
          "text": [
            "\r[*********************100%***********************]  1 of 1 completed\n"
          ]
        },
        {
          "output_type": "execute_result",
          "data": {
            "text/plain": [
              "                                 Open        High         Low       Close  \\\n",
              "Datetime                                                                    \n",
              "2021-05-03 12:30:00-04:00  169.899750  170.432709  169.205002  169.910278   \n",
              "2021-05-03 13:30:00-04:00  169.855255  170.457489  169.649994  169.918503   \n",
              "2021-05-03 14:30:00-04:00  169.942505  170.092499  169.050003  169.394989   \n",
              "2021-05-03 15:30:00-04:00  169.402863  169.412506  168.635056  169.324493   \n",
              "2021-05-04 09:30:00-04:00  167.750000  168.398758  165.899994  166.774506   \n",
              "...                               ...         ...         ...         ...   \n",
              "2023-03-31 15:30:00-04:00  103.187500  103.419998  102.720001  103.290001   \n",
              "2023-04-03 09:30:00-04:00  102.300003  103.290001  101.699997  102.980003   \n",
              "2023-04-03 10:30:00-04:00  102.985001  103.024002  101.830002  102.150002   \n",
              "2023-04-03 11:30:00-04:00  102.139999  102.349998  101.966103  102.180000   \n",
              "2023-04-03 12:30:00-04:00  102.180000  102.279999  101.730003  101.904999   \n",
              "\n",
              "                            Adj Close    Volume  \n",
              "Datetime                                         \n",
              "2021-05-03 12:30:00-04:00  169.910278         0  \n",
              "2021-05-03 13:30:00-04:00  169.918503    462145  \n",
              "2021-05-03 14:30:00-04:00  169.394989    488971  \n",
              "2021-05-03 15:30:00-04:00  169.324493    657362  \n",
              "2021-05-04 09:30:00-04:00  166.774506   1505140  \n",
              "...                               ...       ...  \n",
              "2023-03-31 15:30:00-04:00  103.290001   8403670  \n",
              "2023-04-03 09:30:00-04:00  102.980003  11205337  \n",
              "2023-04-03 10:30:00-04:00  102.150002   6041895  \n",
              "2023-04-03 11:30:00-04:00  102.180000   3046523  \n",
              "2023-04-03 12:30:00-04:00  101.904999   4417230  \n",
              "\n",
              "[3374 rows x 6 columns]"
            ],
            "text/html": [
              "\n",
              "  <div id=\"df-86704bf0-8f1c-4778-a7b1-93ba86b34a06\">\n",
              "    <div class=\"colab-df-container\">\n",
              "      <div>\n",
              "<style scoped>\n",
              "    .dataframe tbody tr th:only-of-type {\n",
              "        vertical-align: middle;\n",
              "    }\n",
              "\n",
              "    .dataframe tbody tr th {\n",
              "        vertical-align: top;\n",
              "    }\n",
              "\n",
              "    .dataframe thead th {\n",
              "        text-align: right;\n",
              "    }\n",
              "</style>\n",
              "<table border=\"1\" class=\"dataframe\">\n",
              "  <thead>\n",
              "    <tr style=\"text-align: right;\">\n",
              "      <th></th>\n",
              "      <th>Open</th>\n",
              "      <th>High</th>\n",
              "      <th>Low</th>\n",
              "      <th>Close</th>\n",
              "      <th>Adj Close</th>\n",
              "      <th>Volume</th>\n",
              "    </tr>\n",
              "    <tr>\n",
              "      <th>Datetime</th>\n",
              "      <th></th>\n",
              "      <th></th>\n",
              "      <th></th>\n",
              "      <th></th>\n",
              "      <th></th>\n",
              "      <th></th>\n",
              "    </tr>\n",
              "  </thead>\n",
              "  <tbody>\n",
              "    <tr>\n",
              "      <th>2021-05-03 12:30:00-04:00</th>\n",
              "      <td>169.899750</td>\n",
              "      <td>170.432709</td>\n",
              "      <td>169.205002</td>\n",
              "      <td>169.910278</td>\n",
              "      <td>169.910278</td>\n",
              "      <td>0</td>\n",
              "    </tr>\n",
              "    <tr>\n",
              "      <th>2021-05-03 13:30:00-04:00</th>\n",
              "      <td>169.855255</td>\n",
              "      <td>170.457489</td>\n",
              "      <td>169.649994</td>\n",
              "      <td>169.918503</td>\n",
              "      <td>169.918503</td>\n",
              "      <td>462145</td>\n",
              "    </tr>\n",
              "    <tr>\n",
              "      <th>2021-05-03 14:30:00-04:00</th>\n",
              "      <td>169.942505</td>\n",
              "      <td>170.092499</td>\n",
              "      <td>169.050003</td>\n",
              "      <td>169.394989</td>\n",
              "      <td>169.394989</td>\n",
              "      <td>488971</td>\n",
              "    </tr>\n",
              "    <tr>\n",
              "      <th>2021-05-03 15:30:00-04:00</th>\n",
              "      <td>169.402863</td>\n",
              "      <td>169.412506</td>\n",
              "      <td>168.635056</td>\n",
              "      <td>169.324493</td>\n",
              "      <td>169.324493</td>\n",
              "      <td>657362</td>\n",
              "    </tr>\n",
              "    <tr>\n",
              "      <th>2021-05-04 09:30:00-04:00</th>\n",
              "      <td>167.750000</td>\n",
              "      <td>168.398758</td>\n",
              "      <td>165.899994</td>\n",
              "      <td>166.774506</td>\n",
              "      <td>166.774506</td>\n",
              "      <td>1505140</td>\n",
              "    </tr>\n",
              "    <tr>\n",
              "      <th>...</th>\n",
              "      <td>...</td>\n",
              "      <td>...</td>\n",
              "      <td>...</td>\n",
              "      <td>...</td>\n",
              "      <td>...</td>\n",
              "      <td>...</td>\n",
              "    </tr>\n",
              "    <tr>\n",
              "      <th>2023-03-31 15:30:00-04:00</th>\n",
              "      <td>103.187500</td>\n",
              "      <td>103.419998</td>\n",
              "      <td>102.720001</td>\n",
              "      <td>103.290001</td>\n",
              "      <td>103.290001</td>\n",
              "      <td>8403670</td>\n",
              "    </tr>\n",
              "    <tr>\n",
              "      <th>2023-04-03 09:30:00-04:00</th>\n",
              "      <td>102.300003</td>\n",
              "      <td>103.290001</td>\n",
              "      <td>101.699997</td>\n",
              "      <td>102.980003</td>\n",
              "      <td>102.980003</td>\n",
              "      <td>11205337</td>\n",
              "    </tr>\n",
              "    <tr>\n",
              "      <th>2023-04-03 10:30:00-04:00</th>\n",
              "      <td>102.985001</td>\n",
              "      <td>103.024002</td>\n",
              "      <td>101.830002</td>\n",
              "      <td>102.150002</td>\n",
              "      <td>102.150002</td>\n",
              "      <td>6041895</td>\n",
              "    </tr>\n",
              "    <tr>\n",
              "      <th>2023-04-03 11:30:00-04:00</th>\n",
              "      <td>102.139999</td>\n",
              "      <td>102.349998</td>\n",
              "      <td>101.966103</td>\n",
              "      <td>102.180000</td>\n",
              "      <td>102.180000</td>\n",
              "      <td>3046523</td>\n",
              "    </tr>\n",
              "    <tr>\n",
              "      <th>2023-04-03 12:30:00-04:00</th>\n",
              "      <td>102.180000</td>\n",
              "      <td>102.279999</td>\n",
              "      <td>101.730003</td>\n",
              "      <td>101.904999</td>\n",
              "      <td>101.904999</td>\n",
              "      <td>4417230</td>\n",
              "    </tr>\n",
              "  </tbody>\n",
              "</table>\n",
              "<p>3374 rows × 6 columns</p>\n",
              "</div>\n",
              "      <button class=\"colab-df-convert\" onclick=\"convertToInteractive('df-86704bf0-8f1c-4778-a7b1-93ba86b34a06')\"\n",
              "              title=\"Convert this dataframe to an interactive table.\"\n",
              "              style=\"display:none;\">\n",
              "        \n",
              "  <svg xmlns=\"http://www.w3.org/2000/svg\" height=\"24px\"viewBox=\"0 0 24 24\"\n",
              "       width=\"24px\">\n",
              "    <path d=\"M0 0h24v24H0V0z\" fill=\"none\"/>\n",
              "    <path d=\"M18.56 5.44l.94 2.06.94-2.06 2.06-.94-2.06-.94-.94-2.06-.94 2.06-2.06.94zm-11 1L8.5 8.5l.94-2.06 2.06-.94-2.06-.94L8.5 2.5l-.94 2.06-2.06.94zm10 10l.94 2.06.94-2.06 2.06-.94-2.06-.94-.94-2.06-.94 2.06-2.06.94z\"/><path d=\"M17.41 7.96l-1.37-1.37c-.4-.4-.92-.59-1.43-.59-.52 0-1.04.2-1.43.59L10.3 9.45l-7.72 7.72c-.78.78-.78 2.05 0 2.83L4 21.41c.39.39.9.59 1.41.59.51 0 1.02-.2 1.41-.59l7.78-7.78 2.81-2.81c.8-.78.8-2.07 0-2.86zM5.41 20L4 18.59l7.72-7.72 1.47 1.35L5.41 20z\"/>\n",
              "  </svg>\n",
              "      </button>\n",
              "      \n",
              "  <style>\n",
              "    .colab-df-container {\n",
              "      display:flex;\n",
              "      flex-wrap:wrap;\n",
              "      gap: 12px;\n",
              "    }\n",
              "\n",
              "    .colab-df-convert {\n",
              "      background-color: #E8F0FE;\n",
              "      border: none;\n",
              "      border-radius: 50%;\n",
              "      cursor: pointer;\n",
              "      display: none;\n",
              "      fill: #1967D2;\n",
              "      height: 32px;\n",
              "      padding: 0 0 0 0;\n",
              "      width: 32px;\n",
              "    }\n",
              "\n",
              "    .colab-df-convert:hover {\n",
              "      background-color: #E2EBFA;\n",
              "      box-shadow: 0px 1px 2px rgba(60, 64, 67, 0.3), 0px 1px 3px 1px rgba(60, 64, 67, 0.15);\n",
              "      fill: #174EA6;\n",
              "    }\n",
              "\n",
              "    [theme=dark] .colab-df-convert {\n",
              "      background-color: #3B4455;\n",
              "      fill: #D2E3FC;\n",
              "    }\n",
              "\n",
              "    [theme=dark] .colab-df-convert:hover {\n",
              "      background-color: #434B5C;\n",
              "      box-shadow: 0px 1px 3px 1px rgba(0, 0, 0, 0.15);\n",
              "      filter: drop-shadow(0px 1px 2px rgba(0, 0, 0, 0.3));\n",
              "      fill: #FFFFFF;\n",
              "    }\n",
              "  </style>\n",
              "\n",
              "      <script>\n",
              "        const buttonEl =\n",
              "          document.querySelector('#df-86704bf0-8f1c-4778-a7b1-93ba86b34a06 button.colab-df-convert');\n",
              "        buttonEl.style.display =\n",
              "          google.colab.kernel.accessAllowed ? 'block' : 'none';\n",
              "\n",
              "        async function convertToInteractive(key) {\n",
              "          const element = document.querySelector('#df-86704bf0-8f1c-4778-a7b1-93ba86b34a06');\n",
              "          const dataTable =\n",
              "            await google.colab.kernel.invokeFunction('convertToInteractive',\n",
              "                                                     [key], {});\n",
              "          if (!dataTable) return;\n",
              "\n",
              "          const docLinkHtml = 'Like what you see? Visit the ' +\n",
              "            '<a target=\"_blank\" href=https://colab.research.google.com/notebooks/data_table.ipynb>data table notebook</a>'\n",
              "            + ' to learn more about interactive tables.';\n",
              "          element.innerHTML = '';\n",
              "          dataTable['output_type'] = 'display_data';\n",
              "          await google.colab.output.renderOutput(dataTable, element);\n",
              "          const docLink = document.createElement('div');\n",
              "          docLink.innerHTML = docLinkHtml;\n",
              "          element.appendChild(docLink);\n",
              "        }\n",
              "      </script>\n",
              "    </div>\n",
              "  </div>\n",
              "  "
            ]
          },
          "metadata": {},
          "execution_count": 3
        }
      ]
    },
    {
      "cell_type": "code",
      "source": [
        "len(data)"
      ],
      "metadata": {
        "id": "W50DHMgUHrZe",
        "colab": {
          "base_uri": "https://localhost:8080/"
        },
        "outputId": "f047ffe8-c7fd-45fb-a3ba-25b05e7eb8c4"
      },
      "execution_count": null,
      "outputs": [
        {
          "output_type": "execute_result",
          "data": {
            "text/plain": [
              "3374"
            ]
          },
          "metadata": {},
          "execution_count": 4
        }
      ]
    },
    {
      "cell_type": "code",
      "source": [
        "# Creating Another dataframe with only Datetime and Closing Price of the Stock \n",
        "stock_prices = pd.DataFrame(data[\"Close\"]).rename(columns = {\"Close\" : \"Price\"})\n",
        "stock_prices.head()"
      ],
      "metadata": {
        "id": "m-GD6qdlHuOc",
        "colab": {
          "base_uri": "https://localhost:8080/",
          "height": 237
        },
        "outputId": "d16384d5-fb25-4239-ffd1-4b2fbf24272d"
      },
      "execution_count": null,
      "outputs": [
        {
          "output_type": "execute_result",
          "data": {
            "text/plain": [
              "                                Price\n",
              "Datetime                             \n",
              "2021-05-03 12:30:00-04:00  169.910278\n",
              "2021-05-03 13:30:00-04:00  169.918503\n",
              "2021-05-03 14:30:00-04:00  169.394989\n",
              "2021-05-03 15:30:00-04:00  169.324493\n",
              "2021-05-04 09:30:00-04:00  166.774506"
            ],
            "text/html": [
              "\n",
              "  <div id=\"df-edc368fe-7d0a-408e-b9e2-61ce52b9f2d1\">\n",
              "    <div class=\"colab-df-container\">\n",
              "      <div>\n",
              "<style scoped>\n",
              "    .dataframe tbody tr th:only-of-type {\n",
              "        vertical-align: middle;\n",
              "    }\n",
              "\n",
              "    .dataframe tbody tr th {\n",
              "        vertical-align: top;\n",
              "    }\n",
              "\n",
              "    .dataframe thead th {\n",
              "        text-align: right;\n",
              "    }\n",
              "</style>\n",
              "<table border=\"1\" class=\"dataframe\">\n",
              "  <thead>\n",
              "    <tr style=\"text-align: right;\">\n",
              "      <th></th>\n",
              "      <th>Price</th>\n",
              "    </tr>\n",
              "    <tr>\n",
              "      <th>Datetime</th>\n",
              "      <th></th>\n",
              "    </tr>\n",
              "  </thead>\n",
              "  <tbody>\n",
              "    <tr>\n",
              "      <th>2021-05-03 12:30:00-04:00</th>\n",
              "      <td>169.910278</td>\n",
              "    </tr>\n",
              "    <tr>\n",
              "      <th>2021-05-03 13:30:00-04:00</th>\n",
              "      <td>169.918503</td>\n",
              "    </tr>\n",
              "    <tr>\n",
              "      <th>2021-05-03 14:30:00-04:00</th>\n",
              "      <td>169.394989</td>\n",
              "    </tr>\n",
              "    <tr>\n",
              "      <th>2021-05-03 15:30:00-04:00</th>\n",
              "      <td>169.324493</td>\n",
              "    </tr>\n",
              "    <tr>\n",
              "      <th>2021-05-04 09:30:00-04:00</th>\n",
              "      <td>166.774506</td>\n",
              "    </tr>\n",
              "  </tbody>\n",
              "</table>\n",
              "</div>\n",
              "      <button class=\"colab-df-convert\" onclick=\"convertToInteractive('df-edc368fe-7d0a-408e-b9e2-61ce52b9f2d1')\"\n",
              "              title=\"Convert this dataframe to an interactive table.\"\n",
              "              style=\"display:none;\">\n",
              "        \n",
              "  <svg xmlns=\"http://www.w3.org/2000/svg\" height=\"24px\"viewBox=\"0 0 24 24\"\n",
              "       width=\"24px\">\n",
              "    <path d=\"M0 0h24v24H0V0z\" fill=\"none\"/>\n",
              "    <path d=\"M18.56 5.44l.94 2.06.94-2.06 2.06-.94-2.06-.94-.94-2.06-.94 2.06-2.06.94zm-11 1L8.5 8.5l.94-2.06 2.06-.94-2.06-.94L8.5 2.5l-.94 2.06-2.06.94zm10 10l.94 2.06.94-2.06 2.06-.94-2.06-.94-.94-2.06-.94 2.06-2.06.94z\"/><path d=\"M17.41 7.96l-1.37-1.37c-.4-.4-.92-.59-1.43-.59-.52 0-1.04.2-1.43.59L10.3 9.45l-7.72 7.72c-.78.78-.78 2.05 0 2.83L4 21.41c.39.39.9.59 1.41.59.51 0 1.02-.2 1.41-.59l7.78-7.78 2.81-2.81c.8-.78.8-2.07 0-2.86zM5.41 20L4 18.59l7.72-7.72 1.47 1.35L5.41 20z\"/>\n",
              "  </svg>\n",
              "      </button>\n",
              "      \n",
              "  <style>\n",
              "    .colab-df-container {\n",
              "      display:flex;\n",
              "      flex-wrap:wrap;\n",
              "      gap: 12px;\n",
              "    }\n",
              "\n",
              "    .colab-df-convert {\n",
              "      background-color: #E8F0FE;\n",
              "      border: none;\n",
              "      border-radius: 50%;\n",
              "      cursor: pointer;\n",
              "      display: none;\n",
              "      fill: #1967D2;\n",
              "      height: 32px;\n",
              "      padding: 0 0 0 0;\n",
              "      width: 32px;\n",
              "    }\n",
              "\n",
              "    .colab-df-convert:hover {\n",
              "      background-color: #E2EBFA;\n",
              "      box-shadow: 0px 1px 2px rgba(60, 64, 67, 0.3), 0px 1px 3px 1px rgba(60, 64, 67, 0.15);\n",
              "      fill: #174EA6;\n",
              "    }\n",
              "\n",
              "    [theme=dark] .colab-df-convert {\n",
              "      background-color: #3B4455;\n",
              "      fill: #D2E3FC;\n",
              "    }\n",
              "\n",
              "    [theme=dark] .colab-df-convert:hover {\n",
              "      background-color: #434B5C;\n",
              "      box-shadow: 0px 1px 3px 1px rgba(0, 0, 0, 0.15);\n",
              "      filter: drop-shadow(0px 1px 2px rgba(0, 0, 0, 0.3));\n",
              "      fill: #FFFFFF;\n",
              "    }\n",
              "  </style>\n",
              "\n",
              "      <script>\n",
              "        const buttonEl =\n",
              "          document.querySelector('#df-edc368fe-7d0a-408e-b9e2-61ce52b9f2d1 button.colab-df-convert');\n",
              "        buttonEl.style.display =\n",
              "          google.colab.kernel.accessAllowed ? 'block' : 'none';\n",
              "\n",
              "        async function convertToInteractive(key) {\n",
              "          const element = document.querySelector('#df-edc368fe-7d0a-408e-b9e2-61ce52b9f2d1');\n",
              "          const dataTable =\n",
              "            await google.colab.kernel.invokeFunction('convertToInteractive',\n",
              "                                                     [key], {});\n",
              "          if (!dataTable) return;\n",
              "\n",
              "          const docLinkHtml = 'Like what you see? Visit the ' +\n",
              "            '<a target=\"_blank\" href=https://colab.research.google.com/notebooks/data_table.ipynb>data table notebook</a>'\n",
              "            + ' to learn more about interactive tables.';\n",
              "          element.innerHTML = '';\n",
              "          dataTable['output_type'] = 'display_data';\n",
              "          await google.colab.output.renderOutput(dataTable, element);\n",
              "          const docLink = document.createElement('div');\n",
              "          docLink.innerHTML = docLinkHtml;\n",
              "          element.appendChild(docLink);\n",
              "        }\n",
              "      </script>\n",
              "    </div>\n",
              "  </div>\n",
              "  "
            ]
          },
          "metadata": {},
          "execution_count": 5
        }
      ]
    },
    {
      "cell_type": "code",
      "source": [
        "# Plotting last 23 months price data \n",
        "stock_prices.plot(figsize = (10,7))\n",
        "plt.ylabel(\"Stock Price\")\n",
        "plt.title(\"Stock Price of last 23 months\" , fontsize = 16)\n",
        "plt.legend(fontsize = 14);"
      ],
      "metadata": {
        "id": "Xv_pUudzH9dn",
        "colab": {
          "base_uri": "https://localhost:8080/",
          "height": 607
        },
        "outputId": "1485edd0-7759-49ab-bdec-cde680bd567e"
      },
      "execution_count": null,
      "outputs": [
        {
          "output_type": "display_data",
          "data": {
            "text/plain": [
              "<Figure size 1000x700 with 1 Axes>"
            ],
            "image/png": "[encoded data removed]"
          },
          "metadata": {}
        }
      ]
    },
    {
      "cell_type": "markdown",
      "source": [
        "# Creating Train and Test Sets "
      ],
      "metadata": {
        "id": "SrowEkeEIXan"
      }
    },
    {
      "cell_type": "code",
      "source": [
        "# Getting the data into numpy array \n",
        "timestamps = stock_prices.index.to_numpy()\n",
        "prices = stock_prices[\"Price\"].to_numpy()\n",
        "timestamps[10:] , prices[10:]"
      ],
      "metadata": {
        "id": "Qz5k9U8sIRCZ",
        "colab": {
          "base_uri": "https://localhost:8080/"
        },
        "outputId": "8a3e86b4-f59d-4620-e13b-a4ea9e480268"
      },
      "execution_count": null,
      "outputs": [
        {
          "output_type": "execute_result",
          "data": {
            "text/plain": [
              "(array([Timestamp('2021-05-04 15:30:00-0400', tz='America/New_York'),\n",
              "        Timestamp('2021-05-05 09:30:00-0400', tz='America/New_York'),\n",
              "        Timestamp('2021-05-05 10:30:00-0400', tz='America/New_York'), ...,\n",
              "        Timestamp('2023-04-03 10:30:00-0400', tz='America/New_York'),\n",
              "        Timestamp('2023-04-03 11:30:00-0400', tz='America/New_York'),\n",
              "        Timestamp('2023-04-03 12:30:00-0400', tz='America/New_York')],\n",
              "       dtype=object),\n",
              " array([165.63249207, 165.58850098, 165.36724854, ..., 102.15000153,\n",
              "        102.18000031, 101.90499878]))"
            ]
          },
          "metadata": {},
          "execution_count": 7
        }
      ]
    },
    {
      "cell_type": "code",
      "source": [
        "# Create train and test splits\n",
        "\n",
        "split_size = int(0.8 * len(prices))\n",
        "\n",
        "X_train , y_train = timestamps[:split_size], prices[:split_size]\n",
        "X_test , y_test = timestamps[split_size:] , prices[split_size:]\n",
        "\n",
        "len(X_train) , len(X_test) , len(y_train) , len(y_test)"
      ],
      "metadata": {
        "id": "AWjoTK1OIqdr",
        "colab": {
          "base_uri": "https://localhost:8080/"
        },
        "outputId": "5cb66d8f-fb6a-405b-a5d3-e0b32ef0cb8e"
      },
      "execution_count": null,
      "outputs": [
        {
          "output_type": "execute_result",
          "data": {
            "text/plain": [
              "(2699, 675, 2699, 675)"
            ]
          },
          "metadata": {},
          "execution_count": 8
        }
      ]
    },
    {
      "cell_type": "code",
      "source": [
        "# Vizualizing the train and test data \n",
        "plt.figure(figsize = (10,7))\n",
        "plt.scatter(X_train , y_train , s = 5 , label = \"Train Data\")\n",
        "plt.scatter(X_test , y_test , s = 5 , label = \"Test Data\")\n",
        "plt.xlabel(\"Date\")\n",
        "plt.ylabel(\"Price\")\n",
        "plt.legend(fontsize = 14)\n",
        "plt.show();"
      ],
      "metadata": {
        "id": "wneW0zMqJNFm",
        "colab": {
          "base_uri": "https://localhost:8080/",
          "height": 619
        },
        "outputId": "1a6946ab-1f8b-48c9-d145-682f12d03824"
      },
      "execution_count": null,
      "outputs": [
        {
          "output_type": "display_data",
          "data": {
            "text/plain": [
              "<Figure size 1000x700 with 1 Axes>"
            ],
            "image/png": "[encoded data removed]"
          },
          "metadata": {}
        }
      ]
    },
    {
      "cell_type": "code",
      "source": [
        "# Creating function for plotting timeseries \n",
        "def plot_time_series(timestamps , values , format = \".\" , start = 0, end = None , label = None):\n",
        "  plt.plot(timestamps[start:end], values[start:end] , format , label = label)\n",
        "  plt.xlabel(\"Time\")\n",
        "  plt.ylabel(\"Price\")\n",
        "  if label:\n",
        "    plt.legend(fontsize=  14)\n",
        "  plt.grid(True)"
      ],
      "metadata": {
        "id": "0VJpiOeXJ0kK"
      },
      "execution_count": null,
      "outputs": []
    },
    {
      "cell_type": "markdown",
      "source": [
        "## Evaluating Model"
      ],
      "metadata": {
        "id": "8GO71hZyuhJm"
      }
    },
    {
      "cell_type": "code",
      "source": [
        "# Building MASE Function \n",
        "def mean_absoulte_scaled_error(y_true , y_pred):\n",
        "  mae = tf.reduce_mean(tf.abs(y_true - y_pred))\n",
        "  mae_naive_no_season = tf.reduce_mean(tf.abs(y_true[1:] - y_true[:-1]))\n",
        "  return mae / mae_naive_no_season"
      ],
      "metadata": {
        "id": "3_vjI_0Xuink"
      },
      "execution_count": null,
      "outputs": []
    },
    {
      "cell_type": "code",
      "source": [
        "def make_preds(model , input_data):\n",
        "  forecast = model.predict(input_data)\n",
        "  return tf.squeeze(forecast)"
      ],
      "metadata": {
        "id": "YA5i2_N-9WT8"
      },
      "execution_count": null,
      "outputs": []
    },
    {
      "cell_type": "code",
      "source": [
        "# Building function for evaluating\n",
        "def evaluate_preds(y_true , y_pred):\n",
        "  y_true =  tf.cast(y_true , dtype = tf.float32)\n",
        "  y_pred =  tf.cast(y_pred , dtype = tf.float32)\n",
        "\n",
        "  mae = tf.keras.metrics.mean_absolute_error(y_true , y_pred)\n",
        "  mse = tf.keras.metrics.mean_squared_error(y_true , y_pred)\n",
        "  rmse = tf.sqrt(mse)\n",
        "  mape = tf.keras.metrics.mean_absolute_percentage_error(y_true , y_pred)\n",
        "  mase = tf.keras.metrics.mean_absoulte_scaled_error(y_true , y_pred)\n",
        "\n",
        "  if mae.ndim > 0:\n",
        "    mae = tf.reduce_mean(mae)\n",
        "    mse = tf.reduce_mean(mse)\n",
        "    rmse = tf.reduce_mean(rmse)\n",
        "    mape = tf.reduce_mean(mape)\n",
        "    mase = tf.reduce_mean(mase)\n",
        "  \n",
        "  return {\n",
        "      \"mae\" : mae.numpy(),\n",
        "      \"mse\" : mse.numpy(),\n",
        "      \"rmse\" : rmse.numpy(),\n",
        "      \"mape\" : mape.numpy(),\n",
        "      \"mase\" : mase.numpy(),\n",
        "  }"
      ],
      "metadata": {
        "id": "8xgiiEIpDTce"
      },
      "execution_count": null,
      "outputs": []
    },
    {
      "cell_type": "markdown",
      "source": [
        "# Model Multivariate Time series\n",
        "\n",
        "Here we will use the `MACD` and the `Signal` of it to predict the model "
      ],
      "metadata": {
        "id": "SGqqUUVIzW2H"
      }
    },
    {
      "cell_type": "code",
      "source": [
        "# Define MACD parameters\n",
        "fast_period = 12\n",
        "slow_period = 26\n",
        "signal_period = 9\n",
        "\n",
        "# Calculate MACD using pandas\n",
        "ema_fast = pd.Series(data[\"Close\"]).ewm(span=fast_period).mean()\n",
        "ema_slow = pd.Series(data[\"Close\"]).ewm(span=slow_period).mean()\n",
        "macd = pd.Series(ema_fast - ema_slow, name=\"MACD\")\n",
        "signal = pd.Series(macd.ewm(span=signal_period).mean(), name=\"Signal\")"
      ],
      "metadata": {
        "id": "O09W06fFzn3r"
      },
      "execution_count": null,
      "outputs": []
    },
    {
      "cell_type": "code",
      "source": [
        "# Adding the MACD and Signal Column into our stock_price dataset\n",
        "stock_prices['Macd'] = macd\n",
        "stock_prices['Signal'] = signal\n",
        "stock_prices"
      ],
      "metadata": {
        "id": "RjgJq9VK0iBk",
        "colab": {
          "base_uri": "https://localhost:8080/",
          "height": 455
        },
        "outputId": "c3cfc67b-eac5-4ee5-9471-12081aa24814"
      },
      "execution_count": null,
      "outputs": [
        {
          "output_type": "execute_result",
          "data": {
            "text/plain": [
              "                                Price      Macd    Signal\n",
              "Datetime                                                 \n",
              "2021-05-03 12:30:00-04:00  169.910278  0.000000  0.000000\n",
              "2021-05-03 13:30:00-04:00  169.918503  0.000185  0.000103\n",
              "2021-05-03 14:30:00-04:00  169.394989 -0.015999 -0.006496\n",
              "2021-05-03 15:30:00-04:00  169.324493 -0.025513 -0.012938\n",
              "2021-05-04 09:30:00-04:00  166.774506 -0.131615 -0.048242\n",
              "...                               ...       ...       ...\n",
              "2023-03-31 15:30:00-04:00  103.290001  1.135583  1.057530\n",
              "2023-04-03 09:30:00-04:00  102.980003  1.094736  1.064971\n",
              "2023-04-03 10:30:00-04:00  102.150002  0.984046  1.048786\n",
              "2023-04-03 11:30:00-04:00  102.180000  0.888503  1.016729\n",
              "2023-04-03 12:30:00-04:00  101.904999  0.781584  0.969700\n",
              "\n",
              "[3374 rows x 3 columns]"
            ],
            "text/html": [
              "\n",
              "  <div id=\"df-9c03e4c0-f5df-4a34-bb23-bdcdd79195b1\">\n",
              "    <div class=\"colab-df-container\">\n",
              "      <div>\n",
              "<style scoped>\n",
              "    .dataframe tbody tr th:only-of-type {\n",
              "        vertical-align: middle;\n",
              "    }\n",
              "\n",
              "    .dataframe tbody tr th {\n",
              "        vertical-align: top;\n",
              "    }\n",
              "\n",
              "    .dataframe thead th {\n",
              "        text-align: right;\n",
              "    }\n",
              "</style>\n",
              "<table border=\"1\" class=\"dataframe\">\n",
              "  <thead>\n",
              "    <tr style=\"text-align: right;\">\n",
              "      <th></th>\n",
              "      <th>Price</th>\n",
              "      <th>Macd</th>\n",
              "      <th>Signal</th>\n",
              "    </tr>\n",
              "    <tr>\n",
              "      <th>Datetime</th>\n",
              "      <th></th>\n",
              "      <th></th>\n",
              "      <th></th>\n",
              "    </tr>\n",
              "  </thead>\n",
              "  <tbody>\n",
              "    <tr>\n",
              "      <th>2021-05-03 12:30:00-04:00</th>\n",
              "      <td>169.910278</td>\n",
              "      <td>0.000000</td>\n",
              "      <td>0.000000</td>\n",
              "    </tr>\n",
              "    <tr>\n",
              "      <th>2021-05-03 13:30:00-04:00</th>\n",
              "      <td>169.918503</td>\n",
              "      <td>0.000185</td>\n",
              "      <td>0.000103</td>\n",
              "    </tr>\n",
              "    <tr>\n",
              "      <th>2021-05-03 14:30:00-04:00</th>\n",
              "      <td>169.394989</td>\n",
              "      <td>-0.015999</td>\n",
              "      <td>-0.006496</td>\n",
              "    </tr>\n",
              "    <tr>\n",
              "      <th>2021-05-03 15:30:00-04:00</th>\n",
              "      <td>169.324493</td>\n",
              "      <td>-0.025513</td>\n",
              "      <td>-0.012938</td>\n",
              "    </tr>\n",
              "    <tr>\n",
              "      <th>2021-05-04 09:30:00-04:00</th>\n",
              "      <td>166.774506</td>\n",
              "      <td>-0.131615</td>\n",
              "      <td>-0.048242</td>\n",
              "    </tr>\n",
              "    <tr>\n",
              "      <th>...</th>\n",
              "      <td>...</td>\n",
              "      <td>...</td>\n",
              "      <td>...</td>\n",
              "    </tr>\n",
              "    <tr>\n",
              "      <th>2023-03-31 15:30:00-04:00</th>\n",
              "      <td>103.290001</td>\n",
              "      <td>1.135583</td>\n",
              "      <td>1.057530</td>\n",
              "    </tr>\n",
              "    <tr>\n",
              "      <th>2023-04-03 09:30:00-04:00</th>\n",
              "      <td>102.980003</td>\n",
              "      <td>1.094736</td>\n",
              "      <td>1.064971</td>\n",
              "    </tr>\n",
              "    <tr>\n",
              "      <th>2023-04-03 10:30:00-04:00</th>\n",
              "      <td>102.150002</td>\n",
              "      <td>0.984046</td>\n",
              "      <td>1.048786</td>\n",
              "    </tr>\n",
              "    <tr>\n",
              "      <th>2023-04-03 11:30:00-04:00</th>\n",
              "      <td>102.180000</td>\n",
              "      <td>0.888503</td>\n",
              "      <td>1.016729</td>\n",
              "    </tr>\n",
              "    <tr>\n",
              "      <th>2023-04-03 12:30:00-04:00</th>\n",
              "      <td>101.904999</td>\n",
              "      <td>0.781584</td>\n",
              "      <td>0.969700</td>\n",
              "    </tr>\n",
              "  </tbody>\n",
              "</table>\n",
              "<p>3374 rows × 3 columns</p>\n",
              "</div>\n",
              "      <button class=\"colab-df-convert\" onclick=\"convertToInteractive('df-9c03e4c0-f5df-4a34-bb23-bdcdd79195b1')\"\n",
              "              title=\"Convert this dataframe to an interactive table.\"\n",
              "              style=\"display:none;\">\n",
              "        \n",
              "  <svg xmlns=\"http://www.w3.org/2000/svg\" height=\"24px\"viewBox=\"0 0 24 24\"\n",
              "       width=\"24px\">\n",
              "    <path d=\"M0 0h24v24H0V0z\" fill=\"none\"/>\n",
              "    <path d=\"M18.56 5.44l.94 2.06.94-2.06 2.06-.94-2.06-.94-.94-2.06-.94 2.06-2.06.94zm-11 1L8.5 8.5l.94-2.06 2.06-.94-2.06-.94L8.5 2.5l-.94 2.06-2.06.94zm10 10l.94 2.06.94-2.06 2.06-.94-2.06-.94-.94-2.06-.94 2.06-2.06.94z\"/><path d=\"M17.41 7.96l-1.37-1.37c-.4-.4-.92-.59-1.43-.59-.52 0-1.04.2-1.43.59L10.3 9.45l-7.72 7.72c-.78.78-.78 2.05 0 2.83L4 21.41c.39.39.9.59 1.41.59.51 0 1.02-.2 1.41-.59l7.78-7.78 2.81-2.81c.8-.78.8-2.07 0-2.86zM5.41 20L4 18.59l7.72-7.72 1.47 1.35L5.41 20z\"/>\n",
              "  </svg>\n",
              "      </button>\n",
              "      \n",
              "  <style>\n",
              "    .colab-df-container {\n",
              "      display:flex;\n",
              "      flex-wrap:wrap;\n",
              "      gap: 12px;\n",
              "    }\n",
              "\n",
              "    .colab-df-convert {\n",
              "      background-color: #E8F0FE;\n",
              "      border: none;\n",
              "      border-radius: 50%;\n",
              "      cursor: pointer;\n",
              "      display: none;\n",
              "      fill: #1967D2;\n",
              "      height: 32px;\n",
              "      padding: 0 0 0 0;\n",
              "      width: 32px;\n",
              "    }\n",
              "\n",
              "    .colab-df-convert:hover {\n",
              "      background-color: #E2EBFA;\n",
              "      box-shadow: 0px 1px 2px rgba(60, 64, 67, 0.3), 0px 1px 3px 1px rgba(60, 64, 67, 0.15);\n",
              "      fill: #174EA6;\n",
              "    }\n",
              "\n",
              "    [theme=dark] .colab-df-convert {\n",
              "      background-color: #3B4455;\n",
              "      fill: #D2E3FC;\n",
              "    }\n",
              "\n",
              "    [theme=dark] .colab-df-convert:hover {\n",
              "      background-color: #434B5C;\n",
              "      box-shadow: 0px 1px 3px 1px rgba(0, 0, 0, 0.15);\n",
              "      filter: drop-shadow(0px 1px 2px rgba(0, 0, 0, 0.3));\n",
              "      fill: #FFFFFF;\n",
              "    }\n",
              "  </style>\n",
              "\n",
              "      <script>\n",
              "        const buttonEl =\n",
              "          document.querySelector('#df-9c03e4c0-f5df-4a34-bb23-bdcdd79195b1 button.colab-df-convert');\n",
              "        buttonEl.style.display =\n",
              "          google.colab.kernel.accessAllowed ? 'block' : 'none';\n",
              "\n",
              "        async function convertToInteractive(key) {\n",
              "          const element = document.querySelector('#df-9c03e4c0-f5df-4a34-bb23-bdcdd79195b1');\n",
              "          const dataTable =\n",
              "            await google.colab.kernel.invokeFunction('convertToInteractive',\n",
              "                                                     [key], {});\n",
              "          if (!dataTable) return;\n",
              "\n",
              "          const docLinkHtml = 'Like what you see? Visit the ' +\n",
              "            '<a target=\"_blank\" href=https://colab.research.google.com/notebooks/data_table.ipynb>data table notebook</a>'\n",
              "            + ' to learn more about interactive tables.';\n",
              "          element.innerHTML = '';\n",
              "          dataTable['output_type'] = 'display_data';\n",
              "          await google.colab.output.renderOutput(dataTable, element);\n",
              "          const docLink = document.createElement('div');\n",
              "          docLink.innerHTML = docLinkHtml;\n",
              "          element.appendChild(docLink);\n",
              "        }\n",
              "      </script>\n",
              "    </div>\n",
              "  </div>\n",
              "  "
            ]
          },
          "metadata": {},
          "execution_count": 15
        }
      ]
    },
    {
      "cell_type": "code",
      "source": [
        "# Plot the MACD\n",
        "stock_prices[\"Macd\"].plot(figsize=(10,7))\n",
        "stock_prices[\"Signal\"].plot(figsize=(10,7))\n",
        "stock_prices['Price'].plot(figsize=(10,7))\n",
        "plt.legend()"
      ],
      "metadata": {
        "id": "2xHKPtWU0k-C",
        "colab": {
          "base_uri": "https://localhost:8080/",
          "height": 601
        },
        "outputId": "6595fca4-c5ad-428e-f7fc-73799538196a"
      },
      "execution_count": null,
      "outputs": [
        {
          "output_type": "execute_result",
          "data": {
            "text/plain": [
              "<matplotlib.legend.Legend at 0x7f3fa7c98cd0>"
            ]
          },
          "metadata": {},
          "execution_count": 16
        },
        {
          "output_type": "display_data",
          "data": {
            "text/plain": [
              "<Figure size 1000x700 with 1 Axes>"
            ],
            "image/png": "[encoded data removed]"
          },
          "metadata": {}
        }
      ]
    },
    {
      "cell_type": "code",
      "source": [
        "HORIZON =  1\n",
        "WINDOW_SIZE = 7"
      ],
      "metadata": {
        "id": "1RtG4NGa0mqu"
      },
      "execution_count": null,
      "outputs": []
    },
    {
      "cell_type": "code",
      "source": [
        "# Making copy of our stock_price dataframe\n",
        "stock_prices_windowed = stock_prices.copy()\n",
        "\n",
        "# Adding Windows in a Range\n",
        "for i in range(WINDOW_SIZE):\n",
        "  stock_prices_windowed[f\"Price+{i+1}\"] = stock_prices_windowed[\"Price\"].shift(periods = i+1)\n",
        "stock_prices_windowed.tail(10)"
      ],
      "metadata": {
        "id": "E8B_Tx_s0p0Z",
        "colab": {
          "base_uri": "https://localhost:8080/",
          "height": 394
        },
        "outputId": "da6d85d3-413b-4dbc-fe9d-5ca7f0064725"
      },
      "execution_count": null,
      "outputs": [
        {
          "output_type": "execute_result",
          "data": {
            "text/plain": [
              "                                Price      Macd    Signal     Price+1  \\\n",
              "Datetime                                                                \n",
              "2023-03-31 10:30:00-04:00  102.910004  1.098868  0.887494  102.489998   \n",
              "2023-03-31 11:30:00-04:00  103.135002  1.143383  0.938672  102.910004   \n",
              "2023-03-31 12:30:00-04:00  102.949997  1.150472  0.981032  103.135002   \n",
              "2023-03-31 13:30:00-04:00  102.900002  1.138927  1.012611  102.949997   \n",
              "2023-03-31 14:30:00-04:00  103.184998  1.139637  1.038016  102.900002   \n",
              "2023-03-31 15:30:00-04:00  103.290001  1.135583  1.057530  103.184998   \n",
              "2023-04-03 09:30:00-04:00  102.980003  1.094736  1.064971  103.290001   \n",
              "2023-04-03 10:30:00-04:00  102.150002  0.984046  1.048786  102.980003   \n",
              "2023-04-03 11:30:00-04:00  102.180000  0.888503  1.016729  102.150002   \n",
              "2023-04-03 12:30:00-04:00  101.904999  0.781584  0.969700  102.180000   \n",
              "\n",
              "                              Price+2     Price+3     Price+4     Price+5  \\\n",
              "Datetime                                                                    \n",
              "2023-03-31 10:30:00-04:00  102.000000  101.949997  101.654999  101.629997   \n",
              "2023-03-31 11:30:00-04:00  102.489998  102.000000  101.949997  101.654999   \n",
              "2023-03-31 12:30:00-04:00  102.910004  102.489998  102.000000  101.949997   \n",
              "2023-03-31 13:30:00-04:00  103.135002  102.910004  102.489998  102.000000   \n",
              "2023-03-31 14:30:00-04:00  102.949997  103.135002  102.910004  102.489998   \n",
              "2023-03-31 15:30:00-04:00  102.900002  102.949997  103.135002  102.910004   \n",
              "2023-04-03 09:30:00-04:00  103.184998  102.900002  102.949997  103.135002   \n",
              "2023-04-03 10:30:00-04:00  103.290001  103.184998  102.900002  102.949997   \n",
              "2023-04-03 11:30:00-04:00  102.980003  103.290001  103.184998  102.900002   \n",
              "2023-04-03 12:30:00-04:00  102.150002  102.980003  103.290001  103.184998   \n",
              "\n",
              "                              Price+6     Price+7  \n",
              "Datetime                                           \n",
              "2023-03-31 10:30:00-04:00  102.049896  102.315002  \n",
              "2023-03-31 11:30:00-04:00  101.629997  102.049896  \n",
              "2023-03-31 12:30:00-04:00  101.654999  101.629997  \n",
              "2023-03-31 13:30:00-04:00  101.949997  101.654999  \n",
              "2023-03-31 14:30:00-04:00  102.000000  101.949997  \n",
              "2023-03-31 15:30:00-04:00  102.489998  102.000000  \n",
              "2023-04-03 09:30:00-04:00  102.910004  102.489998  \n",
              "2023-04-03 10:30:00-04:00  103.135002  102.910004  \n",
              "2023-04-03 11:30:00-04:00  102.949997  103.135002  \n",
              "2023-04-03 12:30:00-04:00  102.900002  102.949997  "
            ],
            "text/html": [
              "\n",
              "  <div id=\"df-c1e6d177-570d-446a-a045-1d6c5f17bc5e\">\n",
              "    <div class=\"colab-df-container\">\n",
              "      <div>\n",
              "<style scoped>\n",
              "    .dataframe tbody tr th:only-of-type {\n",
              "        vertical-align: middle;\n",
              "    }\n",
              "\n",
              "    .dataframe tbody tr th {\n",
              "        vertical-align: top;\n",
              "    }\n",
              "\n",
              "    .dataframe thead th {\n",
              "        text-align: right;\n",
              "    }\n",
              "</style>\n",
              "<table border=\"1\" class=\"dataframe\">\n",
              "  <thead>\n",
              "    <tr style=\"text-align: right;\">\n",
              "      <th></th>\n",
              "      <th>Price</th>\n",
              "      <th>Macd</th>\n",
              "      <th>Signal</th>\n",
              "      <th>Price+1</th>\n",
              "      <th>Price+2</th>\n",
              "      <th>Price+3</th>\n",
              "      <th>Price+4</th>\n",
              "      <th>Price+5</th>\n",
              "      <th>Price+6</th>\n",
              "      <th>Price+7</th>\n",
              "    </tr>\n",
              "    <tr>\n",
              "      <th>Datetime</th>\n",
              "      <th></th>\n",
              "      <th></th>\n",
              "      <th></th>\n",
              "      <th></th>\n",
              "      <th></th>\n",
              "      <th></th>\n",
              "      <th></th>\n",
              "      <th></th>\n",
              "      <th></th>\n",
              "      <th></th>\n",
              "    </tr>\n",
              "  </thead>\n",
              "  <tbody>\n",
              "    <tr>\n",
              "      <th>2023-03-31 10:30:00-04:00</th>\n",
              "      <td>102.910004</td>\n",
              "      <td>1.098868</td>\n",
              "      <td>0.887494</td>\n",
              "      <td>102.489998</td>\n",
              "      <td>102.000000</td>\n",
              "      <td>101.949997</td>\n",
              "      <td>101.654999</td>\n",
              "      <td>101.629997</td>\n",
              "      <td>102.049896</td>\n",
              "      <td>102.315002</td>\n",
              "    </tr>\n",
              "    <tr>\n",
              "      <th>2023-03-31 11:30:00-04:00</th>\n",
              "      <td>103.135002</td>\n",
              "      <td>1.143383</td>\n",
              "      <td>0.938672</td>\n",
              "      <td>102.910004</td>\n",
              "      <td>102.489998</td>\n",
              "      <td>102.000000</td>\n",
              "      <td>101.949997</td>\n",
              "      <td>101.654999</td>\n",
              "      <td>101.629997</td>\n",
              "      <td>102.049896</td>\n",
              "    </tr>\n",
              "    <tr>\n",
              "      <th>2023-03-31 12:30:00-04:00</th>\n",
              "      <td>102.949997</td>\n",
              "      <td>1.150472</td>\n",
              "      <td>0.981032</td>\n",
              "      <td>103.135002</td>\n",
              "      <td>102.910004</td>\n",
              "      <td>102.489998</td>\n",
              "      <td>102.000000</td>\n",
              "      <td>101.949997</td>\n",
              "      <td>101.654999</td>\n",
              "      <td>101.629997</td>\n",
              "    </tr>\n",
              "    <tr>\n",
              "      <th>2023-03-31 13:30:00-04:00</th>\n",
              "      <td>102.900002</td>\n",
              "      <td>1.138927</td>\n",
              "      <td>1.012611</td>\n",
              "      <td>102.949997</td>\n",
              "      <td>103.135002</td>\n",
              "      <td>102.910004</td>\n",
              "      <td>102.489998</td>\n",
              "      <td>102.000000</td>\n",
              "      <td>101.949997</td>\n",
              "      <td>101.654999</td>\n",
              "    </tr>\n",
              "    <tr>\n",
              "      <th>2023-03-31 14:30:00-04:00</th>\n",
              "      <td>103.184998</td>\n",
              "      <td>1.139637</td>\n",
              "      <td>1.038016</td>\n",
              "      <td>102.900002</td>\n",
              "      <td>102.949997</td>\n",
              "      <td>103.135002</td>\n",
              "      <td>102.910004</td>\n",
              "      <td>102.489998</td>\n",
              "      <td>102.000000</td>\n",
              "      <td>101.949997</td>\n",
              "    </tr>\n",
              "    <tr>\n",
              "      <th>2023-03-31 15:30:00-04:00</th>\n",
              "      <td>103.290001</td>\n",
              "      <td>1.135583</td>\n",
              "      <td>1.057530</td>\n",
              "      <td>103.184998</td>\n",
              "      <td>102.900002</td>\n",
              "      <td>102.949997</td>\n",
              "      <td>103.135002</td>\n",
              "      <td>102.910004</td>\n",
              "      <td>102.489998</td>\n",
              "      <td>102.000000</td>\n",
              "    </tr>\n",
              "    <tr>\n",
              "      <th>2023-04-03 09:30:00-04:00</th>\n",
              "      <td>102.980003</td>\n",
              "      <td>1.094736</td>\n",
              "      <td>1.064971</td>\n",
              "      <td>103.290001</td>\n",
              "      <td>103.184998</td>\n",
              "      <td>102.900002</td>\n",
              "      <td>102.949997</td>\n",
              "      <td>103.135002</td>\n",
              "      <td>102.910004</td>\n",
              "      <td>102.489998</td>\n",
              "    </tr>\n",
              "    <tr>\n",
              "      <th>2023-04-03 10:30:00-04:00</th>\n",
              "      <td>102.150002</td>\n",
              "      <td>0.984046</td>\n",
              "      <td>1.048786</td>\n",
              "      <td>102.980003</td>\n",
              "      <td>103.290001</td>\n",
              "      <td>103.184998</td>\n",
              "      <td>102.900002</td>\n",
              "      <td>102.949997</td>\n",
              "      <td>103.135002</td>\n",
              "      <td>102.910004</td>\n",
              "    </tr>\n",
              "    <tr>\n",
              "      <th>2023-04-03 11:30:00-04:00</th>\n",
              "      <td>102.180000</td>\n",
              "      <td>0.888503</td>\n",
              "      <td>1.016729</td>\n",
              "      <td>102.150002</td>\n",
              "      <td>102.980003</td>\n",
              "      <td>103.290001</td>\n",
              "      <td>103.184998</td>\n",
              "      <td>102.900002</td>\n",
              "      <td>102.949997</td>\n",
              "      <td>103.135002</td>\n",
              "    </tr>\n",
              "    <tr>\n",
              "      <th>2023-04-03 12:30:00-04:00</th>\n",
              "      <td>101.904999</td>\n",
              "      <td>0.781584</td>\n",
              "      <td>0.969700</td>\n",
              "      <td>102.180000</td>\n",
              "      <td>102.150002</td>\n",
              "      <td>102.980003</td>\n",
              "      <td>103.290001</td>\n",
              "      <td>103.184998</td>\n",
              "      <td>102.900002</td>\n",
              "      <td>102.949997</td>\n",
              "    </tr>\n",
              "  </tbody>\n",
              "</table>\n",
              "</div>\n",
              "      <button class=\"colab-df-convert\" onclick=\"convertToInteractive('df-c1e6d177-570d-446a-a045-1d6c5f17bc5e')\"\n",
              "              title=\"Convert this dataframe to an interactive table.\"\n",
              "              style=\"display:none;\">\n",
              "        \n",
              "  <svg xmlns=\"http://www.w3.org/2000/svg\" height=\"24px\"viewBox=\"0 0 24 24\"\n",
              "       width=\"24px\">\n",
              "    <path d=\"M0 0h24v24H0V0z\" fill=\"none\"/>\n",
              "    <path d=\"M18.56 5.44l.94 2.06.94-2.06 2.06-.94-2.06-.94-.94-2.06-.94 2.06-2.06.94zm-11 1L8.5 8.5l.94-2.06 2.06-.94-2.06-.94L8.5 2.5l-.94 2.06-2.06.94zm10 10l.94 2.06.94-2.06 2.06-.94-2.06-.94-.94-2.06-.94 2.06-2.06.94z\"/><path d=\"M17.41 7.96l-1.37-1.37c-.4-.4-.92-.59-1.43-.59-.52 0-1.04.2-1.43.59L10.3 9.45l-7.72 7.72c-.78.78-.78 2.05 0 2.83L4 21.41c.39.39.9.59 1.41.59.51 0 1.02-.2 1.41-.59l7.78-7.78 2.81-2.81c.8-.78.8-2.07 0-2.86zM5.41 20L4 18.59l7.72-7.72 1.47 1.35L5.41 20z\"/>\n",
              "  </svg>\n",
              "      </button>\n",
              "      \n",
              "  <style>\n",
              "    .colab-df-container {\n",
              "      display:flex;\n",
              "      flex-wrap:wrap;\n",
              "      gap: 12px;\n",
              "    }\n",
              "\n",
              "    .colab-df-convert {\n",
              "      background-color: #E8F0FE;\n",
              "      border: none;\n",
              "      border-radius: 50%;\n",
              "      cursor: pointer;\n",
              "      display: none;\n",
              "      fill: #1967D2;\n",
              "      height: 32px;\n",
              "      padding: 0 0 0 0;\n",
              "      width: 32px;\n",
              "    }\n",
              "\n",
              "    .colab-df-convert:hover {\n",
              "      background-color: #E2EBFA;\n",
              "      box-shadow: 0px 1px 2px rgba(60, 64, 67, 0.3), 0px 1px 3px 1px rgba(60, 64, 67, 0.15);\n",
              "      fill: #174EA6;\n",
              "    }\n",
              "\n",
              "    [theme=dark] .colab-df-convert {\n",
              "      background-color: #3B4455;\n",
              "      fill: #D2E3FC;\n",
              "    }\n",
              "\n",
              "    [theme=dark] .colab-df-convert:hover {\n",
              "      background-color: #434B5C;\n",
              "      box-shadow: 0px 1px 3px 1px rgba(0, 0, 0, 0.15);\n",
              "      filter: drop-shadow(0px 1px 2px rgba(0, 0, 0, 0.3));\n",
              "      fill: #FFFFFF;\n",
              "    }\n",
              "  </style>\n",
              "\n",
              "      <script>\n",
              "        const buttonEl =\n",
              "          document.querySelector('#df-c1e6d177-570d-446a-a045-1d6c5f17bc5e button.colab-df-convert');\n",
              "        buttonEl.style.display =\n",
              "          google.colab.kernel.accessAllowed ? 'block' : 'none';\n",
              "\n",
              "        async function convertToInteractive(key) {\n",
              "          const element = document.querySelector('#df-c1e6d177-570d-446a-a045-1d6c5f17bc5e');\n",
              "          const dataTable =\n",
              "            await google.colab.kernel.invokeFunction('convertToInteractive',\n",
              "                                                     [key], {});\n",
              "          if (!dataTable) return;\n",
              "\n",
              "          const docLinkHtml = 'Like what you see? Visit the ' +\n",
              "            '<a target=\"_blank\" href=https://colab.research.google.com/notebooks/data_table.ipynb>data table notebook</a>'\n",
              "            + ' to learn more about interactive tables.';\n",
              "          element.innerHTML = '';\n",
              "          dataTable['output_type'] = 'display_data';\n",
              "          await google.colab.output.renderOutput(dataTable, element);\n",
              "          const docLink = document.createElement('div');\n",
              "          docLink.innerHTML = docLinkHtml;\n",
              "          element.appendChild(docLink);\n",
              "        }\n",
              "      </script>\n",
              "    </div>\n",
              "  </div>\n",
              "  "
            ]
          },
          "metadata": {},
          "execution_count": 18
        }
      ]
    },
    {
      "cell_type": "code",
      "source": [
        "# Creating X (Window) and Y (Horizon) features\n",
        "X = stock_prices_windowed.dropna().drop(\"Price\" , axis = 1).astype(np.float32)\n",
        "Y = stock_prices_windowed.dropna()[\"Price\"].astype(np.float32)"
      ],
      "metadata": {
        "id": "OGkEfcYz0x9X"
      },
      "execution_count": null,
      "outputs": []
    },
    {
      "cell_type": "code",
      "source": [
        "# SPlitting the Train and Test using Indexing \n",
        "split_size = int(len(X) * 0.8)\n",
        "X_train , Y_train , = X[:split_size] , Y[:split_size] # Training on past\n",
        "X_test , Y_test = X[split_size:] , Y[split_size:] # Testing on Present\n",
        "\n",
        "len(X_train) , len(Y_train) , len(X_test) , len(Y_test)"
      ],
      "metadata": {
        "id": "VjemE_R90ytv",
        "colab": {
          "base_uri": "https://localhost:8080/"
        },
        "outputId": "1aa96341-85ba-479c-a26a-332dccca806e"
      },
      "execution_count": null,
      "outputs": [
        {
          "output_type": "execute_result",
          "data": {
            "text/plain": [
              "(2693, 2693, 674, 674)"
            ]
          },
          "metadata": {},
          "execution_count": 20
        }
      ]
    },
    {
      "cell_type": "markdown",
      "source": [
        "## Modelling Checkpoint Callback \n",
        "this will help us to enable and let us know from which epoch does the loss get more bigger "
      ],
      "metadata": {
        "id": "VwtVHPPh_ORV"
      }
    },
    {
      "cell_type": "code",
      "source": [
        "import os \n",
        "\n",
        "# Function to implement a modelcheckpoint callback with a specific filename\n",
        "def create_model_checkpoint(model_name, save_path = \"/content/drive/MyDrive/Best_Models_Projects/Amazon_1d_Best_Model\"):\n",
        "  return tf.keras.callbacks.ModelCheckpoint(filepath=os.path.join(save_path, model_name), \n",
        "                                            verbose = 1,\n",
        "                                            save_best_only = True,\n",
        "                                            )"
      ],
      "metadata": {
        "id": "RcwTXmqN_MDJ"
      },
      "execution_count": null,
      "outputs": []
    },
    {
      "cell_type": "markdown",
      "source": [
        "# Modelling "
      ],
      "metadata": {
        "id": "h-LRCB7rKaLT"
      }
    },
    {
      "cell_type": "markdown",
      "source": [
        "## Model 1 "
      ],
      "metadata": {
        "id": "2I5XamyFAcTn"
      }
    },
    {
      "cell_type": "code",
      "source": [
        "# Building the model 1 on (Multivariate Time Series)\n",
        "tf.random.set_seed(42)\n",
        "\n",
        "model_1 = tf.keras.Sequential([\n",
        "    tf.keras.layers.Dense(128 , activation = tf.keras.activations.relu),\n",
        "    tf.keras.layers.Dense(HORIZON)\n",
        "], name = \"model_1_multivariate\")\n",
        "\n",
        "model_1.compile(\n",
        "    loss = tf.keras.losses.mae,\n",
        "    optimizer = tf.keras.optimizers.Adam(),\n",
        "    metrics = [\"mae\" , \"mse\"],\n",
        ")\n",
        "\n",
        "history_1 = model_1.fit(\n",
        "    x = X_train,\n",
        "    y = Y_train,\n",
        "    epochs = 100,\n",
        "    batch_size = 128,\n",
        "    verbose = 1,\n",
        "    validation_data = (X_test , Y_test),\n",
        "    callbacks = [create_model_checkpoint(model_name = model_1.name)]\n",
        ")"
      ],
      "metadata": {
        "id": "eC7v9mQ201Bt",
        "colab": {
          "base_uri": "https://localhost:8080/"
        },
        "outputId": "0243321c-830d-4238-cbc6-4962a406f2a3"
      },
      "execution_count": null,
      "outputs": [
        {
          "output_type": "stream",
          "name": "stdout",
          "text": [
            "Epoch 1/100\n",
            "16/22 [====================>.........] - ETA: 0s - loss: 150.3926 - mae: 150.3926 - mse: 25117.9512 \n",
            "Epoch 1: val_loss improved from inf to 9.44209, saving model to /content/drive/MyDrive/Best_Models_Projects/Amazon_1d_Best_Model/model_1_multivariate\n"
          ]
        },
        {
          "output_type": "stream",
          "name": "stderr",
          "text": [
            "WARNING:absl:Found untraced functions such as _update_step_xla while saving (showing 1 of 1). These functions will not be directly callable after loading.\n"
          ]
        },
        {
          "output_type": "stream",
          "name": "stdout",
          "text": [
            "\b\b\b\b\b\b\b\b\b\b\b\b\b\b\b\b\b\b\b\b\b\b\b\b\b\b\b\b\b\b\b\b\b\b\b\b\b\b\b\b\b\b\b\b\b\b\b\b\b\b\b\b\b\b\b\b\b\b\b\b\b\b\b\b\b\b\b\b\b\b\b\b\b\b\b\b\b\b\b\b\b\b\b\b\b\b\b\b\b\b\b\b\b\b\b\b\b\b\b\r22/22 [==============================] - 3s 43ms/step - loss: 127.0249 - mae: 127.0249 - mse: 19837.9844 - val_loss: 9.4421 - val_mae: 9.4421 - val_mse: 92.0572\n",
            "Epoch 2/100\n",
            "19/22 [========================>.....] - ETA: 0s - loss: 14.6434 - mae: 14.6434 - mse: 289.8290\n",
            "Epoch 2: val_loss improved from 9.44209 to 5.57762, saving model to /content/drive/MyDrive/Best_Models_Projects/Amazon_1d_Best_Model/model_1_multivariate\n"
          ]
        },
        {
          "output_type": "stream",
          "name": "stderr",
          "text": [
            "WARNING:absl:Found untraced functions such as _update_step_xla while saving (showing 1 of 1). These functions will not be directly callable after loading.\n"
          ]
        },
        {
          "output_type": "stream",
          "name": "stdout",
          "text": [
            "\b\b\b\b\b\b\b\b\b\b\b\b\b\b\b\b\b\b\b\b\b\b\b\b\b\b\b\b\b\b\b\b\b\b\b\b\b\b\b\b\b\b\b\b\b\b\b\b\b\b\b\b\b\b\b\b\b\b\b\b\b\b\b\b\b\b\b\b\b\b\b\b\b\b\b\b\b\b\b\b\b\b\b\b\b\b\b\b\b\b\b\b\b\b\b\r22/22 [==============================] - 1s 29ms/step - loss: 14.2966 - mae: 14.2966 - mse: 274.4789 - val_loss: 5.5776 - val_mae: 5.5776 - val_mse: 33.7585\n",
            "Epoch 3/100\n",
            "19/22 [========================>.....] - ETA: 0s - loss: 4.0196 - mae: 4.0196 - mse: 24.1812\n",
            "Epoch 3: val_loss improved from 5.57762 to 1.32682, saving model to /content/drive/MyDrive/Best_Models_Projects/Amazon_1d_Best_Model/model_1_multivariate\n"
          ]
        },
        {
          "output_type": "stream",
          "name": "stderr",
          "text": [
            "WARNING:absl:Found untraced functions such as _update_step_xla while saving (showing 1 of 1). These functions will not be directly callable after loading.\n"
          ]
        },
        {
          "output_type": "stream",
          "name": "stdout",
          "text": [
            "\b\b\b\b\b\b\b\b\b\b\b\b\b\b\b\b\b\b\b\b\b\b\b\b\b\b\b\b\b\b\b\b\b\b\b\b\b\b\b\b\b\b\b\b\b\b\b\b\b\b\b\b\b\b\b\b\b\b\b\b\b\b\b\b\b\b\b\b\b\b\b\b\b\b\b\b\b\b\b\b\b\b\b\b\b\b\b\b\b\b\b\b\r22/22 [==============================] - 1s 30ms/step - loss: 3.8915 - mae: 3.8915 - mse: 22.9396 - val_loss: 1.3268 - val_mae: 1.3268 - val_mse: 3.0809\n",
            "Epoch 4/100\n",
            "12/22 [===============>..............] - ETA: 0s - loss: 2.0993 - mae: 2.0993 - mse: 7.5699\n",
            "Epoch 4: val_loss improved from 1.32682 to 1.09695, saving model to /content/drive/MyDrive/Best_Models_Projects/Amazon_1d_Best_Model/model_1_multivariate\n"
          ]
        },
        {
          "output_type": "stream",
          "name": "stderr",
          "text": [
            "WARNING:absl:Found untraced functions such as _update_step_xla while saving (showing 1 of 1). These functions will not be directly callable after loading.\n"
          ]
        },
        {
          "output_type": "stream",
          "name": "stdout",
          "text": [
            "\b\b\b\b\b\b\b\b\b\b\b\b\b\b\b\b\b\b\b\b\b\b\b\b\b\b\b\b\b\b\b\b\b\b\b\b\b\b\b\b\b\b\b\b\b\b\b\b\b\b\b\b\b\b\b\b\b\b\b\b\b\b\b\b\b\b\b\b\b\b\b\b\b\b\b\b\b\b\b\b\b\b\b\b\b\b\b\b\b\b\b\r22/22 [==============================] - 1s 41ms/step - loss: 1.9073 - mae: 1.9073 - mse: 6.4799 - val_loss: 1.0970 - val_mae: 1.0970 - val_mse: 2.1540\n",
            "Epoch 5/100\n",
            "13/22 [================>.............] - ETA: 0s - loss: 1.4460 - mae: 1.4460 - mse: 4.2442\n",
            "Epoch 5: val_loss improved from 1.09695 to 1.04852, saving model to /content/drive/MyDrive/Best_Models_Projects/Amazon_1d_Best_Model/model_1_multivariate\n"
          ]
        },
        {
          "output_type": "stream",
          "name": "stderr",
          "text": [
            "WARNING:absl:Found untraced functions such as _update_step_xla while saving (showing 1 of 1). These functions will not be directly callable after loading.\n"
          ]
        },
        {
          "output_type": "stream",
          "name": "stdout",
          "text": [
            "\b\b\b\b\b\b\b\b\b\b\b\b\b\b\b\b\b\b\b\b\b\b\b\b\b\b\b\b\b\b\b\b\b\b\b\b\b\b\b\b\b\b\b\b\b\b\b\b\b\b\b\b\b\b\b\b\b\b\b\b\b\b\b\b\b\b\b\b\b\b\b\b\b\b\b\b\b\b\b\b\b\b\b\b\b\b\b\b\b\b\b\r22/22 [==============================] - 1s 39ms/step - loss: 1.4413 - mae: 1.4413 - mse: 4.2401 - val_loss: 1.0485 - val_mae: 1.0485 - val_mse: 1.9322\n",
            "Epoch 6/100\n",
            "21/22 [===========================>..] - ETA: 0s - loss: 1.4253 - mae: 1.4253 - mse: 4.0972\n",
            "Epoch 6: val_loss did not improve from 1.04852\n",
            "22/22 [==============================] - 0s 8ms/step - loss: 1.4265 - mae: 1.4265 - mse: 4.0998 - val_loss: 1.0805 - val_mae: 1.0805 - val_mse: 2.0215\n",
            "Epoch 7/100\n",
            "13/22 [================>.............] - ETA: 0s - loss: 1.4893 - mae: 1.4893 - mse: 4.5856\n",
            "Epoch 7: val_loss improved from 1.04852 to 1.02859, saving model to /content/drive/MyDrive/Best_Models_Projects/Amazon_1d_Best_Model/model_1_multivariate\n"
          ]
        },
        {
          "output_type": "stream",
          "name": "stderr",
          "text": [
            "WARNING:absl:Found untraced functions such as _update_step_xla while saving (showing 1 of 1). These functions will not be directly callable after loading.\n"
          ]
        },
        {
          "output_type": "stream",
          "name": "stdout",
          "text": [
            "\b\b\b\b\b\b\b\b\b\b\b\b\b\b\b\b\b\b\b\b\b\b\b\b\b\b\b\b\b\b\b\b\b\b\b\b\b\b\b\b\b\b\b\b\b\b\b\b\b\b\b\b\b\b\b\b\b\b\b\b\b\b\b\b\b\b\b\b\b\b\b\b\b\b\b\b\b\b\b\b\b\b\b\b\b\b\b\b\b\b\b\r22/22 [==============================] - 1s 59ms/step - loss: 1.4395 - mae: 1.4395 - mse: 4.1108 - val_loss: 1.0286 - val_mae: 1.0286 - val_mse: 1.8719\n",
            "Epoch 8/100\n",
            "20/22 [==========================>...] - ETA: 0s - loss: 1.4295 - mae: 1.4295 - mse: 4.0105\n",
            "Epoch 8: val_loss did not improve from 1.02859\n",
            "22/22 [==============================] - 0s 10ms/step - loss: 1.4324 - mae: 1.4324 - mse: 4.1070 - val_loss: 1.1839 - val_mae: 1.1839 - val_mse: 2.3985\n",
            "Epoch 9/100\n",
            "13/22 [================>.............] - ETA: 0s - loss: 1.5960 - mae: 1.5960 - mse: 4.6407\n",
            "Epoch 9: val_loss improved from 1.02859 to 1.02730, saving model to /content/drive/MyDrive/Best_Models_Projects/Amazon_1d_Best_Model/model_1_multivariate\n"
          ]
        },
        {
          "output_type": "stream",
          "name": "stderr",
          "text": [
            "WARNING:absl:Found untraced functions such as _update_step_xla while saving (showing 1 of 1). These functions will not be directly callable after loading.\n"
          ]
        },
        {
          "output_type": "stream",
          "name": "stdout",
          "text": [
            "\b\b\b\b\b\b\b\b\b\b\b\b\b\b\b\b\b\b\b\b\b\b\b\b\b\b\b\b\b\b\b\b\b\b\b\b\b\b\b\b\b\b\b\b\b\b\b\b\b\b\b\b\b\b\b\b\b\b\b\b\b\b\b\b\b\b\b\b\b\b\b\b\b\b\b\b\b\b\b\b\b\b\b\b\b\b\b\b\b\b\b\r22/22 [==============================] - 1s 31ms/step - loss: 1.5826 - mae: 1.5826 - mse: 4.6223 - val_loss: 1.0273 - val_mae: 1.0273 - val_mse: 1.8933\n",
            "Epoch 10/100\n",
            "20/22 [==========================>...] - ETA: 0s - loss: 1.4079 - mae: 1.4079 - mse: 3.9684\n",
            "Epoch 10: val_loss improved from 1.02730 to 0.98511, saving model to /content/drive/MyDrive/Best_Models_Projects/Amazon_1d_Best_Model/model_1_multivariate\n"
          ]
        },
        {
          "output_type": "stream",
          "name": "stderr",
          "text": [
            "WARNING:absl:Found untraced functions such as _update_step_xla while saving (showing 1 of 1). These functions will not be directly callable after loading.\n"
          ]
        },
        {
          "output_type": "stream",
          "name": "stdout",
          "text": [
            "\b\b\b\b\b\b\b\b\b\b\b\b\b\b\b\b\b\b\b\b\b\b\b\b\b\b\b\b\b\b\b\b\b\b\b\b\b\b\b\b\b\b\b\b\b\b\b\b\b\b\b\b\b\b\b\b\b\b\b\b\b\b\b\b\b\b\b\b\b\b\b\b\b\b\b\b\b\b\b\b\b\b\b\b\b\b\b\b\b\b\b\r22/22 [==============================] - 1s 30ms/step - loss: 1.4103 - mae: 1.4103 - mse: 3.9676 - val_loss: 0.9851 - val_mae: 0.9851 - val_mse: 1.7403\n",
            "Epoch 11/100\n",
            "18/22 [=======================>......] - ETA: 0s - loss: 1.3386 - mae: 1.3386 - mse: 3.7509\n",
            "Epoch 11: val_loss did not improve from 0.98511\n",
            "22/22 [==============================] - 0s 6ms/step - loss: 1.3272 - mae: 1.3272 - mse: 3.6415 - val_loss: 1.0729 - val_mae: 1.0729 - val_mse: 1.9774\n",
            "Epoch 12/100\n",
            "15/22 [===================>..........] - ETA: 0s - loss: 1.4328 - mae: 1.4328 - mse: 3.9860\n",
            "Epoch 12: val_loss did not improve from 0.98511\n",
            "22/22 [==============================] - 0s 5ms/step - loss: 1.4224 - mae: 1.4224 - mse: 3.9628 - val_loss: 1.0745 - val_mae: 1.0745 - val_mse: 2.0286\n",
            "Epoch 13/100\n",
            "19/22 [========================>.....] - ETA: 0s - loss: 1.4786 - mae: 1.4786 - mse: 4.1898\n",
            "Epoch 13: val_loss improved from 0.98511 to 0.94753, saving model to /content/drive/MyDrive/Best_Models_Projects/Amazon_1d_Best_Model/model_1_multivariate\n"
          ]
        },
        {
          "output_type": "stream",
          "name": "stderr",
          "text": [
            "WARNING:absl:Found untraced functions such as _update_step_xla while saving (showing 1 of 1). These functions will not be directly callable after loading.\n"
          ]
        },
        {
          "output_type": "stream",
          "name": "stdout",
          "text": [
            "\b\b\b\b\b\b\b\b\b\b\b\b\b\b\b\b\b\b\b\b\b\b\b\b\b\b\b\b\b\b\b\b\b\b\b\b\b\b\b\b\b\b\b\b\b\b\b\b\b\b\b\b\b\b\b\b\b\b\b\b\b\b\b\b\b\b\b\b\b\b\b\b\b\b\b\b\b\b\b\b\b\b\b\b\b\b\b\b\b\b\b\r22/22 [==============================] - 1s 29ms/step - loss: 1.4559 - mae: 1.4559 - mse: 4.0757 - val_loss: 0.9475 - val_mae: 0.9475 - val_mse: 1.6365\n",
            "Epoch 14/100\n",
            "19/22 [========================>.....] - ETA: 0s - loss: 1.2994 - mae: 1.2994 - mse: 3.5308\n",
            "Epoch 14: val_loss did not improve from 0.94753\n",
            "22/22 [==============================] - 0s 6ms/step - loss: 1.3122 - mae: 1.3122 - mse: 3.5668 - val_loss: 1.2584 - val_mae: 1.2584 - val_mse: 2.5709\n",
            "Epoch 15/100\n",
            "17/22 [======================>.......] - ETA: 0s - loss: 1.6500 - mae: 1.6500 - mse: 4.6636\n",
            "Epoch 15: val_loss did not improve from 0.94753\n",
            "22/22 [==============================] - 0s 6ms/step - loss: 1.6020 - mae: 1.6020 - mse: 4.5308 - val_loss: 1.1494 - val_mae: 1.1494 - val_mse: 2.1717\n",
            "Epoch 16/100\n",
            "15/22 [===================>..........] - ETA: 0s - loss: 1.4200 - mae: 1.4200 - mse: 3.8539\n",
            "Epoch 16: val_loss did not improve from 0.94753\n",
            "22/22 [==============================] - 0s 6ms/step - loss: 1.3866 - mae: 1.3866 - mse: 3.7445 - val_loss: 1.2806 - val_mae: 1.2806 - val_mse: 2.5694\n",
            "Epoch 17/100\n",
            "18/22 [=======================>......] - ETA: 0s - loss: 1.4018 - mae: 1.4018 - mse: 3.8367\n",
            "Epoch 17: val_loss did not improve from 0.94753\n",
            "22/22 [==============================] - 0s 6ms/step - loss: 1.3859 - mae: 1.3859 - mse: 3.7088 - val_loss: 1.1209 - val_mae: 1.1209 - val_mse: 2.0779\n",
            "Epoch 18/100\n",
            "19/22 [========================>.....] - ETA: 0s - loss: 1.3849 - mae: 1.3849 - mse: 3.7306\n",
            "Epoch 18: val_loss improved from 0.94753 to 0.89351, saving model to /content/drive/MyDrive/Best_Models_Projects/Amazon_1d_Best_Model/model_1_multivariate\n"
          ]
        },
        {
          "output_type": "stream",
          "name": "stderr",
          "text": [
            "WARNING:absl:Found untraced functions such as _update_step_xla while saving (showing 1 of 1). These functions will not be directly callable after loading.\n"
          ]
        },
        {
          "output_type": "stream",
          "name": "stdout",
          "text": [
            "\b\b\b\b\b\b\b\b\b\b\b\b\b\b\b\b\b\b\b\b\b\b\b\b\b\b\b\b\b\b\b\b\b\b\b\b\b\b\b\b\b\b\b\b\b\b\b\b\b\b\b\b\b\b\b\b\b\b\b\b\b\b\b\b\b\b\b\b\b\b\b\b\b\b\b\b\b\b\b\b\b\b\b\b\b\b\b\b\b\b\b\r22/22 [==============================] - 1s 29ms/step - loss: 1.3704 - mae: 1.3704 - mse: 3.6328 - val_loss: 0.8935 - val_mae: 0.8935 - val_mse: 1.4791\n",
            "Epoch 19/100\n",
            "18/22 [=======================>......] - ETA: 0s - loss: 1.2956 - mae: 1.2956 - mse: 3.3303\n",
            "Epoch 19: val_loss did not improve from 0.89351\n",
            "22/22 [==============================] - 0s 5ms/step - loss: 1.2929 - mae: 1.2929 - mse: 3.3553 - val_loss: 0.9181 - val_mae: 0.9181 - val_mse: 1.5479\n",
            "Epoch 20/100\n",
            "15/22 [===================>..........] - ETA: 0s - loss: 1.2202 - mae: 1.2202 - mse: 3.2558\n",
            "Epoch 20: val_loss did not improve from 0.89351\n",
            "22/22 [==============================] - 0s 6ms/step - loss: 1.2308 - mae: 1.2308 - mse: 3.1754 - val_loss: 1.6014 - val_mae: 1.6014 - val_mse: 3.5790\n",
            "Epoch 21/100\n",
            "19/22 [========================>.....] - ETA: 0s - loss: 1.5238 - mae: 1.5238 - mse: 4.1540\n",
            "Epoch 21: val_loss did not improve from 0.89351\n",
            "22/22 [==============================] - 0s 5ms/step - loss: 1.4933 - mae: 1.4933 - mse: 4.0543 - val_loss: 1.0576 - val_mae: 1.0576 - val_mse: 1.8723\n",
            "Epoch 22/100\n",
            "20/22 [==========================>...] - ETA: 0s - loss: 1.2049 - mae: 1.2049 - mse: 3.1227\n",
            "Epoch 22: val_loss improved from 0.89351 to 0.86244, saving model to /content/drive/MyDrive/Best_Models_Projects/Amazon_1d_Best_Model/model_1_multivariate\n"
          ]
        },
        {
          "output_type": "stream",
          "name": "stderr",
          "text": [
            "WARNING:absl:Found untraced functions such as _update_step_xla while saving (showing 1 of 1). These functions will not be directly callable after loading.\n"
          ]
        },
        {
          "output_type": "stream",
          "name": "stdout",
          "text": [
            "\b\b\b\b\b\b\b\b\b\b\b\b\b\b\b\b\b\b\b\b\b\b\b\b\b\b\b\b\b\b\b\b\b\b\b\b\b\b\b\b\b\b\b\b\b\b\b\b\b\b\b\b\b\b\b\b\b\b\b\b\b\b\b\b\b\b\b\b\b\b\b\b\b\b\b\b\b\b\b\b\b\b\b\b\b\b\b\b\b\b\b\r22/22 [==============================] - 1s 28ms/step - loss: 1.1981 - mae: 1.1981 - mse: 3.0617 - val_loss: 0.8624 - val_mae: 0.8624 - val_mse: 1.3894\n",
            "Epoch 23/100\n",
            "18/22 [=======================>......] - ETA: 0s - loss: 1.1388 - mae: 1.1388 - mse: 2.7601\n",
            "Epoch 23: val_loss did not improve from 0.86244\n",
            "22/22 [==============================] - 0s 5ms/step - loss: 1.1691 - mae: 1.1691 - mse: 2.9092 - val_loss: 0.9641 - val_mae: 0.9641 - val_mse: 1.6168\n",
            "Epoch 24/100\n",
            "19/22 [========================>.....] - ETA: 0s - loss: 1.3062 - mae: 1.3062 - mse: 3.3256\n",
            "Epoch 24: val_loss did not improve from 0.86244\n",
            "22/22 [==============================] - 0s 5ms/step - loss: 1.3069 - mae: 1.3069 - mse: 3.3169 - val_loss: 0.8897 - val_mae: 0.8897 - val_mse: 1.4380\n",
            "Epoch 25/100\n",
            "19/22 [========================>.....] - ETA: 0s - loss: 1.2272 - mae: 1.2272 - mse: 2.9667\n",
            "Epoch 25: val_loss did not improve from 0.86244\n",
            "22/22 [==============================] - 0s 6ms/step - loss: 1.2200 - mae: 1.2200 - mse: 3.0104 - val_loss: 1.1067 - val_mae: 1.1067 - val_mse: 1.9789\n",
            "Epoch 26/100\n",
            "19/22 [========================>.....] - ETA: 0s - loss: 1.3029 - mae: 1.3029 - mse: 3.2529\n",
            "Epoch 26: val_loss improved from 0.86244 to 0.81993, saving model to /content/drive/MyDrive/Best_Models_Projects/Amazon_1d_Best_Model/model_1_multivariate\n"
          ]
        },
        {
          "output_type": "stream",
          "name": "stderr",
          "text": [
            "WARNING:absl:Found untraced functions such as _update_step_xla while saving (showing 1 of 1). These functions will not be directly callable after loading.\n"
          ]
        },
        {
          "output_type": "stream",
          "name": "stdout",
          "text": [
            "\b\b\b\b\b\b\b\b\b\b\b\b\b\b\b\b\b\b\b\b\b\b\b\b\b\b\b\b\b\b\b\b\b\b\b\b\b\b\b\b\b\b\b\b\b\b\b\b\b\b\b\b\b\b\b\b\b\b\b\b\b\b\b\b\b\b\b\b\b\b\b\b\b\b\b\b\b\b\b\b\b\b\b\b\b\b\b\b\b\b\b\r22/22 [==============================] - 1s 30ms/step - loss: 1.2853 - mae: 1.2853 - mse: 3.2307 - val_loss: 0.8199 - val_mae: 0.8199 - val_mse: 1.2795\n",
            "Epoch 27/100\n",
            "19/22 [========================>.....] - ETA: 0s - loss: 1.1156 - mae: 1.1156 - mse: 2.5749\n",
            "Epoch 27: val_loss improved from 0.81993 to 0.79812, saving model to /content/drive/MyDrive/Best_Models_Projects/Amazon_1d_Best_Model/model_1_multivariate\n"
          ]
        },
        {
          "output_type": "stream",
          "name": "stderr",
          "text": [
            "WARNING:absl:Found untraced functions such as _update_step_xla while saving (showing 1 of 1). These functions will not be directly callable after loading.\n"
          ]
        },
        {
          "output_type": "stream",
          "name": "stdout",
          "text": [
            "\b\b\b\b\b\b\b\b\b\b\b\b\b\b\b\b\b\b\b\b\b\b\b\b\b\b\b\b\b\b\b\b\b\b\b\b\b\b\b\b\b\b\b\b\b\b\b\b\b\b\b\b\b\b\b\b\b\b\b\b\b\b\b\b\b\b\b\b\b\b\b\b\b\b\b\b\b\b\b\b\b\b\b\b\b\b\b\b\b\b\b\r22/22 [==============================] - 1s 28ms/step - loss: 1.1332 - mae: 1.1332 - mse: 2.7368 - val_loss: 0.7981 - val_mae: 0.7981 - val_mse: 1.2322\n",
            "Epoch 28/100\n",
            "18/22 [=======================>......] - ETA: 0s - loss: 1.0976 - mae: 1.0976 - mse: 2.7150\n",
            "Epoch 28: val_loss improved from 0.79812 to 0.78849, saving model to /content/drive/MyDrive/Best_Models_Projects/Amazon_1d_Best_Model/model_1_multivariate\n"
          ]
        },
        {
          "output_type": "stream",
          "name": "stderr",
          "text": [
            "WARNING:absl:Found untraced functions such as _update_step_xla while saving (showing 1 of 1). These functions will not be directly callable after loading.\n"
          ]
        },
        {
          "output_type": "stream",
          "name": "stdout",
          "text": [
            "\b\b\b\b\b\b\b\b\b\b\b\b\b\b\b\b\b\b\b\b\b\b\b\b\b\b\b\b\b\b\b\b\b\b\b\b\b\b\b\b\b\b\b\b\b\b\b\b\b\b\b\b\b\b\b\b\b\b\b\b\b\b\b\b\b\b\b\b\b\b\b\b\b\b\b\b\b\b\b\b\b\b\b\b\b\b\b\b\b\b\b\r22/22 [==============================] - 1s 30ms/step - loss: 1.0922 - mae: 1.0922 - mse: 2.6214 - val_loss: 0.7885 - val_mae: 0.7885 - val_mse: 1.2066\n",
            "Epoch 29/100\n",
            "20/22 [==========================>...] - ETA: 0s - loss: 1.0840 - mae: 1.0840 - mse: 2.5917\n",
            "Epoch 29: val_loss did not improve from 0.78849\n",
            "22/22 [==============================] - 0s 5ms/step - loss: 1.0875 - mae: 1.0875 - mse: 2.5887 - val_loss: 1.5254 - val_mae: 1.5254 - val_mse: 3.1707\n",
            "Epoch 30/100\n",
            "18/22 [=======================>......] - ETA: 0s - loss: 1.5562 - mae: 1.5562 - mse: 4.2046\n",
            "Epoch 30: val_loss did not improve from 0.78849\n",
            "22/22 [==============================] - 0s 5ms/step - loss: 1.4986 - mae: 1.4986 - mse: 3.9524 - val_loss: 0.8598 - val_mae: 0.8598 - val_mse: 1.3411\n",
            "Epoch 31/100\n",
            "19/22 [========================>.....] - ETA: 0s - loss: 1.1352 - mae: 1.1352 - mse: 2.7395\n",
            "Epoch 31: val_loss did not improve from 0.78849\n",
            "22/22 [==============================] - 0s 5ms/step - loss: 1.1296 - mae: 1.1296 - mse: 2.6980 - val_loss: 0.8134 - val_mae: 0.8134 - val_mse: 1.2513\n",
            "Epoch 32/100\n",
            "19/22 [========================>.....] - ETA: 0s - loss: 1.0923 - mae: 1.0923 - mse: 2.5903\n",
            "Epoch 32: val_loss did not improve from 0.78849\n",
            "22/22 [==============================] - 0s 5ms/step - loss: 1.0969 - mae: 1.0969 - mse: 2.5578 - val_loss: 1.0834 - val_mae: 1.0834 - val_mse: 1.8793\n",
            "Epoch 33/100\n",
            "19/22 [========================>.....] - ETA: 0s - loss: 1.2566 - mae: 1.2566 - mse: 2.8959\n",
            "Epoch 33: val_loss improved from 0.78849 to 0.75728, saving model to /content/drive/MyDrive/Best_Models_Projects/Amazon_1d_Best_Model/model_1_multivariate\n"
          ]
        },
        {
          "output_type": "stream",
          "name": "stderr",
          "text": [
            "WARNING:absl:Found untraced functions such as _update_step_xla while saving (showing 1 of 1). These functions will not be directly callable after loading.\n"
          ]
        },
        {
          "output_type": "stream",
          "name": "stdout",
          "text": [
            "\b\b\b\b\b\b\b\b\b\b\b\b\b\b\b\b\b\b\b\b\b\b\b\b\b\b\b\b\b\b\b\b\b\b\b\b\b\b\b\b\b\b\b\b\b\b\b\b\b\b\b\b\b\b\b\b\b\b\b\b\b\b\b\b\b\b\b\b\b\b\b\b\b\b\b\b\b\b\b\b\b\b\b\b\b\b\b\b\b\b\b\r22/22 [==============================] - 1s 28ms/step - loss: 1.2528 - mae: 1.2528 - mse: 3.0302 - val_loss: 0.7573 - val_mae: 0.7573 - val_mse: 1.1310\n",
            "Epoch 34/100\n",
            "19/22 [========================>.....] - ETA: 0s - loss: 1.0592 - mae: 1.0592 - mse: 2.4024\n",
            "Epoch 34: val_loss improved from 0.75728 to 0.75334, saving model to /content/drive/MyDrive/Best_Models_Projects/Amazon_1d_Best_Model/model_1_multivariate\n"
          ]
        },
        {
          "output_type": "stream",
          "name": "stderr",
          "text": [
            "WARNING:absl:Found untraced functions such as _update_step_xla while saving (showing 1 of 1). These functions will not be directly callable after loading.\n"
          ]
        },
        {
          "output_type": "stream",
          "name": "stdout",
          "text": [
            "\b\b\b\b\b\b\b\b\b\b\b\b\b\b\b\b\b\b\b\b\b\b\b\b\b\b\b\b\b\b\b\b\b\b\b\b\b\b\b\b\b\b\b\b\b\b\b\b\b\b\b\b\b\b\b\b\b\b\b\b\b\b\b\b\b\b\b\b\b\b\b\b\b\b\b\b\b\b\b\b\b\b\b\b\b\b\b\b\b\b\b\r22/22 [==============================] - 1s 29ms/step - loss: 1.0672 - mae: 1.0672 - mse: 2.5020 - val_loss: 0.7533 - val_mae: 0.7533 - val_mse: 1.1161\n",
            "Epoch 35/100\n",
            "19/22 [========================>.....] - ETA: 0s - loss: 1.0281 - mae: 1.0281 - mse: 2.3945\n",
            "Epoch 35: val_loss did not improve from 0.75334\n",
            "22/22 [==============================] - 0s 5ms/step - loss: 1.0316 - mae: 1.0316 - mse: 2.3909 - val_loss: 1.0512 - val_mae: 1.0512 - val_mse: 1.7775\n",
            "Epoch 36/100\n",
            "20/22 [==========================>...] - ETA: 0s - loss: 1.1719 - mae: 1.1719 - mse: 2.7902\n",
            "Epoch 36: val_loss did not improve from 0.75334\n",
            "22/22 [==============================] - 0s 5ms/step - loss: 1.1690 - mae: 1.1690 - mse: 2.7868 - val_loss: 1.2208 - val_mae: 1.2208 - val_mse: 2.1833\n",
            "Epoch 37/100\n",
            "17/22 [======================>.......] - ETA: 0s - loss: 1.4238 - mae: 1.4238 - mse: 3.6317\n",
            "Epoch 37: val_loss did not improve from 0.75334\n",
            "22/22 [==============================] - 0s 11ms/step - loss: 1.3873 - mae: 1.3873 - mse: 3.4434 - val_loss: 0.7637 - val_mae: 0.7637 - val_mse: 1.1239\n",
            "Epoch 38/100\n",
            "13/22 [================>.............] - ETA: 0s - loss: 1.1317 - mae: 1.1317 - mse: 2.6820\n",
            "Epoch 38: val_loss did not improve from 0.75334\n",
            "22/22 [==============================] - 0s 10ms/step - loss: 1.1628 - mae: 1.1628 - mse: 2.6701 - val_loss: 0.7944 - val_mae: 0.7944 - val_mse: 1.1880\n",
            "Epoch 39/100\n",
            "21/22 [===========================>..] - ETA: 0s - loss: 1.1618 - mae: 1.1618 - mse: 2.6480\n",
            "Epoch 39: val_loss did not improve from 0.75334\n",
            "22/22 [==============================] - 0s 9ms/step - loss: 1.1621 - mae: 1.1621 - mse: 2.6485 - val_loss: 0.8267 - val_mae: 0.8267 - val_mse: 1.2521\n",
            "Epoch 40/100\n",
            "13/22 [================>.............] - ETA: 0s - loss: 1.0772 - mae: 1.0772 - mse: 2.3085\n",
            "Epoch 40: val_loss did not improve from 0.75334\n",
            "22/22 [==============================] - 0s 7ms/step - loss: 1.0657 - mae: 1.0657 - mse: 2.4429 - val_loss: 1.0191 - val_mae: 1.0191 - val_mse: 1.6533\n",
            "Epoch 41/100\n",
            "20/22 [==========================>...] - ETA: 0s - loss: 1.1931 - mae: 1.1931 - mse: 2.7560\n",
            "Epoch 41: val_loss did not improve from 0.75334\n",
            "22/22 [==============================] - 0s 12ms/step - loss: 1.1879 - mae: 1.1879 - mse: 2.7704 - val_loss: 1.1257 - val_mae: 1.1257 - val_mse: 1.9038\n",
            "Epoch 42/100\n",
            "16/22 [====================>.........] - ETA: 0s - loss: 1.2159 - mae: 1.2159 - mse: 2.8673\n",
            "Epoch 42: val_loss did not improve from 0.75334\n",
            "22/22 [==============================] - 0s 12ms/step - loss: 1.1723 - mae: 1.1723 - mse: 2.7105 - val_loss: 0.9530 - val_mae: 0.9530 - val_mse: 1.5121\n",
            "Epoch 43/100\n",
            "18/22 [=======================>......] - ETA: 0s - loss: 1.3135 - mae: 1.3135 - mse: 3.0863\n",
            "Epoch 43: val_loss did not improve from 0.75334\n",
            "22/22 [==============================] - 0s 9ms/step - loss: 1.2917 - mae: 1.2917 - mse: 2.9837 - val_loss: 1.4318 - val_mae: 1.4318 - val_mse: 2.7855\n",
            "Epoch 44/100\n",
            "21/22 [===========================>..] - ETA: 0s - loss: 1.2003 - mae: 1.2003 - mse: 2.8596\n",
            "Epoch 44: val_loss improved from 0.75334 to 0.72059, saving model to /content/drive/MyDrive/Best_Models_Projects/Amazon_1d_Best_Model/model_1_multivariate\n"
          ]
        },
        {
          "output_type": "stream",
          "name": "stderr",
          "text": [
            "WARNING:absl:Found untraced functions such as _update_step_xla while saving (showing 1 of 1). These functions will not be directly callable after loading.\n"
          ]
        },
        {
          "output_type": "stream",
          "name": "stdout",
          "text": [
            "\b\b\b\b\b\b\b\b\b\b\b\b\b\b\b\b\b\b\b\b\b\b\b\b\b\b\b\b\b\b\b\b\b\b\b\b\b\b\b\b\b\b\b\b\b\b\b\b\b\b\b\b\b\b\b\b\b\b\b\b\b\b\b\b\b\b\b\b\b\b\b\b\b\b\b\b\b\b\b\b\b\b\b\b\b\b\b\b\b\b\b\r22/22 [==============================] - 2s 111ms/step - loss: 1.1999 - mae: 1.1999 - mse: 2.8568 - val_loss: 0.7206 - val_mae: 0.7206 - val_mse: 1.0379\n",
            "Epoch 45/100\n",
            "19/22 [========================>.....] - ETA: 0s - loss: 0.9882 - mae: 0.9882 - mse: 2.2460\n",
            "Epoch 45: val_loss did not improve from 0.72059\n",
            "22/22 [==============================] - 0s 14ms/step - loss: 0.9905 - mae: 0.9905 - mse: 2.2055 - val_loss: 0.7743 - val_mae: 0.7743 - val_mse: 1.1286\n",
            "Epoch 46/100\n",
            "17/22 [======================>.......] - ETA: 0s - loss: 1.1570 - mae: 1.1570 - mse: 2.7002\n",
            "Epoch 46: val_loss did not improve from 0.72059\n",
            "22/22 [==============================] - 0s 18ms/step - loss: 1.1560 - mae: 1.1560 - mse: 2.6040 - val_loss: 0.9180 - val_mae: 0.9180 - val_mse: 1.4213\n",
            "Epoch 47/100\n",
            "19/22 [========================>.....] - ETA: 0s - loss: 1.2464 - mae: 1.2464 - mse: 2.8469\n",
            "Epoch 47: val_loss improved from 0.72059 to 0.71727, saving model to /content/drive/MyDrive/Best_Models_Projects/Amazon_1d_Best_Model/model_1_multivariate\n"
          ]
        },
        {
          "output_type": "stream",
          "name": "stderr",
          "text": [
            "WARNING:absl:Found untraced functions such as _update_step_xla while saving (showing 1 of 1). These functions will not be directly callable after loading.\n"
          ]
        },
        {
          "output_type": "stream",
          "name": "stdout",
          "text": [
            "\b\b\b\b\b\b\b\b\b\b\b\b\b\b\b\b\b\b\b\b\b\b\b\b\b\b\b\b\b\b\b\b\b\b\b\b\b\b\b\b\b\b\b\b\b\b\b\b\b\b\b\b\b\b\b\b\b\b\b\b\b\b\b\b\b\b\b\b\b\b\b\b\b\b\b\b\b\b\b\b\b\b\b\b\b\b\b\b\b\b\b\r22/22 [==============================] - 1s 70ms/step - loss: 1.2565 - mae: 1.2565 - mse: 2.8730 - val_loss: 0.7173 - val_mae: 0.7173 - val_mse: 1.0164\n",
            "Epoch 48/100\n",
            "18/22 [=======================>......] - ETA: 0s - loss: 1.1450 - mae: 1.1450 - mse: 2.6495\n",
            "Epoch 48: val_loss did not improve from 0.71727\n",
            "22/22 [==============================] - 0s 9ms/step - loss: 1.1474 - mae: 1.1474 - mse: 2.5999 - val_loss: 0.9619 - val_mae: 0.9619 - val_mse: 1.5016\n",
            "Epoch 49/100\n",
            "19/22 [========================>.....] - ETA: 0s - loss: 1.1153 - mae: 1.1153 - mse: 2.5371\n",
            "Epoch 49: val_loss improved from 0.71727 to 0.69509, saving model to /content/drive/MyDrive/Best_Models_Projects/Amazon_1d_Best_Model/model_1_multivariate\n"
          ]
        },
        {
          "output_type": "stream",
          "name": "stderr",
          "text": [
            "WARNING:absl:Found untraced functions such as _update_step_xla while saving (showing 1 of 1). These functions will not be directly callable after loading.\n"
          ]
        },
        {
          "output_type": "stream",
          "name": "stdout",
          "text": [
            "\b\b\b\b\b\b\b\b\b\b\b\b\b\b\b\b\b\b\b\b\b\b\b\b\b\b\b\b\b\b\b\b\b\b\b\b\b\b\b\b\b\b\b\b\b\b\b\b\b\b\b\b\b\b\b\b\b\b\b\b\b\b\b\b\b\b\b\b\b\b\b\b\b\b\b\b\b\b\b\b\b\b\b\b\b\b\b\b\b\b\b\r22/22 [==============================] - 1s 56ms/step - loss: 1.1070 - mae: 1.1070 - mse: 2.4877 - val_loss: 0.6951 - val_mae: 0.6951 - val_mse: 0.9790\n",
            "Epoch 50/100\n",
            "14/22 [==================>...........] - ETA: 0s - loss: 1.0762 - mae: 1.0762 - mse: 2.4149\n",
            "Epoch 50: val_loss did not improve from 0.69509\n",
            "22/22 [==============================] - 0s 9ms/step - loss: 1.0756 - mae: 1.0756 - mse: 2.4063 - val_loss: 0.7383 - val_mae: 0.7383 - val_mse: 1.0525\n",
            "Epoch 51/100\n",
            "18/22 [=======================>......] - ETA: 0s - loss: 1.0545 - mae: 1.0545 - mse: 2.2842\n",
            "Epoch 51: val_loss did not improve from 0.69509\n",
            "22/22 [==============================] - 0s 9ms/step - loss: 1.0542 - mae: 1.0542 - mse: 2.3323 - val_loss: 0.7061 - val_mae: 0.7061 - val_mse: 0.9930\n",
            "Epoch 52/100\n",
            "22/22 [==============================] - ETA: 0s - loss: 0.9625 - mae: 0.9625 - mse: 2.0957\n",
            "Epoch 52: val_loss improved from 0.69509 to 0.68765, saving model to /content/drive/MyDrive/Best_Models_Projects/Amazon_1d_Best_Model/model_1_multivariate\n"
          ]
        },
        {
          "output_type": "stream",
          "name": "stderr",
          "text": [
            "WARNING:absl:Found untraced functions such as _update_step_xla while saving (showing 1 of 1). These functions will not be directly callable after loading.\n"
          ]
        },
        {
          "output_type": "stream",
          "name": "stdout",
          "text": [
            "\b\b\b\b\b\b\b\b\b\b\b\b\b\b\b\b\b\b\b\b\b\b\b\b\b\b\b\b\b\b\b\b\b\b\b\b\b\b\b\b\b\b\b\b\b\b\b\b\b\b\b\b\b\b\b\b\b\b\b\b\b\b\b\b\b\b\b\b\b\b\b\b\b\b\b\b\b\b\b\b\b\b\b\b\b\b\b\b\b\b\b\r22/22 [==============================] - 1s 57ms/step - loss: 0.9625 - mae: 0.9625 - mse: 2.0957 - val_loss: 0.6876 - val_mae: 0.6876 - val_mse: 0.9603\n",
            "Epoch 53/100\n",
            "17/22 [======================>.......] - ETA: 0s - loss: 0.9816 - mae: 0.9816 - mse: 2.0829\n",
            "Epoch 53: val_loss did not improve from 0.68765\n",
            "22/22 [==============================] - 0s 12ms/step - loss: 0.9969 - mae: 0.9969 - mse: 2.1652 - val_loss: 0.9080 - val_mae: 0.9080 - val_mse: 1.3800\n",
            "Epoch 54/100\n",
            "16/22 [====================>.........] - ETA: 0s - loss: 1.0669 - mae: 1.0669 - mse: 2.3613\n",
            "Epoch 54: val_loss did not improve from 0.68765\n",
            "22/22 [==============================] - 0s 14ms/step - loss: 1.0499 - mae: 1.0499 - mse: 2.3218 - val_loss: 0.8609 - val_mae: 0.8609 - val_mse: 1.2824\n",
            "Epoch 55/100\n",
            "17/22 [======================>.......] - ETA: 0s - loss: 1.1171 - mae: 1.1171 - mse: 2.5047\n",
            "Epoch 55: val_loss improved from 0.68765 to 0.68763, saving model to /content/drive/MyDrive/Best_Models_Projects/Amazon_1d_Best_Model/model_1_multivariate\n"
          ]
        },
        {
          "output_type": "stream",
          "name": "stderr",
          "text": [
            "WARNING:absl:Found untraced functions such as _update_step_xla while saving (showing 1 of 1). These functions will not be directly callable after loading.\n"
          ]
        },
        {
          "output_type": "stream",
          "name": "stdout",
          "text": [
            "\b\b\b\b\b\b\b\b\b\b\b\b\b\b\b\b\b\b\b\b\b\b\b\b\b\b\b\b\b\b\b\b\b\b\b\b\b\b\b\b\b\b\b\b\b\b\b\b\b\b\b\b\b\b\b\b\b\b\b\b\b\b\b\b\b\b\b\b\b\b\b\b\b\b\b\b\b\b\b\b\b\b\b\b\b\b\b\b\b\b\b\r22/22 [==============================] - 1s 56ms/step - loss: 1.1096 - mae: 1.1096 - mse: 2.4301 - val_loss: 0.6876 - val_mae: 0.6876 - val_mse: 0.9551\n",
            "Epoch 56/100\n",
            "20/22 [==========================>...] - ETA: 0s - loss: 1.0035 - mae: 1.0035 - mse: 2.1698\n",
            "Epoch 56: val_loss did not improve from 0.68763\n",
            "22/22 [==============================] - 0s 9ms/step - loss: 0.9963 - mae: 0.9963 - mse: 2.1328 - val_loss: 0.8755 - val_mae: 0.8755 - val_mse: 1.2991\n",
            "Epoch 57/100\n",
            "15/22 [===================>..........] - ETA: 0s - loss: 1.0065 - mae: 1.0065 - mse: 2.1785\n",
            "Epoch 57: val_loss did not improve from 0.68763\n",
            "22/22 [==============================] - 0s 11ms/step - loss: 0.9916 - mae: 0.9916 - mse: 2.1375 - val_loss: 0.7196 - val_mae: 0.7196 - val_mse: 1.0084\n",
            "Epoch 58/100\n",
            "12/22 [===============>..............] - ETA: 0s - loss: 1.0022 - mae: 1.0022 - mse: 2.0615\n",
            "Epoch 58: val_loss did not improve from 0.68763\n",
            "22/22 [==============================] - 0s 8ms/step - loss: 0.9858 - mae: 0.9858 - mse: 2.1305 - val_loss: 0.6880 - val_mae: 0.6880 - val_mse: 0.9497\n",
            "Epoch 59/100\n",
            "22/22 [==============================] - ETA: 0s - loss: 0.9865 - mae: 0.9865 - mse: 2.1353\n",
            "Epoch 59: val_loss did not improve from 0.68763\n",
            "22/22 [==============================] - 0s 10ms/step - loss: 0.9865 - mae: 0.9865 - mse: 2.1353 - val_loss: 0.7187 - val_mae: 0.7187 - val_mse: 1.0020\n",
            "Epoch 60/100\n",
            "12/22 [===============>..............] - ETA: 0s - loss: 0.9368 - mae: 0.9368 - mse: 2.0005\n",
            "Epoch 60: val_loss did not improve from 0.68763\n",
            "22/22 [==============================] - 0s 8ms/step - loss: 0.9403 - mae: 0.9403 - mse: 2.0156 - val_loss: 1.0044 - val_mae: 1.0044 - val_mse: 1.5750\n",
            "Epoch 61/100\n",
            "18/22 [=======================>......] - ETA: 0s - loss: 1.2559 - mae: 1.2559 - mse: 2.8249\n",
            "Epoch 61: val_loss did not improve from 0.68763\n",
            "22/22 [==============================] - 0s 12ms/step - loss: 1.2384 - mae: 1.2384 - mse: 2.8494 - val_loss: 0.8643 - val_mae: 0.8643 - val_mse: 1.2755\n",
            "Epoch 62/100\n",
            "21/22 [===========================>..] - ETA: 0s - loss: 1.0066 - mae: 1.0066 - mse: 2.1736\n",
            "Epoch 62: val_loss did not improve from 0.68763\n",
            "22/22 [==============================] - 0s 13ms/step - loss: 1.0068 - mae: 1.0068 - mse: 2.1726 - val_loss: 1.1420 - val_mae: 1.1420 - val_mse: 1.9245\n",
            "Epoch 63/100\n",
            "16/22 [====================>.........] - ETA: 0s - loss: 1.1986 - mae: 1.1986 - mse: 2.6592\n",
            "Epoch 63: val_loss did not improve from 0.68763\n",
            "22/22 [==============================] - 0s 14ms/step - loss: 1.1559 - mae: 1.1559 - mse: 2.5867 - val_loss: 1.1942 - val_mae: 1.1942 - val_mse: 2.0446\n",
            "Epoch 64/100\n",
            "18/22 [=======================>......] - ETA: 0s - loss: 1.2316 - mae: 1.2316 - mse: 2.7727\n",
            "Epoch 64: val_loss did not improve from 0.68763\n",
            "22/22 [==============================] - 0s 9ms/step - loss: 1.2096 - mae: 1.2096 - mse: 2.7194 - val_loss: 0.8220 - val_mae: 0.8220 - val_mse: 1.1918\n",
            "Epoch 65/100\n",
            "13/22 [================>.............] - ETA: 0s - loss: 1.1882 - mae: 1.1882 - mse: 2.8651\n",
            "Epoch 65: val_loss did not improve from 0.68763\n",
            "22/22 [==============================] - 0s 8ms/step - loss: 1.2399 - mae: 1.2399 - mse: 2.8443 - val_loss: 0.7830 - val_mae: 0.7830 - val_mse: 1.1080\n",
            "Epoch 66/100\n",
            "17/22 [======================>.......] - ETA: 0s - loss: 1.0026 - mae: 1.0026 - mse: 2.1764\n",
            "Epoch 66: val_loss improved from 0.68763 to 0.68579, saving model to /content/drive/MyDrive/Best_Models_Projects/Amazon_1d_Best_Model/model_1_multivariate\n"
          ]
        },
        {
          "output_type": "stream",
          "name": "stderr",
          "text": [
            "WARNING:absl:Found untraced functions such as _update_step_xla while saving (showing 1 of 1). These functions will not be directly callable after loading.\n"
          ]
        },
        {
          "output_type": "stream",
          "name": "stdout",
          "text": [
            "\b\b\b\b\b\b\b\b\b\b\b\b\b\b\b\b\b\b\b\b\b\b\b\b\b\b\b\b\b\b\b\b\b\b\b\b\b\b\b\b\b\b\b\b\b\b\b\b\b\b\b\b\b\b\b\b\b\b\b\b\b\b\b\b\b\b\b\b\b\b\b\b\b\b\b\b\b\b\b\b\b\b\b\b\b\b\b\b\b\b\b\r22/22 [==============================] - 1s 69ms/step - loss: 0.9866 - mae: 0.9866 - mse: 2.1049 - val_loss: 0.6858 - val_mae: 0.6858 - val_mse: 0.9430\n",
            "Epoch 67/100\n",
            "22/22 [==============================] - ETA: 0s - loss: 0.9301 - mae: 0.9301 - mse: 1.9684\n",
            "Epoch 67: val_loss did not improve from 0.68579\n",
            "22/22 [==============================] - 0s 11ms/step - loss: 0.9301 - mae: 0.9301 - mse: 1.9684 - val_loss: 0.7679 - val_mae: 0.7679 - val_mse: 1.0854\n",
            "Epoch 68/100\n",
            "17/22 [======================>.......] - ETA: 0s - loss: 1.0219 - mae: 1.0219 - mse: 2.2626\n",
            "Epoch 68: val_loss did not improve from 0.68579\n",
            "22/22 [==============================] - 0s 11ms/step - loss: 0.9938 - mae: 0.9938 - mse: 2.1291 - val_loss: 1.1217 - val_mae: 1.1217 - val_mse: 1.8508\n",
            "Epoch 69/100\n",
            "13/22 [================>.............] - ETA: 0s - loss: 1.1652 - mae: 1.1652 - mse: 2.6038\n",
            "Epoch 69: val_loss improved from 0.68579 to 0.67408, saving model to /content/drive/MyDrive/Best_Models_Projects/Amazon_1d_Best_Model/model_1_multivariate\n"
          ]
        },
        {
          "output_type": "stream",
          "name": "stderr",
          "text": [
            "WARNING:absl:Found untraced functions such as _update_step_xla while saving (showing 1 of 1). These functions will not be directly callable after loading.\n"
          ]
        },
        {
          "output_type": "stream",
          "name": "stdout",
          "text": [
            "\b\b\b\b\b\b\b\b\b\b\b\b\b\b\b\b\b\b\b\b\b\b\b\b\b\b\b\b\b\b\b\b\b\b\b\b\b\b\b\b\b\b\b\b\b\b\b\b\b\b\b\b\b\b\b\b\b\b\b\b\b\b\b\b\b\b\b\b\b\b\b\b\b\b\b\b\b\b\b\b\b\b\b\b\b\b\b\b\b\b\b\r22/22 [==============================] - 3s 143ms/step - loss: 1.0668 - mae: 1.0668 - mse: 2.3375 - val_loss: 0.6741 - val_mae: 0.6741 - val_mse: 0.9179\n",
            "Epoch 70/100\n",
            "22/22 [==============================] - ETA: 0s - loss: 1.0748 - mae: 1.0748 - mse: 2.3100\n",
            "Epoch 70: val_loss did not improve from 0.67408\n",
            "22/22 [==============================] - 0s 16ms/step - loss: 1.0748 - mae: 1.0748 - mse: 2.3100 - val_loss: 0.6808 - val_mae: 0.6808 - val_mse: 0.9328\n",
            "Epoch 71/100\n",
            "18/22 [=======================>......] - ETA: 0s - loss: 0.9499 - mae: 0.9499 - mse: 2.0357\n",
            "Epoch 71: val_loss did not improve from 0.67408\n",
            "22/22 [==============================] - 0s 21ms/step - loss: 0.9581 - mae: 0.9581 - mse: 2.0294 - val_loss: 0.6752 - val_mae: 0.6752 - val_mse: 0.9187\n",
            "Epoch 72/100\n",
            "15/22 [===================>..........] - ETA: 0s - loss: 0.9154 - mae: 0.9154 - mse: 1.9053\n",
            "Epoch 72: val_loss improved from 0.67408 to 0.67004, saving model to /content/drive/MyDrive/Best_Models_Projects/Amazon_1d_Best_Model/model_1_multivariate\n"
          ]
        },
        {
          "output_type": "stream",
          "name": "stderr",
          "text": [
            "WARNING:absl:Found untraced functions such as _update_step_xla while saving (showing 1 of 1). These functions will not be directly callable after loading.\n"
          ]
        },
        {
          "output_type": "stream",
          "name": "stdout",
          "text": [
            "\b\b\b\b\b\b\b\b\b\b\b\b\b\b\b\b\b\b\b\b\b\b\b\b\b\b\b\b\b\b\b\b\b\b\b\b\b\b\b\b\b\b\b\b\b\b\b\b\b\b\b\b\b\b\b\b\b\b\b\b\b\b\b\b\b\b\b\b\b\b\b\b\b\b\b\b\b\b\b\b\b\b\b\b\b\b\b\b\b\b\b\r22/22 [==============================] - 1s 59ms/step - loss: 0.9215 - mae: 0.9215 - mse: 1.9399 - val_loss: 0.6700 - val_mae: 0.6700 - val_mse: 0.9098\n",
            "Epoch 73/100\n",
            "22/22 [==============================] - ETA: 0s - loss: 0.9473 - mae: 0.9473 - mse: 1.9973\n",
            "Epoch 73: val_loss did not improve from 0.67004\n",
            "22/22 [==============================] - 0s 11ms/step - loss: 0.9473 - mae: 0.9473 - mse: 1.9973 - val_loss: 0.7802 - val_mae: 0.7802 - val_mse: 1.0979\n",
            "Epoch 74/100\n",
            "21/22 [===========================>..] - ETA: 0s - loss: 0.9707 - mae: 0.9707 - mse: 2.0662\n",
            "Epoch 74: val_loss did not improve from 0.67004\n",
            "22/22 [==============================] - 0s 9ms/step - loss: 0.9715 - mae: 0.9715 - mse: 2.0678 - val_loss: 0.6807 - val_mae: 0.6807 - val_mse: 0.9235\n",
            "Epoch 75/100\n",
            "21/22 [===========================>..] - ETA: 0s - loss: 0.9409 - mae: 0.9409 - mse: 1.9847\n",
            "Epoch 75: val_loss did not improve from 0.67004\n",
            "22/22 [==============================] - 0s 10ms/step - loss: 0.9404 - mae: 0.9404 - mse: 1.9820 - val_loss: 0.8167 - val_mae: 0.8167 - val_mse: 1.1637\n",
            "Epoch 76/100\n",
            "14/22 [==================>...........] - ETA: 0s - loss: 1.0541 - mae: 1.0541 - mse: 2.4064\n",
            "Epoch 76: val_loss did not improve from 0.67004\n",
            "22/22 [==============================] - 0s 14ms/step - loss: 1.0238 - mae: 1.0238 - mse: 2.1656 - val_loss: 0.9272 - val_mae: 0.9272 - val_mse: 1.4020\n",
            "Epoch 77/100\n",
            "21/22 [===========================>..] - ETA: 0s - loss: 1.1150 - mae: 1.1150 - mse: 2.3949\n",
            "Epoch 77: val_loss did not improve from 0.67004\n",
            "22/22 [==============================] - 0s 18ms/step - loss: 1.1142 - mae: 1.1142 - mse: 2.3915 - val_loss: 0.7610 - val_mae: 0.7610 - val_mse: 1.0620\n",
            "Epoch 78/100\n",
            "21/22 [===========================>..] - ETA: 0s - loss: 0.9536 - mae: 0.9536 - mse: 2.0086\n",
            "Epoch 78: val_loss did not improve from 0.67004\n",
            "22/22 [==============================] - 0s 14ms/step - loss: 0.9537 - mae: 0.9537 - mse: 2.0078 - val_loss: 0.7445 - val_mae: 0.7445 - val_mse: 1.0317\n",
            "Epoch 79/100\n",
            "21/22 [===========================>..] - ETA: 0s - loss: 0.9764 - mae: 0.9764 - mse: 2.0492\n",
            "Epoch 79: val_loss did not improve from 0.67004\n",
            "22/22 [==============================] - 0s 10ms/step - loss: 0.9763 - mae: 0.9763 - mse: 2.0481 - val_loss: 0.9798 - val_mae: 0.9798 - val_mse: 1.5094\n",
            "Epoch 80/100\n",
            "13/22 [================>.............] - ETA: 0s - loss: 1.0931 - mae: 1.0931 - mse: 2.2937\n",
            "Epoch 80: val_loss did not improve from 0.67004\n",
            "22/22 [==============================] - 0s 8ms/step - loss: 1.0428 - mae: 1.0428 - mse: 2.2242 - val_loss: 1.3418 - val_mae: 1.3418 - val_mse: 2.4495\n",
            "Epoch 81/100\n",
            "22/22 [==============================] - ETA: 0s - loss: 1.3685 - mae: 1.3685 - mse: 3.3041\n",
            "Epoch 81: val_loss did not improve from 0.67004\n",
            "22/22 [==============================] - 0s 10ms/step - loss: 1.3685 - mae: 1.3685 - mse: 3.3041 - val_loss: 0.6921 - val_mae: 0.6921 - val_mse: 0.9388\n",
            "Epoch 82/100\n",
            "20/22 [==========================>...] - ETA: 0s - loss: 0.9171 - mae: 0.9171 - mse: 1.9509\n",
            "Epoch 82: val_loss improved from 0.67004 to 0.66480, saving model to /content/drive/MyDrive/Best_Models_Projects/Amazon_1d_Best_Model/model_1_multivariate\n"
          ]
        },
        {
          "output_type": "stream",
          "name": "stderr",
          "text": [
            "WARNING:absl:Found untraced functions such as _update_step_xla while saving (showing 1 of 1). These functions will not be directly callable after loading.\n"
          ]
        },
        {
          "output_type": "stream",
          "name": "stdout",
          "text": [
            "\b\b\b\b\b\b\b\b\b\b\b\b\b\b\b\b\b\b\b\b\b\b\b\b\b\b\b\b\b\b\b\b\b\b\b\b\b\b\b\b\b\b\b\b\b\b\b\b\b\b\b\b\b\b\b\b\b\b\b\b\b\b\b\b\b\b\b\b\b\b\b\b\b\b\b\b\b\b\b\b\b\b\b\b\b\b\b\b\b\b\b\r22/22 [==============================] - 1s 46ms/step - loss: 0.9209 - mae: 0.9209 - mse: 1.9415 - val_loss: 0.6648 - val_mae: 0.6648 - val_mse: 0.8934\n",
            "Epoch 83/100\n",
            "20/22 [==========================>...] - ETA: 0s - loss: 1.0523 - mae: 1.0523 - mse: 2.2385\n",
            "Epoch 83: val_loss did not improve from 0.66480\n",
            "22/22 [==============================] - 0s 10ms/step - loss: 1.0561 - mae: 1.0561 - mse: 2.2437 - val_loss: 1.0543 - val_mae: 1.0543 - val_mse: 1.6669\n",
            "Epoch 84/100\n",
            "12/22 [===============>..............] - ETA: 0s - loss: 1.2068 - mae: 1.2068 - mse: 2.8392\n",
            "Epoch 84: val_loss did not improve from 0.66480\n",
            "22/22 [==============================] - 0s 9ms/step - loss: 1.0734 - mae: 1.0734 - mse: 2.3162 - val_loss: 0.9725 - val_mae: 0.9725 - val_mse: 1.4960\n",
            "Epoch 85/100\n",
            "12/22 [===============>..............] - ETA: 0s - loss: 1.1751 - mae: 1.1751 - mse: 2.5354\n",
            "Epoch 85: val_loss did not improve from 0.66480\n",
            "22/22 [==============================] - 0s 8ms/step - loss: 1.1215 - mae: 1.1215 - mse: 2.3961 - val_loss: 1.2350 - val_mae: 1.2350 - val_mse: 2.1466\n",
            "Epoch 86/100\n",
            "22/22 [==============================] - ETA: 0s - loss: 1.3676 - mae: 1.3676 - mse: 3.1740\n",
            "Epoch 86: val_loss did not improve from 0.66480\n",
            "22/22 [==============================] - 0s 8ms/step - loss: 1.3676 - mae: 1.3676 - mse: 3.1740 - val_loss: 0.9845 - val_mae: 0.9845 - val_mse: 1.5092\n",
            "Epoch 87/100\n",
            "21/22 [===========================>..] - ETA: 0s - loss: 1.0766 - mae: 1.0766 - mse: 2.2996\n",
            "Epoch 87: val_loss did not improve from 0.66480\n",
            "22/22 [==============================] - 0s 10ms/step - loss: 1.0758 - mae: 1.0758 - mse: 2.2967 - val_loss: 0.7669 - val_mae: 0.7669 - val_mse: 1.0693\n",
            "Epoch 88/100\n",
            "17/22 [======================>.......] - ETA: 0s - loss: 1.0147 - mae: 1.0147 - mse: 2.1826\n",
            "Epoch 88: val_loss did not improve from 0.66480\n",
            "22/22 [==============================] - 0s 13ms/step - loss: 0.9843 - mae: 0.9843 - mse: 2.0469 - val_loss: 0.7204 - val_mae: 0.7204 - val_mse: 0.9833\n",
            "Epoch 89/100\n",
            "21/22 [===========================>..] - ETA: 0s - loss: 1.0039 - mae: 1.0039 - mse: 2.1006\n",
            "Epoch 89: val_loss did not improve from 0.66480\n",
            "22/22 [==============================] - 0s 8ms/step - loss: 1.0033 - mae: 1.0033 - mse: 2.0980 - val_loss: 0.6722 - val_mae: 0.6722 - val_mse: 0.9055\n",
            "Epoch 90/100\n",
            "18/22 [=======================>......] - ETA: 0s - loss: 0.9601 - mae: 0.9601 - mse: 2.0351\n",
            "Epoch 90: val_loss did not improve from 0.66480\n",
            "22/22 [==============================] - 0s 5ms/step - loss: 0.9533 - mae: 0.9533 - mse: 1.9875 - val_loss: 0.6729 - val_mae: 0.6729 - val_mse: 0.9043\n",
            "Epoch 91/100\n",
            "18/22 [=======================>......] - ETA: 0s - loss: 1.0884 - mae: 1.0884 - mse: 2.4091\n",
            "Epoch 91: val_loss did not improve from 0.66480\n",
            "22/22 [==============================] - 0s 5ms/step - loss: 1.0479 - mae: 1.0479 - mse: 2.2391 - val_loss: 0.9468 - val_mae: 0.9468 - val_mse: 1.4364\n",
            "Epoch 92/100\n",
            "18/22 [=======================>......] - ETA: 0s - loss: 1.2798 - mae: 1.2798 - mse: 2.9281\n",
            "Epoch 92: val_loss did not improve from 0.66480\n",
            "22/22 [==============================] - 0s 5ms/step - loss: 1.2391 - mae: 1.2391 - mse: 2.7912 - val_loss: 1.1514 - val_mae: 1.1514 - val_mse: 1.9032\n",
            "Epoch 93/100\n",
            "17/22 [======================>.......] - ETA: 0s - loss: 1.0720 - mae: 1.0720 - mse: 2.3246\n",
            "Epoch 93: val_loss did not improve from 0.66480\n",
            "22/22 [==============================] - 0s 5ms/step - loss: 1.0476 - mae: 1.0476 - mse: 2.2749 - val_loss: 1.0762 - val_mae: 1.0762 - val_mse: 1.7355\n",
            "Epoch 94/100\n",
            "18/22 [=======================>......] - ETA: 0s - loss: 1.1918 - mae: 1.1918 - mse: 2.6132\n",
            "Epoch 94: val_loss did not improve from 0.66480\n",
            "22/22 [==============================] - 0s 5ms/step - loss: 1.1681 - mae: 1.1681 - mse: 2.5227 - val_loss: 0.9400 - val_mae: 0.9400 - val_mse: 1.4209\n",
            "Epoch 95/100\n",
            "19/22 [========================>.....] - ETA: 0s - loss: 1.0674 - mae: 1.0674 - mse: 2.3110\n",
            "Epoch 95: val_loss did not improve from 0.66480\n",
            "22/22 [==============================] - 0s 5ms/step - loss: 1.0539 - mae: 1.0539 - mse: 2.2442 - val_loss: 0.6980 - val_mae: 0.6980 - val_mse: 0.9474\n",
            "Epoch 96/100\n",
            "18/22 [=======================>......] - ETA: 0s - loss: 0.9718 - mae: 0.9718 - mse: 2.0552\n",
            "Epoch 96: val_loss did not improve from 0.66480\n",
            "22/22 [==============================] - 0s 5ms/step - loss: 0.9946 - mae: 0.9946 - mse: 2.0820 - val_loss: 0.7991 - val_mae: 0.7991 - val_mse: 1.1267\n",
            "Epoch 97/100\n",
            "18/22 [=======================>......] - ETA: 0s - loss: 0.9941 - mae: 0.9941 - mse: 1.9658\n",
            "Epoch 97: val_loss did not improve from 0.66480\n",
            "22/22 [==============================] - 0s 6ms/step - loss: 0.9910 - mae: 0.9910 - mse: 2.0888 - val_loss: 0.6798 - val_mae: 0.6798 - val_mse: 0.9160\n",
            "Epoch 98/100\n",
            "18/22 [=======================>......] - ETA: 0s - loss: 1.0198 - mae: 1.0198 - mse: 2.1656\n",
            "Epoch 98: val_loss did not improve from 0.66480\n",
            "22/22 [==============================] - 0s 5ms/step - loss: 1.0283 - mae: 1.0283 - mse: 2.1528 - val_loss: 1.0420 - val_mae: 1.0420 - val_mse: 1.6474\n",
            "Epoch 99/100\n",
            "18/22 [=======================>......] - ETA: 0s - loss: 0.9716 - mae: 0.9716 - mse: 1.9777\n",
            "Epoch 99: val_loss improved from 0.66480 to 0.65634, saving model to /content/drive/MyDrive/Best_Models_Projects/Amazon_1d_Best_Model/model_1_multivariate\n"
          ]
        },
        {
          "output_type": "stream",
          "name": "stderr",
          "text": [
            "WARNING:absl:Found untraced functions such as _update_step_xla while saving (showing 1 of 1). These functions will not be directly callable after loading.\n"
          ]
        },
        {
          "output_type": "stream",
          "name": "stdout",
          "text": [
            "\b\b\b\b\b\b\b\b\b\b\b\b\b\b\b\b\b\b\b\b\b\b\b\b\b\b\b\b\b\b\b\b\b\b\b\b\b\b\b\b\b\b\b\b\b\b\b\b\b\b\b\b\b\b\b\b\b\b\b\b\b\b\b\b\b\b\b\b\b\b\b\b\b\b\b\b\b\b\b\b\b\b\b\b\b\b\b\b\b\b\b\r22/22 [==============================] - 1s 30ms/step - loss: 0.9661 - mae: 0.9661 - mse: 2.0129 - val_loss: 0.6563 - val_mae: 0.6563 - val_mse: 0.8779\n",
            "Epoch 100/100\n",
            "18/22 [=======================>......] - ETA: 0s - loss: 0.9313 - mae: 0.9313 - mse: 2.0123\n",
            "Epoch 100: val_loss did not improve from 0.65634\n",
            "22/22 [==============================] - 0s 6ms/step - loss: 0.9366 - mae: 0.9366 - mse: 1.9786 - val_loss: 0.7567 - val_mae: 0.7567 - val_mse: 1.0427\n"
          ]
        }
      ]
    },
    {
      "cell_type": "code",
      "source": [
        "# Load the best model \n",
        "model_1 = tf.keras.models.load_model(\"/content/drive/MyDrive/Best_Models_Projects/Amazon_1d_Best_Model/model_1_multivariate\")\n",
        "model_1.evaluate(X_test , Y_test)"
      ],
      "metadata": {
        "id": "6CillE0Y1Igg",
        "colab": {
          "base_uri": "https://localhost:8080/"
        },
        "outputId": "b82cb6d8-df51-4181-c210-f617f29311fe"
      },
      "execution_count": null,
      "outputs": [
        {
          "output_type": "stream",
          "name": "stdout",
          "text": [
            "22/22 [==============================] - 0s 2ms/step - loss: 0.6563 - mae: 0.6563 - mse: 0.8779\n"
          ]
        },
        {
          "output_type": "execute_result",
          "data": {
            "text/plain": [
              "[0.6563376784324646, 0.6563376784324646, 0.8779041767120361]"
            ]
          },
          "metadata": {},
          "execution_count": 23
        }
      ]
    },
    {
      "cell_type": "code",
      "source": [
        "# Forecast with model_1\n",
        "model_1_preds = tf.squeeze(model_1.predict(X_test))\n",
        "model_1_preds[10:]"
      ],
      "metadata": {
        "colab": {
          "base_uri": "https://localhost:8080/"
        },
        "id": "JRARXQnc_57T",
        "outputId": "8baeaaa9-82fa-4a7e-8af8-a418c9043cd0"
      },
      "execution_count": null,
      "outputs": [
        {
          "output_type": "stream",
          "name": "stdout",
          "text": [
            "22/22 [==============================] - 0s 2ms/step\n"
          ]
        },
        {
          "output_type": "execute_result",
          "data": {
            "text/plain": [
              "<tf.Tensor: shape=(664,), dtype=float32, numpy=\n",
              "array([ 99.95106 ,  99.520645,  99.54051 ,  99.92581 ,  99.68043 ,\n",
              "        99.07239 ,  98.75795 ,  99.976204,  99.87743 ,  99.641716,\n",
              "        98.58875 ,  98.78277 ,  98.70305 ,  98.44404 ,  96.8652  ,\n",
              "        96.98782 ,  97.03263 ,  97.38689 ,  96.83474 ,  96.33962 ,\n",
              "        96.16771 ,  95.64623 ,  95.474625,  95.291046,  95.26907 ,\n",
              "        94.70076 ,  94.1165  ,  94.11381 ,  93.8484  ,  93.50614 ,\n",
              "        92.86153 ,  92.87955 ,  92.928   ,  93.4071  ,  93.224   ,\n",
              "        92.147675,  91.52374 ,  91.131966,  91.59305 ,  91.62418 ,\n",
              "        91.83454 ,  91.90743 ,  92.28728 ,  92.52128 ,  92.78298 ,\n",
              "        92.98946 ,  93.01514 ,  93.173805,  93.42034 ,  93.89369 ,\n",
              "        94.2897  ,  94.09232 ,  94.06012 ,  94.33573 ,  94.59151 ,\n",
              "        94.59335 ,  94.368965,  94.07803 ,  94.21613 ,  94.38146 ,\n",
              "        94.573135,  94.56165 ,  94.483345,  94.198006,  93.97504 ,\n",
              "        93.98944 ,  93.524284,  92.69227 ,  92.26574 ,  91.852196,\n",
              "        91.960884,  92.00411 ,  92.05932 ,  92.11008 ,  91.94017 ,\n",
              "        91.76132 ,  92.19505 ,  94.05933 ,  95.05198 ,  95.88331 ,\n",
              "        95.50725 ,  96.26798 ,  96.41951 ,  96.556786,  96.16059 ,\n",
              "        95.96488 ,  95.71037 ,  94.99757 ,  94.75731 ,  94.509735,\n",
              "        94.45585 ,  94.19773 ,  94.058876,  93.71361 ,  92.94203 ,\n",
              "        92.40243 ,  91.70824 ,  91.51257 ,  91.010086,  90.689064,\n",
              "        90.223145,  89.28391 ,  89.032486,  88.48275 ,  88.22455 ,\n",
              "        87.73336 ,  87.67636 ,  87.59138 ,  87.585266,  87.36185 ,\n",
              "        87.537506,  88.01344 ,  88.11253 ,  88.277306,  88.56063 ,\n",
              "        89.64358 ,  89.72546 ,  90.07212 ,  90.14604 ,  90.342995,\n",
              "        90.82204 ,  90.68754 ,  90.17726 ,  90.11242 ,  89.87883 ,\n",
              "        89.845955,  89.81235 ,  89.65637 ,  89.30399 ,  88.92671 ,\n",
              "        88.80621 ,  88.85778 ,  89.07646 ,  89.31256 ,  89.82257 ,\n",
              "        90.60397 ,  92.34094 ,  92.62283 ,  92.05982 ,  92.24128 ,\n",
              "        92.6615  ,  93.107346,  93.20249 ,  93.35085 ,  93.23382 ,\n",
              "        92.99301 ,  92.54371 ,  92.017715,  91.64102 ,  91.33183 ,\n",
              "        89.77594 ,  88.633835,  88.01546 ,  87.78477 ,  87.532875,\n",
              "        87.54999 ,  87.42567 ,  87.15686 ,  86.94516 ,  86.84081 ,\n",
              "        86.87215 ,  86.79118 ,  87.01315 ,  87.09685 ,  86.64894 ,\n",
              "        85.751076,  85.387794,  85.36419 ,  85.057594,  84.78049 ,\n",
              "        84.77264 ,  85.2249  ,  84.819786,  85.19199 ,  85.183395,\n",
              "        85.37873 ,  85.34099 ,  85.45553 ,  85.92446 ,  86.45339 ,\n",
              "        86.73184 ,  86.81663 ,  87.034615,  87.08179 ,  86.867714,\n",
              "        85.442055,  84.70822 ,  83.6928  ,  83.19757 ,  82.91153 ,\n",
              "        83.076836,  83.24088 ,  83.588646,  83.73995 ,  84.15549 ,\n",
              "        84.39894 ,  84.85358 ,  85.20291 ,  85.2717  ,  84.881355,\n",
              "        84.78964 ,  84.42564 ,  84.12369 ,  83.73697 ,  83.53966 ,\n",
              "        83.192726,  82.89026 ,  82.386566,  82.08766 ,  82.2016  ,\n",
              "        82.051926,  81.89602 ,  81.91364 ,  82.762405,  83.16891 ,\n",
              "        83.5836  ,  83.641014,  84.03167 ,  84.344666,  84.33668 ,\n",
              "        83.6943  ,  83.408936,  83.3163  ,  83.165726,  83.0614  ,\n",
              "        83.10343 ,  83.719444,  84.39284 ,  84.71834 ,  84.639885,\n",
              "        85.001625,  85.53052 ,  86.16831 ,  85.942024,  85.20042 ,\n",
              "        85.46914 ,  85.80885 ,  85.97038 ,  85.27659 ,  85.202126,\n",
              "        84.916466,  84.34905 ,  83.92193 ,  83.742455,  83.75588 ,\n",
              "        83.60406 ,  83.31731 ,  82.92482 ,  82.9197  ,  83.573105,\n",
              "        84.3179  ,  84.81337 ,  85.176994,  85.64587 ,  86.26346 ,\n",
              "        87.8918  ,  88.86307 ,  89.32445 ,  89.488396,  89.1841  ,\n",
              "        88.75059 ,  88.6771  ,  89.482445,  89.55585 ,  89.73117 ,\n",
              "        89.75751 ,  89.80261 ,  89.663765,  90.43776 ,  92.28434 ,\n",
              "        93.175   ,  93.83554 ,  93.96397 ,  94.418755,  95.0633  ,\n",
              "        95.57892 ,  95.69619 ,  95.47865 ,  95.68133 ,  95.36317 ,\n",
              "        95.559326,  95.30541 ,  95.53584 ,  95.996185,  96.03349 ,\n",
              "        96.62696 ,  97.18093 ,  97.77994 ,  97.99459 ,  97.95545 ,\n",
              "        97.31036 ,  96.71224 ,  96.80317 ,  96.54856 ,  96.2753  ,\n",
              "        95.95205 ,  96.10121 ,  97.34257 ,  96.561615,  96.24167 ,\n",
              "        95.669426,  95.90641 ,  95.6494  ,  95.22128 ,  94.00538 ,\n",
              "        93.23059 ,  93.00406 ,  93.07509 ,  93.36443 ,  93.10538 ,\n",
              "        93.1793  ,  93.99186 ,  94.78029 ,  95.09034 ,  95.266396,\n",
              "        95.99557 ,  96.68145 ,  97.21385 ,  97.46362 ,  97.515434,\n",
              "        97.63294 ,  97.85582 ,  97.688965,  97.606705,  97.56324 ,\n",
              "        97.22585 ,  97.33265 ,  97.31904 ,  97.1585  ,  96.91593 ,\n",
              "        96.7485  ,  95.913864,  94.060036,  94.4262  ,  94.42924 ,\n",
              "        95.34652 ,  95.414894,  95.89726 ,  96.48828 ,  97.755486,\n",
              "        97.66304 ,  98.029144,  98.01595 ,  98.583435,  98.901344,\n",
              "        99.68301 , 101.12439 , 101.7223  , 102.18476 , 102.220314,\n",
              "       102.918396, 103.27944 , 102.870735, 101.52668 , 101.27113 ,\n",
              "       101.25386 , 101.39954 , 100.94373 , 100.57465 , 100.620186,\n",
              "       101.974815, 102.24915 , 102.127815, 101.958855, 102.197815,\n",
              "       102.46099 , 102.793144, 102.111855, 101.986084, 102.03949 ,\n",
              "       102.35746 , 102.85508 , 104.234764, 105.23777 , 108.45769 ,\n",
              "       110.03694 , 111.89191 , 112.612366, 113.22926 , 113.49686 ,\n",
              "       113.294075, 110.37146 , 109.57895 , 108.420494, 107.01323 ,\n",
              "       105.03588 , 103.52653 , 102.44159 , 101.33419 , 100.94195 ,\n",
              "       100.510574, 100.57607 , 100.70656 , 100.62691 , 100.397484,\n",
              "        99.00216 ,  98.930664,  98.5339  ,  98.46725 ,  98.93538 ,\n",
              "       100.09136 , 100.60586 , 100.213776,  99.417305,  99.77741 ,\n",
              "        99.985275, 100.27171 , 100.26    , 100.105385, 100.07282 ,\n",
              "        99.721825,  99.52249 ,  99.18429 ,  98.789635,  98.40604 ,\n",
              "        98.33118 ,  98.20691 ,  97.63856 ,  96.993805,  97.05881 ,\n",
              "        96.91466 ,  97.204765,  97.30619 ,  97.71258 ,  98.44364 ,\n",
              "        98.87506 ,  99.15124 ,  99.182106,  99.34738 ,  99.78109 ,\n",
              "        99.84109 ,  99.09704 ,  98.9501  ,  99.042946,  99.27373 ,\n",
              "        99.53401 ,  99.546394,  99.32992 ,  99.6376  ,  99.7355  ,\n",
              "       100.25905 , 100.683945, 100.85381 , 100.97738 , 100.40916 ,\n",
              "       100.46828 , 100.191986, 100.070076,  99.827705,  99.09255 ,\n",
              "        98.28861 ,  96.99355 ,  96.2253  ,  95.794136,  95.66277 ,\n",
              "        95.612915,  95.93147 ,  95.87433 ,  94.81139 ,  94.449425,\n",
              "        94.17097 ,  94.31764 ,  94.26245 ,  94.29016 ,  94.29427 ,\n",
              "        95.02669 ,  95.5377  ,  95.82289 ,  95.92781 ,  95.763306,\n",
              "        95.85208 ,  95.953064,  95.65931 ,  95.12384 ,  94.69782 ,\n",
              "        94.87847 ,  95.38989 ,  95.84483 ,  95.39199 ,  93.91961 ,\n",
              "        93.502975,  93.176   ,  93.14949 ,  92.943596,  92.752106,\n",
              "        93.05219 ,  93.56022 ,  93.524376,  93.58765 ,  93.670845,\n",
              "        93.756676,  93.7089  ,  93.7671  ,  93.429   ,  93.6227  ,\n",
              "        93.76033 ,  94.28039 ,  94.36292 ,  94.26738 ,  94.13655 ,\n",
              "        93.469055,  93.10329 ,  92.93372 ,  92.496635,  92.04503 ,\n",
              "        91.89438 ,  91.83246 ,  91.445984,  90.91567 ,  90.59234 ,\n",
              "        90.69878 ,  91.06983 ,  91.3018  ,  91.9963  ,  93.390274,\n",
              "        93.749344,  94.17823 ,  94.34603 ,  94.90472 ,  95.22145 ,\n",
              "        95.570274,  95.98794 ,  96.373924,  96.58848 ,  95.980385,\n",
              "        95.41035 ,  94.76809 ,  94.40236 ,  94.00628 ,  93.99978 ,\n",
              "        94.20566 ,  93.91918 ,  93.62319 ,  93.279366,  93.258286,\n",
              "        93.008804,  93.11182 ,  92.9661  ,  92.854294,  93.05435 ,\n",
              "        93.17741 ,  93.76302 ,  94.737976,  94.941154,  95.05383 ,\n",
              "        94.23708 ,  93.72647 ,  93.01326 ,  92.71316 ,  92.325455,\n",
              "        92.58175 ,  91.765205,  91.05176 ,  90.6536  ,  90.63544 ,\n",
              "        90.47997 ,  90.54943 ,  91.64528 ,  92.13591 ,  92.49682 ,\n",
              "        92.988014,  92.804756,  93.079414,  94.047516,  94.55645 ,\n",
              "        94.458664,  94.2919  ,  94.291985,  94.297386,  94.823235,\n",
              "        94.29436 ,  94.54828 ,  94.78522 ,  95.43928 ,  95.96456 ,\n",
              "        96.0885  ,  96.50571 ,  97.66516 ,  99.22039 , 100.006325,\n",
              "       100.53206 , 100.64742 , 100.81175 , 100.699196,  99.88542 ,\n",
              "        99.19109 ,  98.91832 ,  98.82742 ,  98.67212 ,  98.673645,\n",
              "        98.19674 ,  96.97274 ,  97.11835 ,  96.42098 ,  96.557755,\n",
              "        96.41316 ,  96.584885,  96.90744 ,  97.58974 ,  98.15645 ,\n",
              "        98.8243  ,  99.30182 ,  99.90113 , 100.29205 , 100.61161 ,\n",
              "       100.62269 , 100.64068 , 100.397575, 100.586205, 101.00421 ,\n",
              "       100.77569 ,  99.78881 , 100.14521 , 100.075836, 100.28694 ,\n",
              "        99.66873 ,  98.831985,  98.30471 ,  98.273674,  97.62087 ,\n",
              "        97.12534 ,  96.76982 ,  96.878716,  97.16288 ,  97.42431 ,\n",
              "        97.591286,  97.921074,  97.67268 ,  97.59124 ,  97.4715  ,\n",
              "        97.97564 ,  98.15668 ,  98.06955 ,  97.80079 ,  97.60293 ,\n",
              "        97.40196 ,  97.353035,  96.9669  ,  96.93292 ,  97.27447 ,\n",
              "        98.47277 ,  99.0817  ,  99.54785 ,  99.671555, 100.002754,\n",
              "       100.41156 , 100.93555 , 102.110634, 102.36534 , 102.46273 ,\n",
              "       102.15173 , 102.23316 , 102.389114, 102.563644, 102.75911 ,\n",
              "       102.96824 , 103.133   , 103.09672 , 103.11422 , 103.25081 ,\n",
              "       103.328186, 103.083534, 102.55098 , 102.28074 ], dtype=float32)>"
            ]
          },
          "metadata": {},
          "execution_count": 24
        }
      ]
    },
    {
      "cell_type": "code",
      "source": [
        "# Evaluate the predictions\n",
        "model_1_results = evaluate_preds(y_true = Y_test , y_pred = model_1_preds)\n",
        "model_1_results"
      ],
      "metadata": {
        "id": "_1j2kVJV1aTJ",
        "colab": {
          "base_uri": "https://localhost:8080/"
        },
        "outputId": "1b98acdc-eec9-40a4-ed2e-9c96749e952f"
      },
      "execution_count": null,
      "outputs": [
        {
          "output_type": "execute_result",
          "data": {
            "text/plain": [
              "{'mae': 0.6563377,\n",
              " 'mse': 0.87790436,\n",
              " 'rmse': 0.93696547,\n",
              " 'mape': 0.6907392,\n",
              " 'mase': 1.1073666}"
            ]
          },
          "metadata": {},
          "execution_count": 25
        }
      ]
    },
    {
      "cell_type": "markdown",
      "source": [
        "* we will still try to improve"
      ],
      "metadata": {
        "id": "pCBzkxDLAKqj"
      }
    },
    {
      "cell_type": "markdown",
      "source": [
        "## Model 2"
      ],
      "metadata": {
        "id": "_bboiHaOAgJu"
      }
    },
    {
      "cell_type": "code",
      "source": [
        "# Building the model 2 on (Multivariate Time Series)\n",
        "tf.random.set_seed(42)\n",
        "\n",
        "model_2 = tf.keras.Sequential([\n",
        "    tf.keras.layers.Dense(128 , activation = tf.keras.activations.relu),\n",
        "    tf.keras.layers.Dense(128 , activation = tf.keras.activations.relu),\n",
        "    tf.keras.layers.Dense(128 , activation = tf.keras.activations.relu),\n",
        "    tf.keras.layers.Dense(128 , activation = tf.keras.activations.relu),\n",
        "    tf.keras.layers.Dense(HORIZON)\n",
        "], name = \"model_2_multivariate\")\n",
        "\n",
        "model_2.compile(\n",
        "    loss = tf.keras.losses.mae,\n",
        "    optimizer = tf.keras.optimizers.Adam(),\n",
        "    metrics = [\"mae\" , \"mse\"],\n",
        ")\n",
        "\n",
        "history_2 = model_2.fit(\n",
        "    x = X_train,\n",
        "    y = Y_train,\n",
        "    epochs = 100,\n",
        "    batch_size = 128,\n",
        "    verbose = 1,\n",
        "    validation_data = (X_test , Y_test),\n",
        "    callbacks = [create_model_checkpoint(model_name = model_2.name)]\n",
        ")"
      ],
      "metadata": {
        "colab": {
          "base_uri": "https://localhost:8080/"
        },
        "id": "jsKtfEneAJy9",
        "outputId": "6e837d08-caa0-4bb8-fed6-d807c63dff45"
      },
      "execution_count": null,
      "outputs": [
        {
          "output_type": "stream",
          "name": "stdout",
          "text": [
            "Epoch 1/100\n",
            "19/22 [========================>.....] - ETA: 0s - loss: 28.3830 - mae: 28.3830 - mse: 2198.1526\n",
            "Epoch 1: val_loss improved from inf to 3.66297, saving model to /content/drive/MyDrive/Best_Models_Projects/Amazon_1d_Best_Model/model_2_multivariate\n"
          ]
        },
        {
          "output_type": "stream",
          "name": "stderr",
          "text": [
            "WARNING:absl:Found untraced functions such as _update_step_xla while saving (showing 1 of 1). These functions will not be directly callable after loading.\n"
          ]
        },
        {
          "output_type": "stream",
          "name": "stdout",
          "text": [
            "\b\b\b\b\b\b\b\b\b\b\b\b\b\b\b\b\b\b\b\b\b\b\b\b\b\b\b\b\b\b\b\b\b\b\b\b\b\b\b\b\b\b\b\b\b\b\b\b\b\b\b\b\b\b\b\b\b\b\b\b\b\b\b\b\b\b\b\b\b\b\b\b\b\b\b\b\b\b\b\b\b\b\b\b\b\b\b\b\b\b\b\b\b\b\b\b\r22/22 [==============================] - 3s 76ms/step - loss: 26.1936 - mae: 26.1936 - mse: 1988.9406 - val_loss: 3.6630 - val_mae: 3.6630 - val_mse: 15.5531\n",
            "Epoch 2/100\n",
            "21/22 [===========================>..] - ETA: 0s - loss: 3.3524 - mae: 3.3524 - mse: 16.9487\n",
            "Epoch 2: val_loss improved from 3.66297 to 1.88909, saving model to /content/drive/MyDrive/Best_Models_Projects/Amazon_1d_Best_Model/model_2_multivariate\n"
          ]
        },
        {
          "output_type": "stream",
          "name": "stderr",
          "text": [
            "WARNING:absl:Found untraced functions such as _update_step_xla while saving (showing 1 of 1). These functions will not be directly callable after loading.\n"
          ]
        },
        {
          "output_type": "stream",
          "name": "stdout",
          "text": [
            "\b\b\b\b\b\b\b\b\b\b\b\b\b\b\b\b\b\b\b\b\b\b\b\b\b\b\b\b\b\b\b\b\b\b\b\b\b\b\b\b\b\b\b\b\b\b\b\b\b\b\b\b\b\b\b\b\b\b\b\b\b\b\b\b\b\b\b\b\b\b\b\b\b\b\b\b\b\b\b\b\b\b\b\b\b\b\b\b\b\b\b\b\r22/22 [==============================] - 2s 91ms/step - loss: 3.3514 - mae: 3.3514 - mse: 16.9358 - val_loss: 1.8891 - val_mae: 1.8891 - val_mse: 5.2281\n",
            "Epoch 3/100\n",
            "15/22 [===================>..........] - ETA: 0s - loss: 1.9015 - mae: 1.9015 - mse: 6.4429 \n",
            "Epoch 3: val_loss improved from 1.88909 to 1.13275, saving model to /content/drive/MyDrive/Best_Models_Projects/Amazon_1d_Best_Model/model_2_multivariate\n"
          ]
        },
        {
          "output_type": "stream",
          "name": "stderr",
          "text": [
            "WARNING:absl:Found untraced functions such as _update_step_xla while saving (showing 1 of 1). These functions will not be directly callable after loading.\n"
          ]
        },
        {
          "output_type": "stream",
          "name": "stdout",
          "text": [
            "\b\b\b\b\b\b\b\b\b\b\b\b\b\b\b\b\b\b\b\b\b\b\b\b\b\b\b\b\b\b\b\b\b\b\b\b\b\b\b\b\b\b\b\b\b\b\b\b\b\b\b\b\b\b\b\b\b\b\b\b\b\b\b\b\b\b\b\b\b\b\b\b\b\b\b\b\b\b\b\b\b\b\b\b\b\b\b\b\b\b\b\r22/22 [==============================] - 1s 46ms/step - loss: 1.8591 - mae: 1.8591 - mse: 6.1500 - val_loss: 1.1328 - val_mae: 1.1328 - val_mse: 2.2221\n",
            "Epoch 4/100\n",
            "15/22 [===================>..........] - ETA: 0s - loss: 1.6328 - mae: 1.6328 - mse: 5.2110\n",
            "Epoch 4: val_loss did not improve from 1.13275\n",
            "22/22 [==============================] - 0s 6ms/step - loss: 1.6509 - mae: 1.6509 - mse: 5.1998 - val_loss: 1.3370 - val_mae: 1.3370 - val_mse: 2.9910\n",
            "Epoch 5/100\n",
            "15/22 [===================>..........] - ETA: 0s - loss: 1.6213 - mae: 1.6213 - mse: 4.9520\n",
            "Epoch 5: val_loss did not improve from 1.13275\n",
            "22/22 [==============================] - 0s 6ms/step - loss: 1.6627 - mae: 1.6627 - mse: 5.2263 - val_loss: 1.2264 - val_mae: 1.2264 - val_mse: 2.5930\n",
            "Epoch 6/100\n",
            "15/22 [===================>..........] - ETA: 0s - loss: 1.5466 - mae: 1.5466 - mse: 4.5422\n",
            "Epoch 6: val_loss did not improve from 1.13275\n",
            "22/22 [==============================] - 0s 6ms/step - loss: 1.5499 - mae: 1.5499 - mse: 4.7524 - val_loss: 1.2829 - val_mae: 1.2829 - val_mse: 2.7047\n",
            "Epoch 7/100\n",
            "15/22 [===================>..........] - ETA: 0s - loss: 2.4370 - mae: 2.4370 - mse: 9.0936\n",
            "Epoch 7: val_loss improved from 1.13275 to 1.04381, saving model to /content/drive/MyDrive/Best_Models_Projects/Amazon_1d_Best_Model/model_2_multivariate\n"
          ]
        },
        {
          "output_type": "stream",
          "name": "stderr",
          "text": [
            "WARNING:absl:Found untraced functions such as _update_step_xla while saving (showing 1 of 1). These functions will not be directly callable after loading.\n"
          ]
        },
        {
          "output_type": "stream",
          "name": "stdout",
          "text": [
            "\b\b\b\b\b\b\b\b\b\b\b\b\b\b\b\b\b\b\b\b\b\b\b\b\b\b\b\b\b\b\b\b\b\b\b\b\b\b\b\b\b\b\b\b\b\b\b\b\b\b\b\b\b\b\b\b\b\b\b\b\b\b\b\b\b\b\b\b\b\b\b\b\b\b\b\b\b\b\b\b\b\b\b\b\b\b\b\b\b\b\b\r22/22 [==============================] - 1s 59ms/step - loss: 2.2829 - mae: 2.2829 - mse: 8.1280 - val_loss: 1.0438 - val_mae: 1.0438 - val_mse: 1.9492\n",
            "Epoch 8/100\n",
            "15/22 [===================>..........] - ETA: 0s - loss: 2.0398 - mae: 2.0398 - mse: 7.0875\n",
            "Epoch 8: val_loss improved from 1.04381 to 1.04027, saving model to /content/drive/MyDrive/Best_Models_Projects/Amazon_1d_Best_Model/model_2_multivariate\n"
          ]
        },
        {
          "output_type": "stream",
          "name": "stderr",
          "text": [
            "WARNING:absl:Found untraced functions such as _update_step_xla while saving (showing 1 of 1). These functions will not be directly callable after loading.\n"
          ]
        },
        {
          "output_type": "stream",
          "name": "stdout",
          "text": [
            "\b\b\b\b\b\b\b\b\b\b\b\b\b\b\b\b\b\b\b\b\b\b\b\b\b\b\b\b\b\b\b\b\b\b\b\b\b\b\b\b\b\b\b\b\b\b\b\b\b\b\b\b\b\b\b\b\b\b\b\b\b\b\b\b\b\b\b\b\b\b\b\b\b\b\b\b\b\b\b\b\b\b\b\b\b\b\b\b\b\b\b\r22/22 [==============================] - 1s 46ms/step - loss: 1.9769 - mae: 1.9769 - mse: 6.7104 - val_loss: 1.0403 - val_mae: 1.0403 - val_mse: 1.9515\n",
            "Epoch 9/100\n",
            "15/22 [===================>..........] - ETA: 0s - loss: 1.4593 - mae: 1.4593 - mse: 4.2352\n",
            "Epoch 9: val_loss did not improve from 1.04027\n",
            "22/22 [==============================] - 0s 6ms/step - loss: 1.4737 - mae: 1.4737 - mse: 4.3078 - val_loss: 1.9703 - val_mae: 1.9703 - val_mse: 5.2588\n",
            "Epoch 10/100\n",
            "15/22 [===================>..........] - ETA: 0s - loss: 2.2280 - mae: 2.2280 - mse: 8.2630 \n",
            "Epoch 10: val_loss improved from 1.04027 to 1.01431, saving model to /content/drive/MyDrive/Best_Models_Projects/Amazon_1d_Best_Model/model_2_multivariate\n"
          ]
        },
        {
          "output_type": "stream",
          "name": "stderr",
          "text": [
            "WARNING:absl:Found untraced functions such as _update_step_xla while saving (showing 1 of 1). These functions will not be directly callable after loading.\n"
          ]
        },
        {
          "output_type": "stream",
          "name": "stdout",
          "text": [
            "\b\b\b\b\b\b\b\b\b\b\b\b\b\b\b\b\b\b\b\b\b\b\b\b\b\b\b\b\b\b\b\b\b\b\b\b\b\b\b\b\b\b\b\b\b\b\b\b\b\b\b\b\b\b\b\b\b\b\b\b\b\b\b\b\b\b\b\b\b\b\b\b\b\b\b\b\b\b\b\b\b\b\b\b\b\b\b\b\b\b\b\r22/22 [==============================] - 1s 48ms/step - loss: 2.0658 - mae: 2.0658 - mse: 7.2235 - val_loss: 1.0143 - val_mae: 1.0143 - val_mse: 1.8406\n",
            "Epoch 11/100\n",
            "16/22 [====================>.........] - ETA: 0s - loss: 1.4871 - mae: 1.4871 - mse: 4.3856\n",
            "Epoch 11: val_loss did not improve from 1.01431\n",
            "22/22 [==============================] - 0s 6ms/step - loss: 1.4439 - mae: 1.4439 - mse: 4.1497 - val_loss: 1.0713 - val_mae: 1.0713 - val_mse: 2.0433\n",
            "Epoch 12/100\n",
            "22/22 [==============================] - ETA: 0s - loss: 1.9523 - mae: 1.9523 - mse: 6.7141\n",
            "Epoch 12: val_loss improved from 1.01431 to 0.98563, saving model to /content/drive/MyDrive/Best_Models_Projects/Amazon_1d_Best_Model/model_2_multivariate\n"
          ]
        },
        {
          "output_type": "stream",
          "name": "stderr",
          "text": [
            "WARNING:absl:Found untraced functions such as _update_step_xla while saving (showing 1 of 1). These functions will not be directly callable after loading.\n"
          ]
        },
        {
          "output_type": "stream",
          "name": "stdout",
          "text": [
            "\b\b\b\b\b\b\b\b\b\b\b\b\b\b\b\b\b\b\b\b\b\b\b\b\b\b\b\b\b\b\b\b\b\b\b\b\b\b\b\b\b\b\b\b\b\b\b\b\b\b\b\b\b\b\b\b\b\b\b\b\b\b\b\b\b\b\b\b\b\b\b\b\b\b\b\b\b\b\b\b\b\b\b\b\b\b\b\b\b\b\b\r22/22 [==============================] - 1s 52ms/step - loss: 1.9523 - mae: 1.9523 - mse: 6.7141 - val_loss: 0.9856 - val_mae: 0.9856 - val_mse: 1.7505\n",
            "Epoch 13/100\n",
            "15/22 [===================>..........] - ETA: 0s - loss: 1.4655 - mae: 1.4655 - mse: 4.2489\n",
            "Epoch 13: val_loss did not improve from 0.98563\n",
            "22/22 [==============================] - 0s 6ms/step - loss: 1.4792 - mae: 1.4792 - mse: 4.2055 - val_loss: 1.9810 - val_mae: 1.9810 - val_mse: 5.1999\n",
            "Epoch 14/100\n",
            "15/22 [===================>..........] - ETA: 0s - loss: 2.6456 - mae: 2.6456 - mse: 10.0225\n",
            "Epoch 14: val_loss did not improve from 0.98563\n",
            "22/22 [==============================] - 0s 6ms/step - loss: 2.4721 - mae: 2.4721 - mse: 9.0344 - val_loss: 1.4721 - val_mae: 1.4721 - val_mse: 3.2596\n",
            "Epoch 15/100\n",
            "15/22 [===================>..........] - ETA: 0s - loss: 2.3309 - mae: 2.3309 - mse: 8.2102\n",
            "Epoch 15: val_loss did not improve from 0.98563\n",
            "22/22 [==============================] - 0s 6ms/step - loss: 2.3046 - mae: 2.3046 - mse: 8.0593 - val_loss: 2.0151 - val_mae: 2.0151 - val_mse: 5.3219\n",
            "Epoch 16/100\n",
            "15/22 [===================>..........] - ETA: 0s - loss: 2.2682 - mae: 2.2682 - mse: 8.1317 \n",
            "Epoch 16: val_loss did not improve from 0.98563\n",
            "22/22 [==============================] - 0s 6ms/step - loss: 2.0982 - mae: 2.0982 - mse: 7.1730 - val_loss: 2.5129 - val_mae: 2.5129 - val_mse: 7.7663\n",
            "Epoch 17/100\n",
            "16/22 [====================>.........] - ETA: 0s - loss: 2.4022 - mae: 2.4022 - mse: 8.7203 \n",
            "Epoch 17: val_loss did not improve from 0.98563\n",
            "22/22 [==============================] - 0s 6ms/step - loss: 2.3732 - mae: 2.3732 - mse: 8.4437 - val_loss: 1.1044 - val_mae: 1.1044 - val_mse: 2.0823\n",
            "Epoch 18/100\n",
            "12/22 [===============>..............] - ETA: 0s - loss: 2.0654 - mae: 2.0654 - mse: 6.5954\n",
            "Epoch 18: val_loss did not improve from 0.98563\n",
            "22/22 [==============================] - 0s 6ms/step - loss: 2.0905 - mae: 2.0905 - mse: 6.9358 - val_loss: 1.3961 - val_mae: 1.3961 - val_mse: 2.9810\n",
            "Epoch 19/100\n",
            "15/22 [===================>..........] - ETA: 0s - loss: 1.9340 - mae: 1.9340 - mse: 6.0280\n",
            "Epoch 19: val_loss did not improve from 0.98563\n",
            "22/22 [==============================] - 0s 5ms/step - loss: 1.9590 - mae: 1.9590 - mse: 6.1457 - val_loss: 1.0514 - val_mae: 1.0514 - val_mse: 1.9419\n",
            "Epoch 20/100\n",
            "13/22 [================>.............] - ETA: 0s - loss: 1.3722 - mae: 1.3722 - mse: 3.9217\n",
            "Epoch 20: val_loss did not improve from 0.98563\n",
            "22/22 [==============================] - 0s 6ms/step - loss: 1.3409 - mae: 1.3409 - mse: 3.6753 - val_loss: 2.3878 - val_mae: 2.3878 - val_mse: 7.0210\n",
            "Epoch 21/100\n",
            "16/22 [====================>.........] - ETA: 0s - loss: 2.2884 - mae: 2.2884 - mse: 8.0466 \n",
            "Epoch 21: val_loss did not improve from 0.98563\n",
            "22/22 [==============================] - 0s 5ms/step - loss: 2.1131 - mae: 2.1131 - mse: 7.1303 - val_loss: 1.4978 - val_mae: 1.4978 - val_mse: 3.2781\n",
            "Epoch 22/100\n",
            "16/22 [====================>.........] - ETA: 0s - loss: 1.9808 - mae: 1.9808 - mse: 6.1947\n",
            "Epoch 22: val_loss did not improve from 0.98563\n",
            "22/22 [==============================] - 0s 6ms/step - loss: 2.0407 - mae: 2.0407 - mse: 6.3728 - val_loss: 1.6281 - val_mae: 1.6281 - val_mse: 3.7167\n",
            "Epoch 23/100\n",
            "16/22 [====================>.........] - ETA: 0s - loss: 1.9802 - mae: 1.9802 - mse: 5.9563\n",
            "Epoch 23: val_loss improved from 0.98563 to 0.91501, saving model to /content/drive/MyDrive/Best_Models_Projects/Amazon_1d_Best_Model/model_2_multivariate\n"
          ]
        },
        {
          "output_type": "stream",
          "name": "stderr",
          "text": [
            "WARNING:absl:Found untraced functions such as _update_step_xla while saving (showing 1 of 1). These functions will not be directly callable after loading.\n"
          ]
        },
        {
          "output_type": "stream",
          "name": "stdout",
          "text": [
            "\b\b\b\b\b\b\b\b\b\b\b\b\b\b\b\b\b\b\b\b\b\b\b\b\b\b\b\b\b\b\b\b\b\b\b\b\b\b\b\b\b\b\b\b\b\b\b\b\b\b\b\b\b\b\b\b\b\b\b\b\b\b\b\b\b\b\b\b\b\b\b\b\b\b\b\b\b\b\b\b\b\b\b\b\b\b\b\b\b\b\b\r22/22 [==============================] - 1s 47ms/step - loss: 1.9783 - mae: 1.9783 - mse: 6.0124 - val_loss: 0.9150 - val_mae: 0.9150 - val_mse: 1.5430\n",
            "Epoch 24/100\n",
            "11/22 [==============>...............] - ETA: 0s - loss: 1.5692 - mae: 1.5692 - mse: 4.3024\n",
            "Epoch 24: val_loss did not improve from 0.91501\n",
            "22/22 [==============================] - 0s 7ms/step - loss: 1.7582 - mae: 1.7582 - mse: 5.0924 - val_loss: 1.4839 - val_mae: 1.4839 - val_mse: 3.2006\n",
            "Epoch 25/100\n",
            "16/22 [====================>.........] - ETA: 0s - loss: 2.1281 - mae: 2.1281 - mse: 6.6943\n",
            "Epoch 25: val_loss did not improve from 0.91501\n",
            "22/22 [==============================] - 0s 8ms/step - loss: 2.0945 - mae: 2.0945 - mse: 6.6154 - val_loss: 1.8571 - val_mae: 1.8571 - val_mse: 4.5594\n",
            "Epoch 26/100\n",
            "15/22 [===================>..........] - ETA: 0s - loss: 2.2211 - mae: 2.2211 - mse: 7.4717 \n",
            "Epoch 26: val_loss did not improve from 0.91501\n",
            "22/22 [==============================] - 0s 6ms/step - loss: 2.0156 - mae: 2.0156 - mse: 6.5732 - val_loss: 3.4586 - val_mae: 3.4586 - val_mse: 13.4397\n",
            "Epoch 27/100\n",
            "15/22 [===================>..........] - ETA: 0s - loss: 2.5442 - mae: 2.5442 - mse: 9.8326 \n",
            "Epoch 27: val_loss did not improve from 0.91501\n",
            "22/22 [==============================] - 0s 6ms/step - loss: 2.2874 - mae: 2.2874 - mse: 8.4198 - val_loss: 1.1950 - val_mae: 1.1950 - val_mse: 2.2937\n",
            "Epoch 28/100\n",
            "16/22 [====================>.........] - ETA: 0s - loss: 1.7668 - mae: 1.7668 - mse: 5.3416\n",
            "Epoch 28: val_loss improved from 0.91501 to 0.86246, saving model to /content/drive/MyDrive/Best_Models_Projects/Amazon_1d_Best_Model/model_2_multivariate\n"
          ]
        },
        {
          "output_type": "stream",
          "name": "stderr",
          "text": [
            "WARNING:absl:Found untraced functions such as _update_step_xla while saving (showing 1 of 1). These functions will not be directly callable after loading.\n"
          ]
        },
        {
          "output_type": "stream",
          "name": "stdout",
          "text": [
            "\b\b\b\b\b\b\b\b\b\b\b\b\b\b\b\b\b\b\b\b\b\b\b\b\b\b\b\b\b\b\b\b\b\b\b\b\b\b\b\b\b\b\b\b\b\b\b\b\b\b\b\b\b\b\b\b\b\b\b\b\b\b\b\b\b\b\b\b\b\b\b\b\b\b\b\b\b\b\b\b\b\b\b\b\b\b\b\b\b\b\b\r22/22 [==============================] - 1s 48ms/step - loss: 1.7873 - mae: 1.7873 - mse: 5.3920 - val_loss: 0.8625 - val_mae: 0.8625 - val_mse: 1.4069\n",
            "Epoch 29/100\n",
            "21/22 [===========================>..] - ETA: 0s - loss: 1.2134 - mae: 1.2134 - mse: 3.1237\n",
            "Epoch 29: val_loss did not improve from 0.86246\n",
            "22/22 [==============================] - 0s 9ms/step - loss: 1.2133 - mae: 1.2133 - mse: 3.1248 - val_loss: 1.5674 - val_mae: 1.5674 - val_mse: 3.4205\n",
            "Epoch 30/100\n",
            "20/22 [==========================>...] - ETA: 0s - loss: 1.8275 - mae: 1.8275 - mse: 5.3375\n",
            "Epoch 30: val_loss did not improve from 0.86246\n",
            "22/22 [==============================] - 0s 8ms/step - loss: 1.8083 - mae: 1.8083 - mse: 5.2450 - val_loss: 0.8715 - val_mae: 0.8715 - val_mse: 1.4302\n",
            "Epoch 31/100\n",
            "21/22 [===========================>..] - ETA: 0s - loss: 1.2855 - mae: 1.2855 - mse: 3.3495\n",
            "Epoch 31: val_loss improved from 0.86246 to 0.83500, saving model to /content/drive/MyDrive/Best_Models_Projects/Amazon_1d_Best_Model/model_2_multivariate\n"
          ]
        },
        {
          "output_type": "stream",
          "name": "stderr",
          "text": [
            "WARNING:absl:Found untraced functions such as _update_step_xla while saving (showing 1 of 1). These functions will not be directly callable after loading.\n"
          ]
        },
        {
          "output_type": "stream",
          "name": "stdout",
          "text": [
            "\b\b\b\b\b\b\b\b\b\b\b\b\b\b\b\b\b\b\b\b\b\b\b\b\b\b\b\b\b\b\b\b\b\b\b\b\b\b\b\b\b\b\b\b\b\b\b\b\b\b\b\b\b\b\b\b\b\b\b\b\b\b\b\b\b\b\b\b\b\b\b\b\b\b\b\b\b\b\b\b\b\b\b\b\b\b\b\b\b\b\b\r22/22 [==============================] - 1s 69ms/step - loss: 1.2857 - mae: 1.2857 - mse: 3.3500 - val_loss: 0.8350 - val_mae: 0.8350 - val_mse: 1.3323\n",
            "Epoch 32/100\n",
            "18/22 [=======================>......] - ETA: 0s - loss: 1.2621 - mae: 1.2621 - mse: 3.2754\n",
            "Epoch 32: val_loss did not improve from 0.83500\n",
            "22/22 [==============================] - 0s 9ms/step - loss: 1.2524 - mae: 1.2524 - mse: 3.1729 - val_loss: 1.1584 - val_mae: 1.1584 - val_mse: 2.1245\n",
            "Epoch 33/100\n",
            "20/22 [==========================>...] - ETA: 0s - loss: 1.6391 - mae: 1.6391 - mse: 4.6887\n",
            "Epoch 33: val_loss did not improve from 0.83500\n",
            "22/22 [==============================] - 0s 9ms/step - loss: 1.6266 - mae: 1.6266 - mse: 4.6543 - val_loss: 0.9734 - val_mae: 0.9734 - val_mse: 1.6477\n",
            "Epoch 34/100\n",
            "21/22 [===========================>..] - ETA: 0s - loss: 1.2101 - mae: 1.2101 - mse: 3.0297\n",
            "Epoch 34: val_loss did not improve from 0.83500\n",
            "22/22 [==============================] - 0s 8ms/step - loss: 1.2106 - mae: 1.2106 - mse: 3.0295 - val_loss: 0.9716 - val_mae: 0.9716 - val_mse: 1.6312\n",
            "Epoch 35/100\n",
            "20/22 [==========================>...] - ETA: 0s - loss: 1.7133 - mae: 1.7133 - mse: 4.8828\n",
            "Epoch 35: val_loss did not improve from 0.83500\n",
            "22/22 [==============================] - 0s 8ms/step - loss: 1.6925 - mae: 1.6925 - mse: 4.8250 - val_loss: 0.9631 - val_mae: 0.9631 - val_mse: 1.6092\n",
            "Epoch 36/100\n",
            "19/22 [========================>.....] - ETA: 0s - loss: 1.3136 - mae: 1.3136 - mse: 3.2937\n",
            "Epoch 36: val_loss did not improve from 0.83500\n",
            "22/22 [==============================] - 0s 9ms/step - loss: 1.3139 - mae: 1.3139 - mse: 3.2988 - val_loss: 1.5614 - val_mae: 1.5614 - val_mse: 3.2788\n",
            "Epoch 37/100\n",
            "20/22 [==========================>...] - ETA: 0s - loss: 2.1291 - mae: 2.1291 - mse: 6.6107\n",
            "Epoch 37: val_loss did not improve from 0.83500\n",
            "22/22 [==============================] - 0s 9ms/step - loss: 2.1085 - mae: 2.1085 - mse: 6.4927 - val_loss: 1.3582 - val_mae: 1.3582 - val_mse: 2.6515\n",
            "Epoch 38/100\n",
            "20/22 [==========================>...] - ETA: 0s - loss: 1.9039 - mae: 1.9039 - mse: 5.5720\n",
            "Epoch 38: val_loss improved from 0.83500 to 0.81498, saving model to /content/drive/MyDrive/Best_Models_Projects/Amazon_1d_Best_Model/model_2_multivariate\n"
          ]
        },
        {
          "output_type": "stream",
          "name": "stderr",
          "text": [
            "WARNING:absl:Found untraced functions such as _update_step_xla while saving (showing 1 of 1). These functions will not be directly callable after loading.\n"
          ]
        },
        {
          "output_type": "stream",
          "name": "stdout",
          "text": [
            "\b\b\b\b\b\b\b\b\b\b\b\b\b\b\b\b\b\b\b\b\b\b\b\b\b\b\b\b\b\b\b\b\b\b\b\b\b\b\b\b\b\b\b\b\b\b\b\b\b\b\b\b\b\b\b\b\b\b\b\b\b\b\b\b\b\b\b\b\b\b\b\b\b\b\b\b\b\b\b\b\b\b\b\b\b\b\b\b\b\b\b\r22/22 [==============================] - 1s 66ms/step - loss: 1.9085 - mae: 1.9085 - mse: 5.5780 - val_loss: 0.8150 - val_mae: 0.8150 - val_mse: 1.2658\n",
            "Epoch 39/100\n",
            "18/22 [=======================>......] - ETA: 0s - loss: 1.8848 - mae: 1.8848 - mse: 5.5581\n",
            "Epoch 39: val_loss did not improve from 0.81498\n",
            "22/22 [==============================] - 0s 11ms/step - loss: 1.8454 - mae: 1.8454 - mse: 5.3586 - val_loss: 0.8717 - val_mae: 0.8717 - val_mse: 1.3942\n",
            "Epoch 40/100\n",
            "22/22 [==============================] - ETA: 0s - loss: 1.1644 - mae: 1.1644 - mse: 2.9029\n",
            "Epoch 40: val_loss did not improve from 0.81498\n",
            "22/22 [==============================] - 0s 15ms/step - loss: 1.1644 - mae: 1.1644 - mse: 2.9029 - val_loss: 1.1641 - val_mae: 1.1641 - val_mse: 2.0697\n",
            "Epoch 41/100\n",
            "17/22 [======================>.......] - ETA: 0s - loss: 1.2844 - mae: 1.2844 - mse: 3.1170\n",
            "Epoch 41: val_loss did not improve from 0.81498\n",
            "22/22 [==============================] - 0s 10ms/step - loss: 1.2670 - mae: 1.2670 - mse: 3.1665 - val_loss: 1.1651 - val_mae: 1.1651 - val_mse: 2.0557\n",
            "Epoch 42/100\n",
            "21/22 [===========================>..] - ETA: 0s - loss: 1.6066 - mae: 1.6066 - mse: 4.5556\n",
            "Epoch 42: val_loss did not improve from 0.81498\n",
            "22/22 [==============================] - 0s 11ms/step - loss: 1.6076 - mae: 1.6076 - mse: 4.5601 - val_loss: 1.8669 - val_mae: 1.8669 - val_mse: 4.3717\n",
            "Epoch 43/100\n",
            "15/22 [===================>..........] - ETA: 0s - loss: 1.2996 - mae: 1.2996 - mse: 3.4439\n",
            "Epoch 43: val_loss improved from 0.81498 to 0.74912, saving model to /content/drive/MyDrive/Best_Models_Projects/Amazon_1d_Best_Model/model_2_multivariate\n"
          ]
        },
        {
          "output_type": "stream",
          "name": "stderr",
          "text": [
            "WARNING:absl:Found untraced functions such as _update_step_xla while saving (showing 1 of 1). These functions will not be directly callable after loading.\n"
          ]
        },
        {
          "output_type": "stream",
          "name": "stdout",
          "text": [
            "\b\b\b\b\b\b\b\b\b\b\b\b\b\b\b\b\b\b\b\b\b\b\b\b\b\b\b\b\b\b\b\b\b\b\b\b\b\b\b\b\b\b\b\b\b\b\b\b\b\b\b\b\b\b\b\b\b\b\b\b\b\b\b\b\b\b\b\b\b\b\b\b\b\b\b\b\b\b\b\b\b\b\b\b\b\b\b\b\b\b\b\r22/22 [==============================] - 2s 117ms/step - loss: 1.2547 - mae: 1.2547 - mse: 3.2103 - val_loss: 0.7491 - val_mae: 0.7491 - val_mse: 1.1165\n",
            "Epoch 44/100\n",
            "19/22 [========================>.....] - ETA: 0s - loss: 1.6736 - mae: 1.6736 - mse: 4.6414\n",
            "Epoch 44: val_loss did not improve from 0.74912\n",
            "22/22 [==============================] - 0s 11ms/step - loss: 1.7008 - mae: 1.7008 - mse: 4.7175 - val_loss: 2.2179 - val_mae: 2.2179 - val_mse: 5.8332\n",
            "Epoch 45/100\n",
            "17/22 [======================>.......] - ETA: 0s - loss: 3.4607 - mae: 3.4607 - mse: 16.2567\n",
            "Epoch 45: val_loss did not improve from 0.74912\n",
            "22/22 [==============================] - 0s 12ms/step - loss: 3.5580 - mae: 3.5580 - mse: 16.8205 - val_loss: 2.3285 - val_mae: 2.3285 - val_mse: 6.4516\n",
            "Epoch 46/100\n",
            "16/22 [====================>.........] - ETA: 0s - loss: 2.0425 - mae: 2.0425 - mse: 6.3149\n",
            "Epoch 46: val_loss did not improve from 0.74912\n",
            "22/22 [==============================] - 0s 12ms/step - loss: 2.0008 - mae: 2.0008 - mse: 5.9735 - val_loss: 2.0729 - val_mae: 2.0729 - val_mse: 5.2056\n",
            "Epoch 47/100\n",
            "17/22 [======================>.......] - ETA: 0s - loss: 2.2163 - mae: 2.2163 - mse: 7.5047\n",
            "Epoch 47: val_loss did not improve from 0.74912\n",
            "22/22 [==============================] - 0s 12ms/step - loss: 2.1768 - mae: 2.1768 - mse: 7.1796 - val_loss: 1.1157 - val_mae: 1.1157 - val_mse: 1.9404\n",
            "Epoch 48/100\n",
            "18/22 [=======================>......] - ETA: 0s - loss: 1.4260 - mae: 1.4260 - mse: 3.6893\n",
            "Epoch 48: val_loss did not improve from 0.74912\n",
            "22/22 [==============================] - 0s 11ms/step - loss: 1.3869 - mae: 1.3869 - mse: 3.5129 - val_loss: 0.7557 - val_mae: 0.7557 - val_mse: 1.1299\n",
            "Epoch 49/100\n",
            "16/22 [====================>.........] - ETA: 0s - loss: 1.2140 - mae: 1.2140 - mse: 3.0292\n",
            "Epoch 49: val_loss did not improve from 0.74912\n",
            "22/22 [==============================] - 0s 13ms/step - loss: 1.2179 - mae: 1.2179 - mse: 2.9477 - val_loss: 0.7861 - val_mae: 0.7861 - val_mse: 1.1866\n",
            "Epoch 50/100\n",
            "20/22 [==========================>...] - ETA: 0s - loss: 1.1320 - mae: 1.1320 - mse: 2.6950\n",
            "Epoch 50: val_loss did not improve from 0.74912\n",
            "22/22 [==============================] - 0s 17ms/step - loss: 1.1352 - mae: 1.1352 - mse: 2.6850 - val_loss: 0.8372 - val_mae: 0.8372 - val_mse: 1.2862\n",
            "Epoch 51/100\n",
            "19/22 [========================>.....] - ETA: 0s - loss: 1.5670 - mae: 1.5670 - mse: 4.3339\n",
            "Epoch 51: val_loss did not improve from 0.74912\n",
            "22/22 [==============================] - 0s 12ms/step - loss: 1.5660 - mae: 1.5660 - mse: 4.2356 - val_loss: 1.3033 - val_mae: 1.3033 - val_mse: 2.4006\n",
            "Epoch 52/100\n",
            "19/22 [========================>.....] - ETA: 0s - loss: 1.7776 - mae: 1.7776 - mse: 4.7983\n",
            "Epoch 52: val_loss did not improve from 0.74912\n",
            "22/22 [==============================] - 0s 14ms/step - loss: 1.8257 - mae: 1.8257 - mse: 5.0325 - val_loss: 1.0324 - val_mae: 1.0324 - val_mse: 1.7027\n",
            "Epoch 53/100\n",
            "20/22 [==========================>...] - ETA: 0s - loss: 1.7907 - mae: 1.7907 - mse: 4.8351\n",
            "Epoch 53: val_loss improved from 0.74912 to 0.74312, saving model to /content/drive/MyDrive/Best_Models_Projects/Amazon_1d_Best_Model/model_2_multivariate\n"
          ]
        },
        {
          "output_type": "stream",
          "name": "stderr",
          "text": [
            "WARNING:absl:Found untraced functions such as _update_step_xla while saving (showing 1 of 1). These functions will not be directly callable after loading.\n"
          ]
        },
        {
          "output_type": "stream",
          "name": "stdout",
          "text": [
            "\b\b\b\b\b\b\b\b\b\b\b\b\b\b\b\b\b\b\b\b\b\b\b\b\b\b\b\b\b\b\b\b\b\b\b\b\b\b\b\b\b\b\b\b\b\b\b\b\b\b\b\b\b\b\b\b\b\b\b\b\b\b\b\b\b\b\b\b\b\b\b\b\b\b\b\b\b\b\b\b\b\b\b\b\b\b\b\b\b\b\b\r22/22 [==============================] - 3s 130ms/step - loss: 1.7912 - mae: 1.7912 - mse: 4.8471 - val_loss: 0.7431 - val_mae: 0.7431 - val_mse: 1.0893\n",
            "Epoch 54/100\n",
            "19/22 [========================>.....] - ETA: 0s - loss: 1.2410 - mae: 1.2410 - mse: 3.0644\n",
            "Epoch 54: val_loss improved from 0.74312 to 0.71571, saving model to /content/drive/MyDrive/Best_Models_Projects/Amazon_1d_Best_Model/model_2_multivariate\n"
          ]
        },
        {
          "output_type": "stream",
          "name": "stderr",
          "text": [
            "WARNING:absl:Found untraced functions such as _update_step_xla while saving (showing 1 of 1). These functions will not be directly callable after loading.\n"
          ]
        },
        {
          "output_type": "stream",
          "name": "stdout",
          "text": [
            "\b\b\b\b\b\b\b\b\b\b\b\b\b\b\b\b\b\b\b\b\b\b\b\b\b\b\b\b\b\b\b\b\b\b\b\b\b\b\b\b\b\b\b\b\b\b\b\b\b\b\b\b\b\b\b\b\b\b\b\b\b\b\b\b\b\b\b\b\b\b\b\b\b\b\b\b\b\b\b\b\b\b\b\b\b\b\b\b\b\b\b\r22/22 [==============================] - 5s 239ms/step - loss: 1.2623 - mae: 1.2623 - mse: 3.1203 - val_loss: 0.7157 - val_mae: 0.7157 - val_mse: 1.0419\n",
            "Epoch 55/100\n",
            "21/22 [===========================>..] - ETA: 0s - loss: 1.1459 - mae: 1.1459 - mse: 2.7572\n",
            "Epoch 55: val_loss did not improve from 0.71571\n",
            "22/22 [==============================] - 0s 13ms/step - loss: 1.1464 - mae: 1.1464 - mse: 2.7562 - val_loss: 0.7488 - val_mae: 0.7488 - val_mse: 1.1016\n",
            "Epoch 56/100\n",
            "19/22 [========================>.....] - ETA: 0s - loss: 1.2047 - mae: 1.2047 - mse: 2.8698\n",
            "Epoch 56: val_loss improved from 0.71571 to 0.70773, saving model to /content/drive/MyDrive/Best_Models_Projects/Amazon_1d_Best_Model/model_2_multivariate\n"
          ]
        },
        {
          "output_type": "stream",
          "name": "stderr",
          "text": [
            "WARNING:absl:Found untraced functions such as _update_step_xla while saving (showing 1 of 1). These functions will not be directly callable after loading.\n"
          ]
        },
        {
          "output_type": "stream",
          "name": "stdout",
          "text": [
            "\b\b\b\b\b\b\b\b\b\b\b\b\b\b\b\b\b\b\b\b\b\b\b\b\b\b\b\b\b\b\b\b\b\b\b\b\b\b\b\b\b\b\b\b\b\b\b\b\b\b\b\b\b\b\b\b\b\b\b\b\b\b\b\b\b\b\b\b\b\b\b\b\b\b\b\b\b\b\b\b\b\b\b\b\b\b\b\b\b\b\b\r22/22 [==============================] - 3s 144ms/step - loss: 1.1979 - mae: 1.1979 - mse: 2.7965 - val_loss: 0.7077 - val_mae: 0.7077 - val_mse: 1.0167\n",
            "Epoch 57/100\n",
            "22/22 [==============================] - ETA: 0s - loss: 1.0927 - mae: 1.0927 - mse: 2.5656\n",
            "Epoch 57: val_loss did not improve from 0.70773\n",
            "22/22 [==============================] - 0s 14ms/step - loss: 1.0927 - mae: 1.0927 - mse: 2.5656 - val_loss: 1.2861 - val_mae: 1.2861 - val_mse: 2.3300\n",
            "Epoch 58/100\n",
            "19/22 [========================>.....] - ETA: 0s - loss: 1.8418 - mae: 1.8418 - mse: 5.3554\n",
            "Epoch 58: val_loss did not improve from 0.70773\n",
            "22/22 [==============================] - 0s 17ms/step - loss: 1.7972 - mae: 1.7972 - mse: 5.1676 - val_loss: 1.0481 - val_mae: 1.0481 - val_mse: 1.7184\n",
            "Epoch 59/100\n",
            "20/22 [==========================>...] - ETA: 0s - loss: 1.2319 - mae: 1.2319 - mse: 2.9464\n",
            "Epoch 59: val_loss did not improve from 0.70773\n",
            "22/22 [==============================] - 0s 16ms/step - loss: 1.2165 - mae: 1.2165 - mse: 2.8758 - val_loss: 0.9918 - val_mae: 0.9918 - val_mse: 1.5639\n",
            "Epoch 60/100\n",
            "17/22 [======================>.......] - ETA: 0s - loss: 1.8571 - mae: 1.8571 - mse: 5.1485\n",
            "Epoch 60: val_loss did not improve from 0.70773\n",
            "22/22 [==============================] - 0s 13ms/step - loss: 1.7942 - mae: 1.7942 - mse: 4.8417 - val_loss: 0.9216 - val_mae: 0.9216 - val_mse: 1.4278\n",
            "Epoch 61/100\n",
            "20/22 [==========================>...] - ETA: 0s - loss: 1.8213 - mae: 1.8213 - mse: 5.1933\n",
            "Epoch 61: val_loss did not improve from 0.70773\n",
            "22/22 [==============================] - 0s 16ms/step - loss: 1.8032 - mae: 1.8032 - mse: 5.1937 - val_loss: 1.0202 - val_mae: 1.0202 - val_mse: 1.6353\n",
            "Epoch 62/100\n",
            "19/22 [========================>.....] - ETA: 0s - loss: 1.7168 - mae: 1.7168 - mse: 4.7228\n",
            "Epoch 62: val_loss did not improve from 0.70773\n",
            "22/22 [==============================] - 0s 17ms/step - loss: 1.7256 - mae: 1.7256 - mse: 4.7154 - val_loss: 1.1655 - val_mae: 1.1655 - val_mse: 2.0103\n",
            "Epoch 63/100\n",
            "19/22 [========================>.....] - ETA: 0s - loss: 1.7831 - mae: 1.7831 - mse: 4.6450\n",
            "Epoch 63: val_loss did not improve from 0.70773\n",
            "22/22 [==============================] - 0s 17ms/step - loss: 1.7825 - mae: 1.7825 - mse: 4.7117 - val_loss: 1.1880 - val_mae: 1.1880 - val_mse: 2.0483\n",
            "Epoch 64/100\n",
            "22/22 [==============================] - ETA: 0s - loss: 1.7371 - mae: 1.7371 - mse: 4.5757\n",
            "Epoch 64: val_loss did not improve from 0.70773\n",
            "22/22 [==============================] - 0s 14ms/step - loss: 1.7371 - mae: 1.7371 - mse: 4.5757 - val_loss: 0.9099 - val_mae: 0.9099 - val_mse: 1.4068\n",
            "Epoch 65/100\n",
            "17/22 [======================>.......] - ETA: 0s - loss: 1.4099 - mae: 1.4099 - mse: 3.6896\n",
            "Epoch 65: val_loss improved from 0.70773 to 0.69950, saving model to /content/drive/MyDrive/Best_Models_Projects/Amazon_1d_Best_Model/model_2_multivariate\n"
          ]
        },
        {
          "output_type": "stream",
          "name": "stderr",
          "text": [
            "WARNING:absl:Found untraced functions such as _update_step_xla while saving (showing 1 of 1). These functions will not be directly callable after loading.\n"
          ]
        },
        {
          "output_type": "stream",
          "name": "stdout",
          "text": [
            "\b\b\b\b\b\b\b\b\b\b\b\b\b\b\b\b\b\b\b\b\b\b\b\b\b\b\b\b\b\b\b\b\b\b\b\b\b\b\b\b\b\b\b\b\b\b\b\b\b\b\b\b\b\b\b\b\b\b\b\b\b\b\b\b\b\b\b\b\b\b\b\b\b\b\b\b\b\b\b\b\b\b\b\b\b\b\b\b\b\b\b\r22/22 [==============================] - 3s 159ms/step - loss: 1.4990 - mae: 1.4990 - mse: 3.9090 - val_loss: 0.6995 - val_mae: 0.6995 - val_mse: 0.9968\n",
            "Epoch 66/100\n",
            "21/22 [===========================>..] - ETA: 0s - loss: 1.0541 - mae: 1.0541 - mse: 2.3949\n",
            "Epoch 66: val_loss did not improve from 0.69950\n",
            "22/22 [==============================] - 0s 21ms/step - loss: 1.0550 - mae: 1.0550 - mse: 2.3966 - val_loss: 0.7147 - val_mae: 0.7147 - val_mse: 1.0206\n",
            "Epoch 67/100\n",
            "22/22 [==============================] - ETA: 0s - loss: 1.0720 - mae: 1.0720 - mse: 2.4128\n",
            "Epoch 67: val_loss did not improve from 0.69950\n",
            "22/22 [==============================] - 0s 22ms/step - loss: 1.0720 - mae: 1.0720 - mse: 2.4128 - val_loss: 1.6033 - val_mae: 1.6033 - val_mse: 3.3095\n",
            "Epoch 68/100\n",
            "22/22 [==============================] - ETA: 0s - loss: 1.4434 - mae: 1.4434 - mse: 3.8259\n",
            "Epoch 68: val_loss did not improve from 0.69950\n",
            "22/22 [==============================] - 1s 25ms/step - loss: 1.4434 - mae: 1.4434 - mse: 3.8259 - val_loss: 1.6637 - val_mae: 1.6637 - val_mse: 3.5200\n",
            "Epoch 69/100\n",
            "20/22 [==========================>...] - ETA: 0s - loss: 1.7773 - mae: 1.7773 - mse: 4.9775\n",
            "Epoch 69: val_loss did not improve from 0.69950\n",
            "22/22 [==============================] - 0s 22ms/step - loss: 1.7687 - mae: 1.7687 - mse: 4.9019 - val_loss: 1.7322 - val_mae: 1.7322 - val_mse: 3.7649\n",
            "Epoch 70/100\n",
            "17/22 [======================>.......] - ETA: 0s - loss: 1.3896 - mae: 1.3896 - mse: 3.5734\n",
            "Epoch 70: val_loss did not improve from 0.69950\n",
            "22/22 [==============================] - 0s 22ms/step - loss: 1.3289 - mae: 1.3289 - mse: 3.4497 - val_loss: 0.7392 - val_mae: 0.7392 - val_mse: 1.0641\n",
            "Epoch 71/100\n",
            "19/22 [========================>.....] - ETA: 0s - loss: 1.1066 - mae: 1.1066 - mse: 2.5102\n",
            "Epoch 71: val_loss did not improve from 0.69950\n",
            "22/22 [==============================] - 0s 18ms/step - loss: 1.1087 - mae: 1.1087 - mse: 2.5087 - val_loss: 1.1834 - val_mae: 1.1834 - val_mse: 2.0327\n",
            "Epoch 72/100\n",
            "19/22 [========================>.....] - ETA: 0s - loss: 1.7301 - mae: 1.7301 - mse: 4.7344\n",
            "Epoch 72: val_loss did not improve from 0.69950\n",
            "22/22 [==============================] - 1s 26ms/step - loss: 1.7370 - mae: 1.7370 - mse: 4.8078 - val_loss: 0.7735 - val_mae: 0.7735 - val_mse: 1.1153\n",
            "Epoch 73/100\n",
            "20/22 [==========================>...] - ETA: 0s - loss: 1.6924 - mae: 1.6924 - mse: 4.4989\n",
            "Epoch 73: val_loss did not improve from 0.69950\n",
            "22/22 [==============================] - 0s 23ms/step - loss: 1.6651 - mae: 1.6651 - mse: 4.4381 - val_loss: 0.7004 - val_mae: 0.7004 - val_mse: 0.9881\n",
            "Epoch 74/100\n",
            "22/22 [==============================] - ETA: 0s - loss: 1.0263 - mae: 1.0263 - mse: 2.3132\n",
            "Epoch 74: val_loss did not improve from 0.69950\n",
            "22/22 [==============================] - 0s 18ms/step - loss: 1.0263 - mae: 1.0263 - mse: 2.3132 - val_loss: 0.8034 - val_mae: 0.8034 - val_mse: 1.1617\n",
            "Epoch 75/100\n",
            "21/22 [===========================>..] - ETA: 0s - loss: 1.4019 - mae: 1.4019 - mse: 3.6556\n",
            "Epoch 75: val_loss did not improve from 0.69950\n",
            "22/22 [==============================] - 0s 16ms/step - loss: 1.4014 - mae: 1.4014 - mse: 3.6518 - val_loss: 1.3873 - val_mae: 1.3873 - val_mse: 2.6028\n",
            "Epoch 76/100\n",
            "21/22 [===========================>..] - ETA: 0s - loss: 1.8621 - mae: 1.8621 - mse: 5.0114\n",
            "Epoch 76: val_loss did not improve from 0.69950\n",
            "22/22 [==============================] - 0s 16ms/step - loss: 1.8616 - mae: 1.8616 - mse: 5.0079 - val_loss: 1.1764 - val_mae: 1.1764 - val_mse: 1.9910\n",
            "Epoch 77/100\n",
            "20/22 [==========================>...] - ETA: 0s - loss: 1.6214 - mae: 1.6214 - mse: 4.2278\n",
            "Epoch 77: val_loss did not improve from 0.69950\n",
            "22/22 [==============================] - 0s 19ms/step - loss: 1.5898 - mae: 1.5898 - mse: 4.0992 - val_loss: 1.1297 - val_mae: 1.1297 - val_mse: 1.8977\n",
            "Epoch 78/100\n",
            "19/22 [========================>.....] - ETA: 0s - loss: 1.7081 - mae: 1.7081 - mse: 4.6521\n",
            "Epoch 78: val_loss did not improve from 0.69950\n",
            "22/22 [==============================] - 0s 20ms/step - loss: 1.6920 - mae: 1.6920 - mse: 4.5592 - val_loss: 0.8620 - val_mae: 0.8620 - val_mse: 1.2871\n",
            "Epoch 79/100\n",
            "19/22 [========================>.....] - ETA: 0s - loss: 1.1381 - mae: 1.1381 - mse: 2.5839\n",
            "Epoch 79: val_loss did not improve from 0.69950\n",
            "22/22 [==============================] - 0s 17ms/step - loss: 1.1761 - mae: 1.1761 - mse: 2.7424 - val_loss: 0.7152 - val_mae: 0.7152 - val_mse: 1.0104\n",
            "Epoch 80/100\n",
            "18/22 [=======================>......] - ETA: 0s - loss: 1.4893 - mae: 1.4893 - mse: 3.7588\n",
            "Epoch 80: val_loss did not improve from 0.69950\n",
            "22/22 [==============================] - 0s 17ms/step - loss: 1.4328 - mae: 1.4328 - mse: 3.6270 - val_loss: 1.1278 - val_mae: 1.1278 - val_mse: 1.8882\n",
            "Epoch 81/100\n",
            "22/22 [==============================] - ETA: 0s - loss: 1.6452 - mae: 1.6452 - mse: 4.2917\n",
            "Epoch 81: val_loss did not improve from 0.69950\n",
            "22/22 [==============================] - 0s 17ms/step - loss: 1.6452 - mae: 1.6452 - mse: 4.2917 - val_loss: 1.0898 - val_mae: 1.0898 - val_mse: 1.7828\n",
            "Epoch 82/100\n",
            "20/22 [==========================>...] - ETA: 0s - loss: 1.7023 - mae: 1.7023 - mse: 4.4464\n",
            "Epoch 82: val_loss did not improve from 0.69950\n",
            "22/22 [==============================] - 0s 14ms/step - loss: 1.7198 - mae: 1.7198 - mse: 4.5030 - val_loss: 1.1271 - val_mae: 1.1271 - val_mse: 1.8879\n",
            "Epoch 83/100\n",
            "20/22 [==========================>...] - ETA: 0s - loss: 1.6753 - mae: 1.6753 - mse: 4.3238\n",
            "Epoch 83: val_loss did not improve from 0.69950\n",
            "22/22 [==============================] - 0s 15ms/step - loss: 1.6840 - mae: 1.6840 - mse: 4.3564 - val_loss: 0.7952 - val_mae: 0.7952 - val_mse: 1.1465\n",
            "Epoch 84/100\n",
            "16/22 [====================>.........] - ETA: 0s - loss: 1.1663 - mae: 1.1663 - mse: 2.7757\n",
            "Epoch 84: val_loss improved from 0.69950 to 0.67978, saving model to /content/drive/MyDrive/Best_Models_Projects/Amazon_1d_Best_Model/model_2_multivariate\n"
          ]
        },
        {
          "output_type": "stream",
          "name": "stderr",
          "text": [
            "WARNING:absl:Found untraced functions such as _update_step_xla while saving (showing 1 of 1). These functions will not be directly callable after loading.\n"
          ]
        },
        {
          "output_type": "stream",
          "name": "stdout",
          "text": [
            "\b\b\b\b\b\b\b\b\b\b\b\b\b\b\b\b\b\b\b\b\b\b\b\b\b\b\b\b\b\b\b\b\b\b\b\b\b\b\b\b\b\b\b\b\b\b\b\b\b\b\b\b\b\b\b\b\b\b\b\b\b\b\b\b\b\b\b\b\b\b\b\b\b\b\b\b\b\b\b\b\b\b\b\b\b\b\b\b\b\b\b\r22/22 [==============================] - 3s 136ms/step - loss: 1.1194 - mae: 1.1194 - mse: 2.5925 - val_loss: 0.6798 - val_mae: 0.6798 - val_mse: 0.9499\n",
            "Epoch 85/100\n",
            "19/22 [========================>.....] - ETA: 0s - loss: 1.4701 - mae: 1.4701 - mse: 3.6940\n",
            "Epoch 85: val_loss did not improve from 0.67978\n",
            "22/22 [==============================] - 0s 15ms/step - loss: 1.4523 - mae: 1.4523 - mse: 3.6174 - val_loss: 2.0696 - val_mae: 2.0696 - val_mse: 5.0811\n",
            "Epoch 86/100\n",
            "21/22 [===========================>..] - ETA: 0s - loss: 2.6269 - mae: 2.6269 - mse: 10.2818\n",
            "Epoch 86: val_loss did not improve from 0.67978\n",
            "22/22 [==============================] - 0s 17ms/step - loss: 2.6255 - mae: 2.6255 - mse: 10.2701 - val_loss: 0.6974 - val_mae: 0.6974 - val_mse: 0.9831\n",
            "Epoch 87/100\n",
            "19/22 [========================>.....] - ETA: 0s - loss: 1.4959 - mae: 1.4959 - mse: 3.7755\n",
            "Epoch 87: val_loss did not improve from 0.67978\n",
            "22/22 [==============================] - 0s 15ms/step - loss: 1.5308 - mae: 1.5308 - mse: 3.8332 - val_loss: 0.8971 - val_mae: 0.8971 - val_mse: 1.3567\n",
            "Epoch 88/100\n",
            "19/22 [========================>.....] - ETA: 0s - loss: 1.5911 - mae: 1.5911 - mse: 4.0424\n",
            "Epoch 88: val_loss did not improve from 0.67978\n",
            "22/22 [==============================] - 0s 14ms/step - loss: 1.5956 - mae: 1.5956 - mse: 4.0153 - val_loss: 1.2679 - val_mae: 1.2679 - val_mse: 2.2644\n",
            "Epoch 89/100\n",
            "22/22 [==============================] - ETA: 0s - loss: 1.2733 - mae: 1.2733 - mse: 3.0764\n",
            "Epoch 89: val_loss did not improve from 0.67978\n",
            "22/22 [==============================] - 0s 17ms/step - loss: 1.2733 - mae: 1.2733 - mse: 3.0764 - val_loss: 0.6957 - val_mae: 0.6957 - val_mse: 0.9759\n",
            "Epoch 90/100\n",
            "21/22 [===========================>..] - ETA: 0s - loss: 1.0073 - mae: 1.0073 - mse: 2.2509\n",
            "Epoch 90: val_loss did not improve from 0.67978\n",
            "22/22 [==============================] - 0s 19ms/step - loss: 1.0073 - mae: 1.0073 - mse: 2.2498 - val_loss: 0.6843 - val_mae: 0.6843 - val_mse: 0.9559\n",
            "Epoch 91/100\n",
            "21/22 [===========================>..] - ETA: 0s - loss: 1.0747 - mae: 1.0747 - mse: 2.4159\n",
            "Epoch 91: val_loss did not improve from 0.67978\n",
            "22/22 [==============================] - 0s 13ms/step - loss: 1.0757 - mae: 1.0757 - mse: 2.4172 - val_loss: 0.7745 - val_mae: 0.7745 - val_mse: 1.1040\n",
            "Epoch 92/100\n",
            "20/22 [==========================>...] - ETA: 0s - loss: 1.5373 - mae: 1.5373 - mse: 3.9780\n",
            "Epoch 92: val_loss did not improve from 0.67978\n",
            "22/22 [==============================] - 0s 15ms/step - loss: 1.5699 - mae: 1.5699 - mse: 4.0854 - val_loss: 1.9778 - val_mae: 1.9778 - val_mse: 4.6846\n",
            "Epoch 93/100\n",
            "21/22 [===========================>..] - ETA: 0s - loss: 1.8808 - mae: 1.8808 - mse: 5.5830\n",
            "Epoch 93: val_loss did not improve from 0.67978\n",
            "22/22 [==============================] - 0s 13ms/step - loss: 1.8779 - mae: 1.8779 - mse: 5.5730 - val_loss: 2.1429 - val_mae: 2.1429 - val_mse: 5.3914\n",
            "Epoch 94/100\n",
            "15/22 [===================>..........] - ETA: 0s - loss: 1.9861 - mae: 1.9861 - mse: 6.0138\n",
            "Epoch 94: val_loss did not improve from 0.67978\n",
            "22/22 [==============================] - 0s 13ms/step - loss: 1.8643 - mae: 1.8643 - mse: 5.3558 - val_loss: 1.5902 - val_mae: 1.5902 - val_mse: 3.2486\n",
            "Epoch 95/100\n",
            "16/22 [====================>.........] - ETA: 0s - loss: 1.6452 - mae: 1.6452 - mse: 4.2679\n",
            "Epoch 95: val_loss did not improve from 0.67978\n",
            "22/22 [==============================] - 0s 11ms/step - loss: 1.6156 - mae: 1.6156 - mse: 4.1389 - val_loss: 1.6841 - val_mae: 1.6841 - val_mse: 3.5923\n",
            "Epoch 96/100\n",
            "20/22 [==========================>...] - ETA: 0s - loss: 1.7474 - mae: 1.7474 - mse: 4.7712\n",
            "Epoch 96: val_loss did not improve from 0.67978\n",
            "22/22 [==============================] - 0s 18ms/step - loss: 1.7464 - mae: 1.7464 - mse: 4.7467 - val_loss: 2.2971 - val_mae: 2.2971 - val_mse: 6.1420\n",
            "Epoch 97/100\n",
            "15/22 [===================>..........] - ETA: 0s - loss: 2.8835 - mae: 2.8835 - mse: 11.2365\n",
            "Epoch 97: val_loss did not improve from 0.67978\n",
            "22/22 [==============================] - 0s 14ms/step - loss: 2.9246 - mae: 2.9246 - mse: 11.4580 - val_loss: 2.4814 - val_mae: 2.4814 - val_mse: 7.0071\n",
            "Epoch 98/100\n",
            "19/22 [========================>.....] - ETA: 0s - loss: 2.9365 - mae: 2.9365 - mse: 11.2872\n",
            "Epoch 98: val_loss did not improve from 0.67978\n",
            "22/22 [==============================] - 0s 16ms/step - loss: 2.8827 - mae: 2.8827 - mse: 10.9179 - val_loss: 1.0793 - val_mae: 1.0793 - val_mse: 1.7640\n",
            "Epoch 99/100\n",
            "20/22 [==========================>...] - ETA: 0s - loss: 2.7802 - mae: 2.7802 - mse: 10.2456\n",
            "Epoch 99: val_loss did not improve from 0.67978\n",
            "22/22 [==============================] - 0s 17ms/step - loss: 2.8391 - mae: 2.8391 - mse: 10.6280 - val_loss: 1.5278 - val_mae: 1.5278 - val_mse: 3.0588\n",
            "Epoch 100/100\n",
            "21/22 [===========================>..] - ETA: 0s - loss: 2.6899 - mae: 2.6899 - mse: 9.7295 \n",
            "Epoch 100: val_loss did not improve from 0.67978\n",
            "22/22 [==============================] - 0s 19ms/step - loss: 2.6918 - mae: 2.6918 - mse: 9.7453 - val_loss: 2.4024 - val_mae: 2.4024 - val_mse: 6.6340\n"
          ]
        }
      ]
    },
    {
      "cell_type": "code",
      "source": [
        "# Load the best model \n",
        "model_2 = tf.keras.models.load_model(\"/content/drive/MyDrive/Best_Models_Projects/Amazon_1d_Best_Model/model_2_multivariate\")\n",
        "model_2.evaluate(X_test , Y_test)"
      ],
      "metadata": {
        "colab": {
          "base_uri": "https://localhost:8080/"
        },
        "id": "j_5jKSA-Auy2",
        "outputId": "c6489e68-c413-4c36-80bd-8128e0632f7e"
      },
      "execution_count": null,
      "outputs": [
        {
          "output_type": "stream",
          "name": "stdout",
          "text": [
            "22/22 [==============================] - 0s 3ms/step - loss: 0.6798 - mae: 0.6798 - mse: 0.9499\n"
          ]
        },
        {
          "output_type": "execute_result",
          "data": {
            "text/plain": [
              "[0.6797840595245361, 0.6797840595245361, 0.9499372243881226]"
            ]
          },
          "metadata": {},
          "execution_count": 27
        }
      ]
    },
    {
      "cell_type": "code",
      "source": [
        "# Forecast with model_1\n",
        "model_2_preds = tf.squeeze(model_2.predict(X_test))\n",
        "model_2_preds[10:]"
      ],
      "metadata": {
        "colab": {
          "base_uri": "https://localhost:8080/"
        },
        "id": "ibSlKBq5AvX1",
        "outputId": "61ccd252-1f88-4c41-83c4-54e034a7bf51"
      },
      "execution_count": null,
      "outputs": [
        {
          "output_type": "stream",
          "name": "stdout",
          "text": [
            "22/22 [==============================] - 0s 2ms/step\n"
          ]
        },
        {
          "output_type": "execute_result",
          "data": {
            "text/plain": [
              "<tf.Tensor: shape=(664,), dtype=float32, numpy=\n",
              "array([100.25446 ,  99.166626,  99.38979 ,  99.62959 ,  99.59467 ,\n",
              "        99.22601 ,  98.88898 ,  99.58292 , 100.19572 ,  99.52935 ,\n",
              "        99.0281  ,  98.685326,  98.814804,  98.45956 ,  97.383606,\n",
              "        96.79661 ,  97.262665,  97.29107 ,  97.06435 ,  96.62694 ,\n",
              "        96.26695 ,  96.0063  ,  95.465126,  95.45737 ,  95.34136 ,\n",
              "        94.93118 ,  94.36651 ,  94.131424,  94.10977 ,  93.580986,\n",
              "        93.13113 ,  92.900276,  93.043945,  93.30482 ,  93.37202 ,\n",
              "        92.58398 ,  91.60511 ,  91.38345 ,  91.37499 ,  91.67557 ,\n",
              "        91.75693 ,  91.97324 ,  92.28838 ,  92.53428 ,  92.76418 ,\n",
              "        92.93751 ,  93.02867 ,  93.060555,  93.32597 ,  93.71504 ,\n",
              "        94.12032 ,  94.151634,  93.95339 ,  94.217636,  94.48133 ,\n",
              "        94.47332 ,  94.34223 ,  94.09371 ,  94.06153 ,  94.29813 ,\n",
              "        94.43016 ,  94.52036 ,  94.467804,  94.246605,  93.992935,\n",
              "        93.89745 ,  93.63714 ,  92.83832 ,  92.2487  ,  92.013435,\n",
              "        91.82413 ,  92.016   ,  92.089134,  92.12335 ,  92.1061  ,\n",
              "        91.83715 ,  92.14515 ,  93.50614 ,  95.03838 ,  95.5582  ,\n",
              "        95.81648 ,  95.95197 ,  96.46412 ,  96.37171 ,  96.0799  ,\n",
              "        95.90806 ,  95.58936 ,  95.12677 ,  94.59583 ,  94.56628 ,\n",
              "        94.389534,  94.21991 ,  94.09613 ,  93.810974,  93.20547 ,\n",
              "        92.45832 ,  91.96811 ,  91.48158 ,  91.191765,  90.77543 ,\n",
              "        90.372795,  89.70198 ,  89.012024,  88.830986,  88.278854,\n",
              "        87.941055,  87.76074 ,  87.71188 ,  87.686874,  87.52248 ,\n",
              "        87.56951 ,  87.96521 ,  88.22175 ,  88.21355 ,  88.59611 ,\n",
              "        89.31335 ,  89.87258 ,  89.8465  ,  90.158394,  90.307526,\n",
              "        90.51564 ,  90.73477 ,  90.17919 ,  89.94265 ,  89.942924,\n",
              "        89.664345,  89.7227  ,  89.65266 ,  89.313286,  88.99273 ,\n",
              "        88.77254 ,  88.821205,  88.97129 ,  89.24381 ,  89.68107 ,\n",
              "        90.48253 ,  91.81867 ,  92.75369 ,  92.18627 ,  92.035904,\n",
              "        92.639534,  92.78732 ,  93.02379 ,  93.20066 ,  93.2063  ,\n",
              "        92.97776 ,  92.563126,  92.08244 ,  91.631096,  91.26364 ,\n",
              "        90.226906,  88.71662 ,  88.16908 ,  87.867165,  87.561905,\n",
              "        87.599335,  87.615364,  87.38317 ,  87.11491 ,  87.01181 ,\n",
              "        86.94406 ,  86.900024,  86.97375 ,  87.16872 ,  86.84443 ,\n",
              "        86.0197  ,  85.46574 ,  85.390396,  85.15389 ,  84.77271 ,\n",
              "        84.83422 ,  85.11103 ,  85.11146 ,  84.96841 ,  85.37095 ,\n",
              "        85.33279 ,  85.31994 ,  85.46985 ,  85.73991 ,  86.34217 ,\n",
              "        86.63679 ,  86.77613 ,  86.94919 ,  87.062386,  86.79572 ,\n",
              "        85.82615 ,  84.59663 ,  83.94633 ,  83.127754,  82.836205,\n",
              "        83.01982 ,  83.21748 ,  83.56257 ,  83.84765 ,  84.11354 ,\n",
              "        84.46313 ,  84.74128 ,  85.13142 ,  85.25399 ,  84.96028 ,\n",
              "        84.702896,  84.519226,  84.072945,  83.7468  ,  83.51236 ,\n",
              "        83.24094 ,  82.90929 ,  82.511375,  82.15313 ,  82.13064 ,\n",
              "        82.164024,  81.89801 ,  81.96476 ,  82.532166,  83.20898 ,\n",
              "        83.4489  ,  83.70934 ,  83.95275 ,  84.26468 ,  84.31087 ,\n",
              "        83.81198 ,  83.34851 ,  83.27441 ,  83.12834 ,  82.95576 ,\n",
              "        83.07874 ,  83.515785,  84.25863 ,  84.6688  ,  84.699066,\n",
              "        84.88244 ,  85.42507 ,  85.9278  ,  85.96872 ,  85.359116,\n",
              "        85.201035,  85.77629 ,  85.77358 ,  85.42279 ,  85.1003  ,\n",
              "        85.02123 ,  84.47213 ,  83.88315 ,  83.81006 ,  83.71234 ,\n",
              "        83.63857 ,  83.413246,  83.080986,  82.96783 ,  83.41961 ,\n",
              "        84.21636 ,  84.74975 ,  85.153915,  85.60411 ,  86.20483 ,\n",
              "        87.37973 ,  88.73781 ,  89.15439 ,  89.36017 ,  89.290924,\n",
              "        88.68882 ,  88.53824 ,  89.02797 ,  89.51358 ,  89.47498 ,\n",
              "        89.731514,  89.81141 ,  89.660904,  90.17592 ,  91.71246 ,\n",
              "        93.10865 ,  93.52812 ,  94.01827 ,  94.30708 ,  94.788734,\n",
              "        95.3861  ,  95.50766 ,  95.460266,  95.44048 ,  95.46778 ,\n",
              "        95.29461 ,  95.37562 ,  95.38681 ,  95.795815,  96.15042 ,\n",
              "        96.34141 ,  97.16987 ,  97.65671 ,  97.96183 ,  98.00837 ,\n",
              "        97.492874,  96.832886,  96.645226,  96.657265,  96.23374 ,\n",
              "        96.02681 ,  96.18516 ,  96.92112 ,  97.17835 ,  96.127205,\n",
              "        96.037224,  95.90246 ,  95.70527 ,  95.344635,  94.370964,\n",
              "        93.44147 ,  93.08704 ,  93.14999 ,  93.296135,  93.36195 ,\n",
              "        93.26404 ,  93.91609 ,  94.80896 ,  95.106384,  95.324684,\n",
              "        95.866394,  96.606125,  97.06716 ,  97.37862 ,  97.51626 ,\n",
              "        97.54376 ,  97.716705,  97.6939  ,  97.48858 ,  97.48495 ,\n",
              "        97.298744,  97.137344,  97.333176,  97.15854 ,  96.91806 ,\n",
              "        96.78864 ,  96.09606 ,  94.6325  ,  93.95784 ,  94.728355,\n",
              "        94.90154 ,  95.51    ,  95.91375 ,  96.472404,  97.526184,\n",
              "        97.91459 ,  97.802635,  98.13767 ,  98.350044,  98.754906,\n",
              "        99.43492 , 100.60827 , 101.72298 , 101.90912 , 102.25553 ,\n",
              "       102.62984 , 103.09538 , 102.84236 , 101.729416, 101.06078 ,\n",
              "       101.20791 , 101.17048 , 100.9714  , 100.63697 , 100.66085 ,\n",
              "       101.56474 , 102.39795 , 102.12671 , 102.051544, 102.235695,\n",
              "       102.38754 , 102.62878 , 102.38006 , 101.876854, 102.07895 ,\n",
              "       102.27657 , 102.71332 , 103.83692 , 105.256966, 107.38619 ,\n",
              "       110.09676 , 111.28469 , 112.5162  , 113.08305 , 113.18931 ,\n",
              "       113.06881 , 111.057205, 108.98125 , 108.673805, 107.050156,\n",
              "       105.162025, 103.96177 , 102.65974 , 101.7528  , 101.033646,\n",
              "       100.89989 , 100.76983 , 100.90834 , 101.013016, 100.6289  ,\n",
              "        99.77852 ,  98.88239 ,  98.941   ,  98.552086,  98.814606,\n",
              "       100.01028 , 100.681496, 100.48442 ,  99.798706,  99.67849 ,\n",
              "       100.07299 , 100.05881 , 100.20281 , 100.20201 , 100.007545,\n",
              "        99.87704 ,  99.486084,  99.24506 ,  98.8368  ,  98.41068 ,\n",
              "        98.29623 ,  98.20697 ,  97.7749  ,  97.13911 ,  96.96724 ,\n",
              "        97.06069 ,  97.011116,  97.33568 ,  97.64865 ,  98.24382 ,\n",
              "        98.89179 ,  99.04882 ,  99.20533 ,  99.282074,  99.568474,\n",
              "        99.76818 ,  99.223885,  98.76873 ,  98.99664 ,  99.113556,\n",
              "        99.32356 ,  99.53356 ,  99.374306,  99.45487 ,  99.77606 ,\n",
              "       100.00325 , 100.54815 , 100.82543 , 100.82228 , 100.64855 ,\n",
              "       100.24901 , 100.2791  ,  99.98112 ,  99.74199 ,  99.314125,\n",
              "        98.336365,  97.36235 ,  96.29816 ,  95.86448 ,  95.69604 ,\n",
              "        95.62252 ,  95.926636,  96.032585,  95.30639 ,  94.48689 ,\n",
              "        94.43568 ,  94.26132 ,  94.270424,  94.327324,  94.37942 ,\n",
              "        94.87278 ,  95.55112 ,  95.81427 ,  95.91865 ,  95.89174 ,\n",
              "        95.75636 ,  95.88476 ,  95.68678 ,  95.13669 ,  94.744255,\n",
              "        94.73543 ,  95.21443 ,  95.68579 ,  95.50477 ,  94.3771  ,\n",
              "        93.414986,  93.34324 ,  93.00373 ,  92.87037 ,  92.84014 ,\n",
              "        92.94389 ,  93.51419 ,  93.65169 ,  93.54738 ,  93.73301 ,\n",
              "        93.74191 ,  93.686356,  93.68199 ,  93.54219 ,  93.437035,\n",
              "        93.75615 ,  94.0716  ,  94.351204,  94.290474,  94.09634 ,\n",
              "        93.70427 ,  93.03968 ,  92.89658 ,  92.58242 ,  92.02413 ,\n",
              "        91.89686 ,  91.85797 ,  91.560104,  91.048706,  90.69008 ,\n",
              "        90.696686,  90.973404,  91.293785,  91.85007 ,  93.05033 ,\n",
              "        93.90706 ,  93.97183 ,  94.40448 ,  94.72885 ,  95.05691 ,\n",
              "        95.381584,  95.73813 ,  96.223335,  96.39904 ,  96.10961 ,\n",
              "        95.38588 ,  94.84182 ,  94.3347  ,  93.95884 ,  93.881035,\n",
              "        94.076744,  94.06676 ,  93.657486,  93.45497 ,  93.27412 ,\n",
              "        93.11842 ,  93.03009 ,  93.05738 ,  92.91832 ,  92.98029 ,\n",
              "        93.27211 ,  93.61402 ,  94.50722 ,  95.07922 ,  94.93104 ,\n",
              "        94.60316 ,  93.74817 ,  93.159706,  92.6471  ,  92.3384  ,\n",
              "        92.37028 ,  92.09373 ,  91.17269 ,  90.7907  ,  90.73925 ,\n",
              "        90.51442 ,  90.5823  ,  91.3331  ,  92.25788 ,  92.440735,\n",
              "        92.892235,  93.09128 ,  92.90095 ,  93.74818 ,  94.489876,\n",
              "        94.36342 ,  94.26949 ,  94.25624 ,  94.265564,  94.46867 ,\n",
              "        94.51385 ,  94.23325 ,  94.75363 ,  95.23822 ,  95.74033 ,\n",
              "        96.13306 ,  96.313896,  97.36287 ,  98.79385 ,  99.82536 ,\n",
              "       100.303535, 100.612114, 100.67748 , 100.565926,  99.97083 ,\n",
              "        99.096146,  98.807045,  98.714165,  98.58468 ,  98.60749 ,\n",
              "        98.34932 ,  97.41506 ,  96.85873 ,  96.90151 ,  96.33029 ,\n",
              "        96.52203 ,  96.660164,  96.857605,  97.58348 ,  98.149895,\n",
              "        98.758095,  99.326385,  99.789825, 100.26983 , 100.52122 ,\n",
              "       100.61498 , 100.56852 , 100.42886 , 100.42277 , 100.822   ,\n",
              "       100.81758 , 100.0392  ,  99.830215, 100.29465 , 100.060905,\n",
              "        99.82827 ,  99.09081 ,  98.37264 ,  98.28414 ,  97.83516 ,\n",
              "        97.159904,  96.92925 ,  96.908005,  97.15017 ,  97.46685 ,\n",
              "        97.66557 ,  97.9187  ,  97.91787 ,  97.59129 ,  97.5874  ,\n",
              "        97.802376,  98.142784,  98.08872 ,  97.85384 ,  97.69096 ,\n",
              "        97.45072 ,  97.299545,  97.0889  ,  96.8496  ,  97.21501 ,\n",
              "        98.1175  ,  99.05865 ,  99.42632 ,  99.71462 ,  99.95907 ,\n",
              "       100.25579 , 100.78033 , 101.61602 , 102.382126, 102.27005 ,\n",
              "       102.20205 , 102.13154 , 102.2103  , 102.40901 , 102.55187 ,\n",
              "       102.85052 , 103.02995 , 103.072815, 103.06555 , 103.16978 ,\n",
              "       103.27075 , 103.08785 , 102.649506, 102.26279 ], dtype=float32)>"
            ]
          },
          "metadata": {},
          "execution_count": 28
        }
      ]
    },
    {
      "cell_type": "code",
      "source": [
        "# Evaluate the predictions\n",
        "model_2_results = evaluate_preds(y_true = Y_test , y_pred = model_2_preds)\n",
        "model_2_results"
      ],
      "metadata": {
        "colab": {
          "base_uri": "https://localhost:8080/"
        },
        "id": "tFKw6VwsAz2o",
        "outputId": "99b6577d-65a1-43d6-bac4-096f424bda1d"
      },
      "execution_count": null,
      "outputs": [
        {
          "output_type": "execute_result",
          "data": {
            "text/plain": [
              "{'mae': 0.67978406,\n",
              " 'mse': 0.94993705,\n",
              " 'rmse': 0.9746471,\n",
              " 'mape': 0.71558326,\n",
              " 'mase': 1.1469251}"
            ]
          },
          "metadata": {},
          "execution_count": 29
        }
      ]
    },
    {
      "cell_type": "markdown",
      "source": [
        "## Here we have got the MSE of 93% "
      ],
      "metadata": {
        "id": "FarMpt4yIi77"
      }
    },
    {
      "cell_type": "markdown",
      "source": [
        "# Saving the model \n",
        "## we have already saved the model with the best Epoch so we already have it but we will save using `pickle`"
      ],
      "metadata": {
        "id": "rSY-VFqDIvaD"
      }
    },
    {
      "cell_type": "code",
      "source": [
        "import pickle\n",
        "\n",
        "file_path = '/content/drive/MyDrive/Best_Models_Projects/Amazon_1d_Best_Model/model_2_multivariate.pkl'\n",
        "\n",
        "\n",
        "with open(file_path, 'wb') as file:\n",
        "    pickle.dump(model_2, file)\n",
        "    file.close()"
      ],
      "metadata": {
        "id": "jD17E9kPLRmA"
      },
      "execution_count": null,
      "outputs": []
    }
  ]
}